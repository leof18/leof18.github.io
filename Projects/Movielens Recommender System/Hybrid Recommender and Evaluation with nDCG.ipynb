{
 "cells": [
  {
   "cell_type": "markdown",
   "source": "# Building a Weighted Hybrid Recommender",
   "metadata": {
    "tags": [],
    "cell_id": "00000-352ade66-13e6-48bb-b850-f995ad352af8",
    "deepnote_cell_type": "markdown"
   }
  },
  {
   "cell_type": "code",
   "metadata": {
    "deepnote_to_be_reexecuted": false,
    "execution_millis": 2484,
    "execution_start": 1637244215584,
    "source_hash": "dfb9ee99",
    "tags": [],
    "cell_id": "00001-9d7d993a-6c82-41a7-be5a-6b89aa2ab85f",
    "deepnote_cell_type": "code"
   },
   "source": "import numpy as np\nimport pandas as pd\nimport matplotlib.pyplot as plt\n%matplotlib inline\nfrom surprise import Dataset, Reader, SVD\nfrom surprise.model_selection import cross_validate, train_test_split\nfrom surprise.accuracy import rmse\nfrom sklearn.impute import SimpleImputer\nfrom sklearn.model_selection import RandomizedSearchCV\nfrom sklearn.preprocessing import OneHotEncoder, StandardScaler\nfrom sklearn.compose import ColumnTransformer\nfrom sklearn.ensemble import RandomForestRegressor\nfrom sklearn.metrics import mean_squared_error, ndcg_score\nfrom sklearn.pipeline import Pipeline\nRANDOM_STATE = 18\nimport joblib",
   "execution_count": 78,
   "outputs": []
  },
  {
   "cell_type": "markdown",
   "source": "### Creating Data Sets",
   "metadata": {
    "tags": [],
    "cell_id": "00002-019b4ebf-7540-4681-bb28-88dee72f5ccb",
    "deepnote_cell_type": "markdown"
   }
  },
  {
   "cell_type": "code",
   "metadata": {
    "deepnote_to_be_reexecuted": false,
    "execution_millis": 2244,
    "execution_start": 1637232652983,
    "scrolled": true,
    "source_hash": "6975f331",
    "tags": [],
    "cell_id": "00003-822a8ade-6407-4e1f-b3f0-eb4682e46fb5",
    "deepnote_cell_type": "code"
   },
   "source": "# Import Data\ndf = pd.read_csv('data/ratings.csv')\nfeatures = pd.read_csv('data/data_content_based_v1.csv', index_col=0)\n\n# Select only features that we found were relevant\nfeatures.drop(['rating','ratings2','sample_ratings','outlier','title','zip_code','place_name'], 1, inplace=True)\n\n# Create train and test in Surprise fashion\nreader = Reader(rating_scale=(1, 5))\ndata = Dataset.load_from_df(df[['userId', 'movieId', 'rating']], reader)\ntrainset, testset = train_test_split(data, test_size=0.2, random_state=RANDOM_STATE)\n\n# Use surprise train and test split to build dataset for content based with features (important to keep the same split)\ntrain = pd.DataFrame(trainset.all_ratings(), columns=['userId', 'movieId', 'rating'])\ntest = pd.DataFrame(testset, columns=['userId', 'movieId', 'rating'])\n\n# Transfrom inner IDs back to actual IDs\ntrain['userId'] = [trainset.to_raw_uid(i) for i in train.userId]\ntrain['movieId'] = [trainset.to_raw_iid(i) for i in train.movieId]\n\n# Merge features to trainset for content based\ntrain_withId = train\ntest_withId = test\nX_train = train.merge(features, how='left', on=['userId','movieId']).drop(['userId','movieId','rating'],1)\nX_test = test.merge(features, how='left', on=['userId','movieId']).drop(['userId','movieId','rating'],1)\n\ny_train = pd.DataFrame(trainset.all_ratings(), columns=['userId', 'movieId', 'rating'])['rating']\ny_test = pd.DataFrame(testset, columns=['userId', 'movieId', 'rating'])['rating']",
   "execution_count": 23,
   "outputs": [
    {
     "name": "stderr",
     "output_type": "stream",
     "text": "C:\\Users\\leofr\\AppData\\Local\\Temp/ipykernel_14908/1407154820.py:6: FutureWarning: In a future version of pandas all arguments of DataFrame.drop except for the argument 'labels' will be keyword-only\n  features.drop(['rating','ratings2','sample_ratings','outlier','title','zip_code','place_name'], 1, inplace=True)\nC:\\Users\\leofr\\AppData\\Local\\Temp/ipykernel_14908/1407154820.py:24: FutureWarning: In a future version of pandas all arguments of DataFrame.drop except for the argument 'labels' will be keyword-only\n  X_train = train.merge(features, how='left', on=['userId','movieId']).drop(['userId','movieId','rating'],1)\nC:\\Users\\leofr\\AppData\\Local\\Temp/ipykernel_14908/1407154820.py:25: FutureWarning: In a future version of pandas all arguments of DataFrame.drop except for the argument 'labels' will be keyword-only\n  X_test = test.merge(features, how='left', on=['userId','movieId']).drop(['userId','movieId','rating'],1)\n"
    }
   ]
  },
  {
   "cell_type": "markdown",
   "source": "### Popularity",
   "metadata": {
    "cell_id": "00004-6bc8a916-0604-47ea-9aa0-48d90a7ac957",
    "deepnote_cell_type": "markdown"
   }
  },
  {
   "cell_type": "code",
   "metadata": {
    "cell_id": "00005-9f27382d-73e4-4308-a83a-e4a54ccaa2fd",
    "deepnote_cell_type": "code"
   },
   "source": "def popularity(n, train_withId):\n    pop_data = train_withId.groupby('movieId').rating.agg(['sum','mean'])\n    top_n_movies = pop_data['sum'].nlargest(n).index\n    result = pd.DataFrame({'movieId':top_n_movies}).merge(pop_data, on='movieId', how='inner')[['movieId','mean']]\n    result['mean'] = round(result['mean'], 2)\n    result.columns = ['movieId','pred_rating']\n    return result.reset_index(drop=True)\n\npred_pop = popularity(len(np.unique(train_withId.movieId)),train_withId)",
   "execution_count": 60,
   "outputs": []
  },
  {
   "cell_type": "code",
   "metadata": {
    "cell_id": "00006-cf11f14b-6537-462f-b1c7-9fc8083a1f7d",
    "deepnote_cell_type": "code"
   },
   "source": "pred_pop",
   "execution_count": 61,
   "outputs": [
    {
     "data": {
      "text/html": "<div>\n<style scoped>\n    .dataframe tbody tr th:only-of-type {\n        vertical-align: middle;\n    }\n\n    .dataframe tbody tr th {\n        vertical-align: top;\n    }\n\n    .dataframe thead th {\n        text-align: right;\n    }\n</style>\n<table border=\"1\" class=\"dataframe\">\n  <thead>\n    <tr style=\"text-align: right;\">\n      <th></th>\n      <th>movieId</th>\n      <th>pred_rating</th>\n    </tr>\n  </thead>\n  <tbody>\n    <tr>\n      <th>0</th>\n      <td>318</td>\n      <td>4.42</td>\n    </tr>\n    <tr>\n      <th>1</th>\n      <td>296</td>\n      <td>4.23</td>\n    </tr>\n    <tr>\n      <th>2</th>\n      <td>356</td>\n      <td>4.16</td>\n    </tr>\n    <tr>\n      <th>3</th>\n      <td>2571</td>\n      <td>4.19</td>\n    </tr>\n    <tr>\n      <th>4</th>\n      <td>593</td>\n      <td>4.18</td>\n    </tr>\n    <tr>\n      <th>...</th>\n      <td>...</td>\n      <td>...</td>\n    </tr>\n    <tr>\n      <th>8959</th>\n      <td>95796</td>\n      <td>0.50</td>\n    </tr>\n    <tr>\n      <th>8960</th>\n      <td>53453</td>\n      <td>0.50</td>\n    </tr>\n    <tr>\n      <th>8961</th>\n      <td>54768</td>\n      <td>0.50</td>\n    </tr>\n    <tr>\n      <th>8962</th>\n      <td>5105</td>\n      <td>0.50</td>\n    </tr>\n    <tr>\n      <th>8963</th>\n      <td>82684</td>\n      <td>0.50</td>\n    </tr>\n  </tbody>\n</table>\n<p>8964 rows × 2 columns</p>\n</div>",
      "text/plain": "      movieId  pred_rating\n0         318         4.42\n1         296         4.23\n2         356         4.16\n3        2571         4.19\n4         593         4.18\n...       ...          ...\n8959    95796         0.50\n8960    53453         0.50\n8961    54768         0.50\n8962     5105         0.50\n8963    82684         0.50\n\n[8964 rows x 2 columns]"
     },
     "execution_count": 61,
     "metadata": {},
     "output_type": "execute_result"
    }
   ]
  },
  {
   "cell_type": "code",
   "metadata": {
    "cell_id": "00007-9ea9e8da-cb1c-4737-a919-5c0d9beaf8d8",
    "deepnote_cell_type": "code"
   },
   "source": "pop_result = test_withId.merge(pred_pop, on='movieId', how='inner')[['rating','pred_rating']]",
   "execution_count": 63,
   "outputs": []
  },
  {
   "cell_type": "code",
   "metadata": {
    "cell_id": "00008-b268bd95-bd92-4ec8-813b-347217187a61",
    "deepnote_cell_type": "code"
   },
   "source": "np.sqrt(mean_squared_error(pop_result.rating,pop_result.pred_rating))",
   "execution_count": 64,
   "outputs": [
    {
     "data": {
      "text/plain": "0.9701801664256746"
     },
     "execution_count": 64,
     "metadata": {},
     "output_type": "execute_result"
    }
   ]
  },
  {
   "cell_type": "markdown",
   "source": "### Best Tuned Collaborative Filtering Model (SVD)",
   "metadata": {
    "tags": [],
    "cell_id": "00009-8c41adf3-f847-4647-bb6c-64af77c04c80",
    "deepnote_cell_type": "markdown"
   }
  },
  {
   "cell_type": "code",
   "metadata": {
    "deepnote_output_heights": [
     21
    ],
    "deepnote_to_be_reexecuted": false,
    "execution_millis": 14322,
    "execution_start": 1637232157572,
    "source_hash": "d66037fe",
    "tags": [],
    "cell_id": "00010-9a2c3903-7841-4a05-82bb-77239aa3fb71",
    "deepnote_cell_type": "code"
   },
   "source": "svd_params = {'n_factors': 100, 'n_epochs': 30, 'lr_all': 0.01, 'reg_all': 0.1}\n\nsvd_model = SVD(\n    n_factors=svd_params['n_factors'],\n    n_epochs=svd_params['n_epochs'],\n    lr_all=svd_params['lr_all'],\n    reg_all=svd_params['reg_all']\n    )\n    \nsvd = svd_model.fit(trainset)",
   "execution_count": 79,
   "outputs": []
  },
  {
   "cell_type": "code",
   "metadata": {
    "scrolled": true,
    "cell_id": "00011-94c88b2d-09ce-43d4-ba89-88d10f38d11e",
    "deepnote_cell_type": "code"
   },
   "source": "joblib.dump(svd, 'svd_model.pkl')",
   "execution_count": 81,
   "outputs": [
    {
     "data": {
      "text/plain": "['svd_model.pkl']"
     },
     "execution_count": 81,
     "metadata": {},
     "output_type": "execute_result"
    }
   ]
  },
  {
   "cell_type": "markdown",
   "source": "### Best Tuned Content-Based Model (Random Forest Regressor) ",
   "metadata": {
    "tags": [],
    "cell_id": "00012-345bb4d9-c6e7-4bd8-95e5-c924f4d36f4d",
    "deepnote_cell_type": "markdown"
   }
  },
  {
   "cell_type": "code",
   "metadata": {
    "deepnote_output_heights": [
     606.5
    ],
    "deepnote_to_be_reexecuted": false,
    "execution_millis": 1173,
    "execution_start": 1637233949505,
    "source_hash": "6a3b8c",
    "tags": [],
    "cell_id": "00013-6f13c802-9a67-4df8-b18a-a0f769a21c68",
    "deepnote_cell_type": "code"
   },
   "source": "rf_params = {'n_estimators':110,'max_features':'auto','min_samples_split':24,'max_depth':26}\n\nrf_model = RandomForestRegressor(\n    n_estimators=rf_params['n_estimators'],\n    max_features=rf_params['max_features'],\n    min_samples_split=rf_params['min_samples_split'],\n    max_depth=rf_params['max_depth'],\n    n_jobs=-1\n    )\n\nnumVars = X_train.select_dtypes(include='number').columns.tolist()\ncatVars = X_train.select_dtypes(exclude='number').columns.tolist()\n\nnumeric_pipeline = Pipeline(steps=[\n    ('impute', SimpleImputer(strategy='mean')),\n    ('scale', StandardScaler())\n])\ncategorical_pipeline = Pipeline(steps=[\n    ('impute', SimpleImputer(strategy='most_frequent')),\n    ('one-hot', OneHotEncoder(handle_unknown='ignore', sparse=False))\n])\npreprocess = ColumnTransformer(transformers=[\n    ('number', numeric_pipeline, numVars),\n    ('category', categorical_pipeline, catVars)\n])\nrf_pipe = Pipeline(steps=[\n    ('preprocess', preprocess),\n    ('rf', rf_model)\n])\n\nrf_pipe = rf_pipe.fit(X_train, y_train)",
   "execution_count": 98,
   "outputs": []
  },
  {
   "cell_type": "code",
   "metadata": {
    "cell_id": "00014-46821020-3a61-4a84-9b72-f3ce6a77f6a9",
    "deepnote_cell_type": "code"
   },
   "source": "joblib.dump(rf_pipe, 'rf_pipe_model_best.pkl')",
   "execution_count": 107,
   "outputs": [
    {
     "data": {
      "text/plain": "['rf_pipe_model_best.pkl']"
     },
     "execution_count": 107,
     "metadata": {},
     "output_type": "execute_result"
    }
   ]
  },
  {
   "cell_type": "code",
   "metadata": {
    "cell_id": "00015-9146ee8f-97a1-4578-b8a1-a872ef292d37",
    "deepnote_cell_type": "code"
   },
   "source": "rf_params = {'rf__n_estimators': np.arange(50,150,10),\n             'rf__max_features': ['sqrt', 'auto', 'log2'],\n             'rf__min_samples_split': np.arange(2, 40, 2),\n             'rf__max_depth': np.arange(4, 30, 2)}\n\nrf_search = RandomizedSearchCV(rf_pipe, rf_params, cv=5, scoring = 'neg_root_mean_squared_error', n_iter=20, n_jobs=-1, verbose=2)\n\nrf_search.fit(X_train, y_train)",
   "execution_count": 84,
   "outputs": [
    {
     "name": "stdout",
     "output_type": "stream",
     "text": "Fitting 5 folds for each of 20 candidates, totalling 100 fits\n"
    },
    {
     "data": {
      "text/plain": "RandomizedSearchCV(cv=5,\n                   estimator=Pipeline(steps=[('preprocess',\n                                              ColumnTransformer(transformers=[('number',\n                                                                               Pipeline(steps=[('impute',\n                                                                                                SimpleImputer()),\n                                                                                               ('scale',\n                                                                                                StandardScaler())]),\n                                                                               ['year',\n                                                                                'Action',\n                                                                                'Adventure',\n                                                                                'Animation',\n                                                                                'Children',\n                                                                                'Comedy',\n                                                                                'Crime',\n                                                                                'Documentary',\n                                                                                'Drama',\n                                                                                'Fantasy',\n                                                                                'Film-Noir',\n                                                                                'Horror',\n                                                                                'IMAX',\n                                                                                'Musical',\n                                                                                'Mystery',\n                                                                                'Romance',\n                                                                                'Sci-Fi',\n                                                                                'Thr...\n                                                                    n_jobs=-1))]),\n                   n_iter=20, n_jobs=-1,\n                   param_distributions={'rf__max_depth': array([ 4,  6,  8, 10, 12, 14, 16, 18, 20, 22, 24, 26, 28]),\n                                        'rf__max_features': ['sqrt', 'auto',\n                                                             'log2'],\n                                        'rf__min_samples_split': array([ 2,  4,  6,  8, 10, 12, 14, 16, 18, 20, 22, 24, 26, 28, 30, 32, 34,\n       36, 38]),\n                                        'rf__n_estimators': array([ 50,  60,  70,  80,  90, 100, 110, 120, 130, 140])},\n                   scoring='neg_root_mean_squared_error', verbose=2)"
     },
     "execution_count": 84,
     "metadata": {},
     "output_type": "execute_result"
    }
   ]
  },
  {
   "cell_type": "code",
   "metadata": {
    "cell_id": "00016-00f9535b-8832-43f1-9530-72f206916079",
    "deepnote_cell_type": "code"
   },
   "source": "rf_search.best_params_",
   "execution_count": 85,
   "outputs": [
    {
     "data": {
      "text/plain": "{'rf__n_estimators': 110,\n 'rf__min_samples_split': 24,\n 'rf__max_features': 'sqrt',\n 'rf__max_depth': 26}"
     },
     "execution_count": 85,
     "metadata": {},
     "output_type": "execute_result"
    }
   ]
  },
  {
   "cell_type": "markdown",
   "source": "### Evaluating Individual Models",
   "metadata": {
    "tags": [],
    "cell_id": "00017-a9abe984-459d-484d-9a1a-094cb61245b5",
    "deepnote_cell_type": "markdown"
   }
  },
  {
   "cell_type": "code",
   "metadata": {
    "deepnote_to_be_reexecuted": false,
    "execution_millis": 964,
    "execution_start": 1637234516608,
    "source_hash": "f8c5b23d",
    "tags": [],
    "cell_id": "00018-cdf2fcca-1421-45f9-8c4c-1c8c5c08fc86",
    "deepnote_cell_type": "code"
   },
   "source": "pred_cf = pd.DataFrame(svd_model.test(testset)).est\npred_cb = rf_pipe.predict(X_test)",
   "execution_count": 99,
   "outputs": []
  },
  {
   "cell_type": "code",
   "metadata": {
    "deepnote_to_be_reexecuted": false,
    "execution_millis": 96,
    "execution_start": 1637234678323,
    "source_hash": "30da1992",
    "tags": [],
    "cell_id": "00019-0b4fb4cf-4f97-4de2-be48-79cf9bf5a0d9",
    "deepnote_output_heights": [
     59
    ],
    "deepnote_cell_type": "code"
   },
   "source": "result = pd.Series([np.sqrt(mean_squared_error(y_test,pred_cf)),np.sqrt(mean_squared_error(y_test, pred_cb))], \n                  index = ['Collaborative Filtering','Content-Based'])\nresult",
   "execution_count": 100,
   "outputs": [
    {
     "data": {
      "text/plain": "Collaborative Filtering    0.856962\nContent-Based              0.888943\ndtype: float64"
     },
     "execution_count": 100,
     "metadata": {},
     "output_type": "execute_result"
    }
   ]
  },
  {
   "cell_type": "markdown",
   "source": "### Combining Predictions",
   "metadata": {
    "tags": [],
    "cell_id": "00020-af0d9ef4-278a-4de7-961d-77b24a899526",
    "deepnote_cell_type": "markdown"
   }
  },
  {
   "cell_type": "code",
   "metadata": {
    "cell_id": "00021-7636bb31-0f9a-4856-8949-f9125563688f",
    "deepnote_output_heights": [
     null,
     280
    ],
    "deepnote_cell_type": "code"
   },
   "source": "val = []\nw = np.linspace(0,1,21)\n\nfor i in w:\n    pred = pred_cf*i + pred_cb*(1-i)\n    rmse = np.sqrt(mean_squared_error(y_test,pred))\n    val.append([i, rmse])\nprint('Best Value:', min(val, key=lambda x: x[1]))\nval_np = np.array(val)\nplt.plot(val_np[:, 0], val_np[:,1])\nplt.title('Hybrid Model: Best Weight')\nplt.xlabel('Collaborative Filtering Amount')\nplt.ylabel('RMSE')\nplt.grid();",
   "execution_count": 112,
   "outputs": [
    {
     "name": "stdout",
     "output_type": "stream",
     "text": "Best Value: [0.65, 0.8450247185239582]\n"
    },
    {
     "data": {
      "image/png": "[encoded data removed]",
      "text/plain": "<Figure size 432x288 with 1 Axes>"
     },
     "metadata": {
      "needs_background": "light",
      "image/png": {
       "width": 392,
       "height": 278
      }
     },
     "output_type": "display_data"
    }
   ]
  },
  {
   "cell_type": "code",
   "metadata": {
    "tags": [],
    "cell_id": "00022-eb288f67-d2c4-4008-aea3-d86e106f3fec",
    "deepnote_cell_type": "code"
   },
   "source": "best_weight = 0.65\nfinal_prediction = (best_weight*pd.DataFrame(svd_model.test(testset)).est) + ((1-best_weight)*rf_pipe.predict(X_test))\nresult['Hybrid Approach'] = np.sqrt(mean_squared_error(final_prediction,y_test))",
   "execution_count": 102,
   "outputs": []
  },
  {
   "cell_type": "markdown",
   "source": "### Final RMSE Scores",
   "metadata": {
    "cell_id": "00023-cd393b68-0ec0-43da-9d74-ab9830403a7a",
    "deepnote_cell_type": "markdown"
   }
  },
  {
   "cell_type": "code",
   "metadata": {
    "cell_id": "00024-5b9cf470-1f62-4226-863d-8658d9803820",
    "deepnote_output_heights": [
     119
    ],
    "deepnote_cell_type": "code"
   },
   "source": "pd.DataFrame(result, columns=['RMSE'])",
   "execution_count": 103,
   "outputs": [
    {
     "data": {
      "text/html": "<div>\n<style scoped>\n    .dataframe tbody tr th:only-of-type {\n        vertical-align: middle;\n    }\n\n    .dataframe tbody tr th {\n        vertical-align: top;\n    }\n\n    .dataframe thead th {\n        text-align: right;\n    }\n</style>\n<table border=\"1\" class=\"dataframe\">\n  <thead>\n    <tr style=\"text-align: right;\">\n      <th></th>\n      <th>RMSE</th>\n    </tr>\n  </thead>\n  <tbody>\n    <tr>\n      <th>Collaborative Filtering</th>\n      <td>0.856962</td>\n    </tr>\n    <tr>\n      <th>Content-Based</th>\n      <td>0.888943</td>\n    </tr>\n    <tr>\n      <th>Hybrid Approach</th>\n      <td>0.845025</td>\n    </tr>\n  </tbody>\n</table>\n</div>",
      "text/plain": "                             RMSE\nCollaborative Filtering  0.856962\nContent-Based            0.888943\nHybrid Approach          0.845025"
     },
     "execution_count": 103,
     "metadata": {},
     "output_type": "execute_result"
    }
   ]
  },
  {
   "cell_type": "markdown",
   "source": "### Evaluating Ranking at k using nDCG",
   "metadata": {
    "cell_id": "00025-03de94de-49cf-4e0a-9bcb-87403bad54a9",
    "deepnote_cell_type": "markdown"
   }
  },
  {
   "cell_type": "code",
   "metadata": {
    "cell_id": "00026-501ed9b2-6f6b-43b4-8c97-c97ca6142e7f",
    "deepnote_cell_type": "code"
   },
   "source": "def discountedCumulativeGain(result):\n    dcg = []\n    for idx, val in enumerate(result): \n        numerator = 2**val - 1\n        # add 2 because python 0-index\n        denominator =  np.log2(idx + 2) \n        score = numerator/denominator\n        dcg.append(score)\n    return sum(dcg)\n\ndef normalizedDiscountedCumulativeGain(result, sorted_result): \n    dcg = discountedCumulativeGain(result)\n    idcg = discountedCumulativeGain(sorted_result)\n    ndcg = dcg / idcg\n    return ndcg",
   "execution_count": 174,
   "outputs": []
  },
  {
   "cell_type": "code",
   "metadata": {
    "cell_id": "00027-d0e4e5bf-1e2e-43af-bbc2-b1534a01b03d",
    "deepnote_cell_type": "code"
   },
   "source": "def calculate_ndcg_score(pred_order, actual_order, k):\n        ndcg_scores = []\n        for user in true_ratings.userId.unique():\n            pred = pred_order[pred_order.userId==user].rating[:k]\n            true = actual_order[actual_order.userId==user].rating[:k]\n            ndcg_scores.append(normalizedDiscountedCumulativeGain(pred, true))\n        return np.mean(ndcg_scores)",
   "execution_count": 185,
   "outputs": []
  },
  {
   "cell_type": "markdown",
   "source": "#### Hybrid Model",
   "metadata": {
    "cell_id": "00028-82efa2e7-588b-4fc6-bfae-cb9cec8c062c",
    "deepnote_cell_type": "markdown"
   }
  },
  {
   "cell_type": "code",
   "metadata": {
    "cell_id": "00029-beeb5c29-fd4e-4394-8685-f66877452cc9",
    "deepnote_cell_type": "code"
   },
   "source": "true_ratings = pd.DataFrame(testset, columns=['userId', 'movieId', 'rating'])\npred_ratings = pd.DataFrame({'userId':true_ratings.userId,'movieId':true_ratings.movieId,'pred_rating':final_prediction})\nhybrid_ratings = pred_ratings.merge(true_ratings, on=['movieId','userId'])\npred_order = hybrid_ratings.sort_values('pred_rating', ascending=False)\nactual_order = hybrid_ratings.sort_values('rating', ascending=False)",
   "execution_count": 180,
   "outputs": []
  },
  {
   "cell_type": "code",
   "metadata": {
    "scrolled": true,
    "cell_id": "00030-c960090e-8d6a-49c8-89af-ad71bfb0369b",
    "deepnote_cell_type": "code"
   },
   "source": "print('NDCG@k Hybrid Model')\nhybrid_results = []\nfor k in range(1,6):\n    hybrid_results.append(calculate_ndcg_score(pred_order, actual_order, k=k))\n    print('k:',k, 'ndcg:',calculate_ndcg_score(pred_order, actual_order, k=k))",
   "execution_count": 228,
   "outputs": [
    {
     "name": "stdout",
     "output_type": "stream",
     "text": "NDCG@k Hybrid Model\nk: 1 ndcg: 0.732354876558595\nk: 2 ndcg: 0.7394806417655831\nk: 3 ndcg: 0.7508238615955036\nk: 4 ndcg: 0.7653912915153064\nk: 5 ndcg: 0.7778344855777376\n"
    }
   ]
  },
  {
   "cell_type": "markdown",
   "source": "#### Collaborative Filtering",
   "metadata": {
    "cell_id": "00031-a587589a-ca53-4c04-927e-e486398eeaac",
    "deepnote_cell_type": "markdown"
   }
  },
  {
   "cell_type": "code",
   "metadata": {
    "cell_id": "00032-ec1931c0-028d-4003-89a1-6b8e943e30fc",
    "deepnote_cell_type": "code"
   },
   "source": "cf_pred_ratings = pd.DataFrame({'userId':true_ratings.userId,'movieId':true_ratings.movieId,'pred_rating':pred_cf})\ncf_ratings = cf_pred_ratings.merge(true_ratings, on=['movieId','userId'])\ncf_pred_order = cf_ratings.sort_values('pred_rating', ascending=False)\ncf_actual_order = cf_ratings.sort_values('rating', ascending=False)",
   "execution_count": 200,
   "outputs": []
  },
  {
   "cell_type": "code",
   "metadata": {
    "cell_id": "00033-cb00c5d0-92b9-4882-8266-5d311f99fcd4",
    "deepnote_cell_type": "code"
   },
   "source": "print('NDCG@k Collaborative Filtering Model')\ncf_results = []\nfor k in range(1,6):\n    cf_results.append(calculate_ndcg_score(cf_pred_order, cf_actual_order, k=k))\n    print('k:',k, 'ndcg:',calculate_ndcg_score(cf_pred_order, cf_actual_order, k=k))",
   "execution_count": 206,
   "outputs": [
    {
     "name": "stdout",
     "output_type": "stream",
     "text": "NDCG@k Collaborative Filtering Model\nk: 1 ndcg: 0.7173580048012108\nk: 2 ndcg: 0.724019996821187\nk: 3 ndcg: 0.7358893216439661\nk: 4 ndcg: 0.7524130522462806\nk: 5 ndcg: 0.765719013783001\n"
    }
   ]
  },
  {
   "cell_type": "markdown",
   "source": "#### Content-Based",
   "metadata": {
    "cell_id": "00034-2796ccbc-cbc4-4413-9fad-4a6aaaf776d6",
    "deepnote_cell_type": "markdown"
   }
  },
  {
   "cell_type": "code",
   "metadata": {
    "cell_id": "00035-3a767608-f66a-422c-929d-09710bd74d4a",
    "deepnote_cell_type": "code"
   },
   "source": "cb_pred_ratings = pd.DataFrame({'userId':true_ratings.userId,'movieId':true_ratings.movieId,'pred_rating':pred_cb})\ncb_ratings = cb_pred_ratings.merge(true_ratings, on=['movieId','userId'])\ncb_pred_order = cb_ratings.sort_values('pred_rating', ascending=False)\ncb_actual_order = cb_ratings.sort_values('rating', ascending=False)",
   "execution_count": 203,
   "outputs": []
  },
  {
   "cell_type": "code",
   "metadata": {
    "cell_id": "00036-e1d66926-2a74-4886-900e-c58ab540466e",
    "deepnote_cell_type": "code"
   },
   "source": "print('NDCG@k Collaborative Filtering Model')\ncb_results = []\nfor k in range(1,6):\n    cb_results.append(calculate_ndcg_score(cb_pred_order, cb_actual_order, k=k))\n    print('k:',k, 'ndcg:',calculate_ndcg_score(cb_pred_order, cb_actual_order, k=k))",
   "execution_count": 205,
   "outputs": [
    {
     "name": "stdout",
     "output_type": "stream",
     "text": "NDCG@k Collaborative Filtering Model\nk: 1 ndcg: 0.6574687315720641\nk: 2 ndcg: 0.686633840075842\nk: 3 ndcg: 0.7060664070691977\nk: 4 ndcg: 0.7263465168584994\nk: 5 ndcg: 0.7402979580686991\n"
    }
   ]
  },
  {
   "cell_type": "markdown",
   "source": "#### Visualization",
   "metadata": {
    "cell_id": "00037-3b225d04-3e0b-4488-a41d-6b56239724ee",
    "deepnote_cell_type": "markdown"
   }
  },
  {
   "cell_type": "code",
   "metadata": {
    "cell_id": "00038-a2d7b42c-958c-45dd-8060-da19bde7c8b1",
    "deepnote_output_heights": [
     611
    ],
    "deepnote_cell_type": "code"
   },
   "source": "x = np.arange(1,6)\nfig, ax = plt.subplots(figsize=(15,10))\nplt.plot(x,hybrid_results,'b',label='Hybrid Model')\nplt.plot(x,cf_results,'r',label='Collaborative Filtering')\nplt.plot(x,cb_results,'g',label='Content-Based')\nplt.xlabel('k')\nplt.ylabel('nDCG Score')\nplt.legend()\nplt.grid()\nplt.ylim(0,1)\nplt.xticks([1,2,3,4,5])\nfig.suptitle('nDCG@k', fontsize=36);",
   "execution_count": 241,
   "outputs": [
    {
     "data": {
      "image/png": "[encoded data removed]",
      "text/plain": "<Figure size 1080x720 with 1 Axes>"
     },
     "metadata": {
      "needs_background": "light",
      "image/png": {
       "width": 888,
       "height": 660
      }
     },
     "output_type": "display_data"
    }
   ]
  },
  {
   "cell_type": "markdown",
   "source": "<a style='text-decoration:none;line-height:16px;display:flex;color:#5B5B62;padding:10px;justify-content:end;' href='https://deepnote.com?utm_source=created-in-deepnote-cell&projectId=62a140d2-916c-455c-a3c7-f55a270ae371' target=\"_blank\">\n<img alt='Created in deepnote.com' style='display:inline;max-height:16px;margin:0px;margin-right:7.5px;' src='data:image/svg+xml;base64,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' > </img>\nCreated in <span style='font-weight:600;margin-left:4px;'>Deepnote</span></a>",
   "metadata": {
    "tags": [],
    "created_in_deepnote_cell": true,
    "deepnote_cell_type": "markdown"
   }
  }
 ],
 "nbformat": 4,
 "nbformat_minor": 5,
 "metadata": {
  "deepnote": {},
  "deepnote_execution_queue": [],
  "deepnote_notebook_id": "74aa2af4-a287-4e2f-980a-7035434f8dbe",
  "kernelspec": {
   "display_name": "Python 3 (ipykernel)",
   "language": "python",
   "name": "python3"
  },
  "language_info": {
   "codemirror_mode": {
    "name": "ipython",
    "version": 3
   },
   "file_extension": ".py",
   "mimetype": "text/x-python",
   "name": "python",
   "nbconvert_exporter": "python",
   "pygments_lexer": "ipython3",
   "version": "3.9.7"
  }
 }
}