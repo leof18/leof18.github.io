{
 "cells": [
  {
   "cell_type": "markdown",
   "id": "2e847746-e82c-4233-a230-b9a9fb21c279",
   "metadata": {},
   "source": [
    "# Loading & Preprocessing Tables"
   ]
  },
  {
   "cell_type": "markdown",
   "id": "19db1b9b-2810-4972-ba07-6dc2eccb2500",
   "metadata": {},
   "source": [
    "__Libraries__"
   ]
  },
  {
   "cell_type": "code",
   "execution_count": 11,
   "id": "c624a985",
   "metadata": {},
   "outputs": [],
   "source": [
    "import pandas as pd\n",
    "import numpy as np\n",
    "import re\n",
    "\n",
    "from sklearn.cluster import AffinityPropagation\n",
    "import distance\n",
    "\n",
    "import pgeocode\n",
    "import matplotlib.pyplot as plt\n",
    "%matplotlib inline\n",
    "plt.rcParams[\"figure.figsize\"] = (15,7)\n",
    "from sklearn.preprocessing import OrdinalEncoder\n",
    "\n",
    "import random\n",
    "random.seed(42)"
   ]
  },
  {
   "cell_type": "markdown",
   "id": "8b67225c-6e9f-4c3c-940c-aa13124c4328",
   "metadata": {
    "tags": []
   },
   "source": [
    "## Rating Data"
   ]
  },
  {
   "cell_type": "code",
   "execution_count": 12,
   "id": "826d5f1b-1e41-4990-8382-262bff953dde",
   "metadata": {},
   "outputs": [
    {
     "data": {
      "text/plain": [
       "(100836, 4)"
      ]
     },
     "execution_count": 12,
     "metadata": {},
     "output_type": "execute_result"
    }
   ],
   "source": [
    "ratings = pd.read_csv(\"./Data/ratings.csv\")\n",
    "ratings.shape"
   ]
  },
  {
   "cell_type": "markdown",
   "id": "0b42797c-9333-4093-b2d4-15c78a253eb8",
   "metadata": {},
   "source": [
    "Check if one rating of a movie per each user: "
   ]
  },
  {
   "cell_type": "code",
   "execution_count": 13,
   "id": "bec193a5-ef67-4b3b-a76e-386a872aa093",
   "metadata": {},
   "outputs": [
    {
     "data": {
      "text/plain": [
       "0"
      ]
     },
     "execution_count": 13,
     "metadata": {},
     "output_type": "execute_result"
    }
   ],
   "source": [
    "(ratings.groupby(['userId', 'movieId']).rating.count() != 1).sum()"
   ]
  },
  {
   "cell_type": "markdown",
   "id": "7057306c-1738-4135-b65a-53b15c8def65",
   "metadata": {},
   "source": [
    "Check how many users rated each movie: "
   ]
  },
  {
   "cell_type": "code",
   "execution_count": 14,
   "id": "72e4dc96-22ae-4ecf-ae8a-8cdbdf27289c",
   "metadata": {},
   "outputs": [
    {
     "data": {
      "text/plain": [
       "<AxesSubplot:>"
      ]
     },
     "execution_count": 14,
     "metadata": {},
     "output_type": "execute_result"
    },
    {
     "data": {
      "image/png": "[encoded data removed]",
      "text/plain": [
       "<Figure size 1080x504 with 1 Axes>"
      ]
     },
     "metadata": {
      "needs_background": "light"
     },
     "output_type": "display_data"
    }
   ],
   "source": [
    "ratings.groupby('userId').movieId.size().hist(bins=30)"
   ]
  },
  {
   "cell_type": "code",
   "execution_count": 15,
   "id": "c25b1379-651f-449f-b6ec-c4dd7802622c",
   "metadata": {},
   "outputs": [
    {
     "data": {
      "text/plain": [
       "count     610.000000\n",
       "mean      165.304918\n",
       "std       269.480584\n",
       "min        20.000000\n",
       "25%        35.000000\n",
       "50%        70.500000\n",
       "75%       168.000000\n",
       "max      2698.000000\n",
       "Name: movieId, dtype: float64"
      ]
     },
     "execution_count": 15,
     "metadata": {},
     "output_type": "execute_result"
    }
   ],
   "source": [
    "ratings.groupby('userId').movieId.size().describe()"
   ]
  },
  {
   "cell_type": "markdown",
   "id": "84492b10-4c7d-403c-aaff-2960cb92536f",
   "metadata": {},
   "source": [
    "We have 610 users, more than half rated 70 movies. We have some extreme values, of users that rated over 1,000 movis, which seems a lot. See if there is variance in their ratings"
   ]
  },
  {
   "cell_type": "code",
   "execution_count": 16,
   "id": "d7dada5e-4603-4a50-814d-77c127ed2627",
   "metadata": {},
   "outputs": [],
   "source": [
    "outlier_users = ratings.groupby('userId').movieId.size()[ratings.groupby('userId').movieId.size() > 1000].index\n",
    "outlier_user_ratings = ratings[ratings.userId.isin(outlier_users)].groupby('userId').rating.agg(lambda x: list(x))"
   ]
  },
  {
   "cell_type": "code",
   "execution_count": 17,
   "id": "935c91c5-00cb-4e95-a063-bd4a37a2e6d9",
   "metadata": {},
   "outputs": [
    {
     "data": {
      "text/html": [
       "<div>\n",
       "<style scoped>\n",
       "    .dataframe tbody tr th:only-of-type {\n",
       "        vertical-align: middle;\n",
       "    }\n",
       "\n",
       "    .dataframe tbody tr th {\n",
       "        vertical-align: top;\n",
       "    }\n",
       "\n",
       "    .dataframe thead th {\n",
       "        text-align: right;\n",
       "    }\n",
       "</style>\n",
       "<table border=\"1\" class=\"dataframe\">\n",
       "  <thead>\n",
       "    <tr style=\"text-align: right;\">\n",
       "      <th></th>\n",
       "      <th>count</th>\n",
       "      <th>mean</th>\n",
       "      <th>std</th>\n",
       "      <th>min</th>\n",
       "      <th>25%</th>\n",
       "      <th>50%</th>\n",
       "      <th>75%</th>\n",
       "      <th>max</th>\n",
       "    </tr>\n",
       "    <tr>\n",
       "      <th>userId</th>\n",
       "      <th></th>\n",
       "      <th></th>\n",
       "      <th></th>\n",
       "      <th></th>\n",
       "      <th></th>\n",
       "      <th></th>\n",
       "      <th></th>\n",
       "      <th></th>\n",
       "    </tr>\n",
       "  </thead>\n",
       "  <tbody>\n",
       "    <tr>\n",
       "      <th>68</th>\n",
       "      <td>1260.0</td>\n",
       "      <td>3.233730</td>\n",
       "      <td>0.896740</td>\n",
       "      <td>0.5</td>\n",
       "      <td>2.5</td>\n",
       "      <td>3.25</td>\n",
       "      <td>4.0</td>\n",
       "      <td>5.0</td>\n",
       "    </tr>\n",
       "    <tr>\n",
       "      <th>249</th>\n",
       "      <td>1046.0</td>\n",
       "      <td>3.696463</td>\n",
       "      <td>0.672691</td>\n",
       "      <td>0.5</td>\n",
       "      <td>3.5</td>\n",
       "      <td>3.50</td>\n",
       "      <td>4.0</td>\n",
       "      <td>5.0</td>\n",
       "    </tr>\n",
       "    <tr>\n",
       "      <th>274</th>\n",
       "      <td>1346.0</td>\n",
       "      <td>3.235884</td>\n",
       "      <td>0.761703</td>\n",
       "      <td>0.5</td>\n",
       "      <td>3.0</td>\n",
       "      <td>3.50</td>\n",
       "      <td>3.5</td>\n",
       "      <td>5.0</td>\n",
       "    </tr>\n",
       "    <tr>\n",
       "      <th>288</th>\n",
       "      <td>1055.0</td>\n",
       "      <td>3.145972</td>\n",
       "      <td>0.866584</td>\n",
       "      <td>1.0</td>\n",
       "      <td>3.0</td>\n",
       "      <td>3.00</td>\n",
       "      <td>4.0</td>\n",
       "      <td>5.0</td>\n",
       "    </tr>\n",
       "    <tr>\n",
       "      <th>380</th>\n",
       "      <td>1218.0</td>\n",
       "      <td>3.673235</td>\n",
       "      <td>0.961010</td>\n",
       "      <td>0.5</td>\n",
       "      <td>3.0</td>\n",
       "      <td>4.00</td>\n",
       "      <td>4.0</td>\n",
       "      <td>5.0</td>\n",
       "    </tr>\n",
       "    <tr>\n",
       "      <th>387</th>\n",
       "      <td>1027.0</td>\n",
       "      <td>3.258520</td>\n",
       "      <td>0.859310</td>\n",
       "      <td>0.5</td>\n",
       "      <td>3.0</td>\n",
       "      <td>3.50</td>\n",
       "      <td>4.0</td>\n",
       "      <td>5.0</td>\n",
       "    </tr>\n",
       "    <tr>\n",
       "      <th>414</th>\n",
       "      <td>2698.0</td>\n",
       "      <td>3.391957</td>\n",
       "      <td>0.933307</td>\n",
       "      <td>0.5</td>\n",
       "      <td>3.0</td>\n",
       "      <td>3.50</td>\n",
       "      <td>4.0</td>\n",
       "      <td>5.0</td>\n",
       "    </tr>\n",
       "    <tr>\n",
       "      <th>448</th>\n",
       "      <td>1864.0</td>\n",
       "      <td>2.847371</td>\n",
       "      <td>1.029706</td>\n",
       "      <td>0.5</td>\n",
       "      <td>2.0</td>\n",
       "      <td>3.00</td>\n",
       "      <td>3.5</td>\n",
       "      <td>5.0</td>\n",
       "    </tr>\n",
       "    <tr>\n",
       "      <th>474</th>\n",
       "      <td>2108.0</td>\n",
       "      <td>3.398956</td>\n",
       "      <td>0.830847</td>\n",
       "      <td>0.5</td>\n",
       "      <td>3.0</td>\n",
       "      <td>3.50</td>\n",
       "      <td>4.0</td>\n",
       "      <td>5.0</td>\n",
       "    </tr>\n",
       "    <tr>\n",
       "      <th>599</th>\n",
       "      <td>2478.0</td>\n",
       "      <td>2.642050</td>\n",
       "      <td>0.815300</td>\n",
       "      <td>0.5</td>\n",
       "      <td>2.0</td>\n",
       "      <td>2.50</td>\n",
       "      <td>3.0</td>\n",
       "      <td>5.0</td>\n",
       "    </tr>\n",
       "    <tr>\n",
       "      <th>606</th>\n",
       "      <td>1115.0</td>\n",
       "      <td>3.657399</td>\n",
       "      <td>0.724121</td>\n",
       "      <td>0.5</td>\n",
       "      <td>3.5</td>\n",
       "      <td>4.00</td>\n",
       "      <td>4.0</td>\n",
       "      <td>5.0</td>\n",
       "    </tr>\n",
       "    <tr>\n",
       "      <th>610</th>\n",
       "      <td>1302.0</td>\n",
       "      <td>3.688556</td>\n",
       "      <td>0.857422</td>\n",
       "      <td>0.5</td>\n",
       "      <td>3.0</td>\n",
       "      <td>3.50</td>\n",
       "      <td>4.5</td>\n",
       "      <td>5.0</td>\n",
       "    </tr>\n",
       "  </tbody>\n",
       "</table>\n",
       "</div>"
      ],
      "text/plain": [
       "         count      mean       std  min  25%   50%  75%  max\n",
       "userId                                                      \n",
       "68      1260.0  3.233730  0.896740  0.5  2.5  3.25  4.0  5.0\n",
       "249     1046.0  3.696463  0.672691  0.5  3.5  3.50  4.0  5.0\n",
       "274     1346.0  3.235884  0.761703  0.5  3.0  3.50  3.5  5.0\n",
       "288     1055.0  3.145972  0.866584  1.0  3.0  3.00  4.0  5.0\n",
       "380     1218.0  3.673235  0.961010  0.5  3.0  4.00  4.0  5.0\n",
       "387     1027.0  3.258520  0.859310  0.5  3.0  3.50  4.0  5.0\n",
       "414     2698.0  3.391957  0.933307  0.5  3.0  3.50  4.0  5.0\n",
       "448     1864.0  2.847371  1.029706  0.5  2.0  3.00  3.5  5.0\n",
       "474     2108.0  3.398956  0.830847  0.5  3.0  3.50  4.0  5.0\n",
       "599     2478.0  2.642050  0.815300  0.5  2.0  2.50  3.0  5.0\n",
       "606     1115.0  3.657399  0.724121  0.5  3.5  4.00  4.0  5.0\n",
       "610     1302.0  3.688556  0.857422  0.5  3.0  3.50  4.5  5.0"
      ]
     },
     "execution_count": 17,
     "metadata": {},
     "output_type": "execute_result"
    }
   ],
   "source": [
    "outlier_user_ratings.apply(lambda x: pd.Series(x).describe())"
   ]
  },
  {
   "cell_type": "markdown",
   "id": "56ca7b1a-beaf-4560-8229-f7eefd0aa12d",
   "metadata": {},
   "source": [
    "The problem with this is that almost 20% of observations come from 12 users: "
   ]
  },
  {
   "cell_type": "code",
   "execution_count": 18,
   "id": "23fd54a6-96ff-4e60-b6a8-dd6223c841cb",
   "metadata": {},
   "outputs": [
    {
     "name": "stdout",
     "output_type": "stream",
     "text": [
      "\n",
      "Number of Users: 12\n",
      "Percentage of Total Rated Movies: 0.1836348129636241\n",
      "\n"
     ]
    }
   ],
   "source": [
    "print(f'''\n",
    "Number of Users: {outlier_user_ratings.shape[0]}\n",
    "Percentage of Total Rated Movies: {outlier_user_ratings.apply(lambda x: pd.Series(x).describe())['count'].sum()/ratings.shape[0]}\n",
    "''')"
   ]
  },
  {
   "cell_type": "markdown",
   "id": "2fc722a1-6f6d-4aa5-be11-7e4ce8e870aa",
   "metadata": {},
   "source": [
    "The issues with this, is that the subjectivity of a few will dominate over the predictions of the model. \n",
    "\n",
    "__Possible Solution__: Consider sampling the number of rated movies from these extreme cases that rated almost every movie"
   ]
  },
  {
   "cell_type": "code",
   "execution_count": 19,
   "id": "b3ff8760-81f3-4249-acd1-a7d66ba4c05f",
   "metadata": {},
   "outputs": [],
   "source": [
    "remove_indexes = []\n",
    "for user in outlier_users: \n",
    "    remove_indexes.extend(random.sample(sorted(ratings[ratings.userId == user].index), sum(ratings.userId == user) - 1000))\n",
    "ratings['sample_ratings'] = ratings.index.isin(remove_indexes)"
   ]
  },
  {
   "cell_type": "markdown",
   "id": "7c4ab769-901c-4f27-816f-688c27f41fa1",
   "metadata": {},
   "source": [
    "Check the distribution of the ratings: "
   ]
  },
  {
   "cell_type": "code",
   "execution_count": 20,
   "id": "147c8e25-e4d1-49cb-8158-e96647edd970",
   "metadata": {},
   "outputs": [
    {
     "data": {
      "text/plain": [
       "<AxesSubplot:>"
      ]
     },
     "execution_count": 20,
     "metadata": {},
     "output_type": "execute_result"
    },
    {
     "data": {
      "image/png": "[encoded data removed]",
      "text/plain": [
       "<Figure size 1080x504 with 1 Axes>"
      ]
     },
     "metadata": {
      "needs_background": "light"
     },
     "output_type": "display_data"
    }
   ],
   "source": [
    "ratings.rating.hist(bins=30)"
   ]
  },
  {
   "cell_type": "markdown",
   "id": "5f258eb7-c2e3-48a9-a442-df1da05b8356",
   "metadata": {},
   "source": [
    "- Not a lot of users use decimals 0.5 to rate the movies (consider including them in the rounding to the nearest decimal)\n",
    "- Most movies are rated 3/4 (not many ratings in the extremes of the domain of the dependent variable)\n",
    "\n",
    "Create new rating variable with rounded numbers: "
   ]
  },
  {
   "cell_type": "code",
   "execution_count": 21,
   "id": "ee345397-efb2-4706-9c37-218ec843c133",
   "metadata": {},
   "outputs": [
    {
     "data": {
      "text/plain": [
       "<AxesSubplot:>"
      ]
     },
     "execution_count": 21,
     "metadata": {},
     "output_type": "execute_result"
    },
    {
     "data": {
      "image/png": "[encoded data removed]",
      "text/plain": [
       "<Figure size 1080x504 with 1 Axes>"
      ]
     },
     "metadata": {
      "needs_background": "light"
     },
     "output_type": "display_data"
    }
   ],
   "source": [
    "ratings['ratings2'] = ratings.rating.apply(lambda x: int(round(x + 0.01, 0)))\n",
    "ratings.ratings2.hist(bins=30)"
   ]
  },
  {
   "cell_type": "markdown",
   "id": "bba484f8-6deb-412d-89f5-aa31b26ea31b",
   "metadata": {},
   "source": [
    "Check average rating by user: "
   ]
  },
  {
   "cell_type": "code",
   "execution_count": 22,
   "id": "fdccb22a-05f8-498b-befe-65420665621e",
   "metadata": {},
   "outputs": [
    {
     "data": {
      "text/plain": [
       "<AxesSubplot:>"
      ]
     },
     "execution_count": 22,
     "metadata": {},
     "output_type": "execute_result"
    },
    {
     "data": {
      "image/png": "[encoded data removed]",
      "text/plain": [
       "<Figure size 1080x504 with 1 Axes>"
      ]
     },
     "metadata": {
      "needs_background": "light"
     },
     "output_type": "display_data"
    }
   ],
   "source": [
    "ratings.groupby('userId').rating.mean().hist(bins=30)"
   ]
  },
  {
   "cell_type": "markdown",
   "id": "02437a09-5e9e-4c82-9109-74c5ebae3d11",
   "metadata": {},
   "source": [
    "The average rating per users seems to follow a normal distribution. There is an outlier observation of a user that puts very bad ratings. Check it out"
   ]
  },
  {
   "cell_type": "code",
   "execution_count": 23,
   "id": "8eeb8a25-d7ed-478f-a049-1fabd18ebb94",
   "metadata": {},
   "outputs": [
    {
     "data": {
      "text/plain": [
       "userId\n",
       "442    1.27500\n",
       "139    2.14433\n",
       "Name: rating, dtype: float64"
      ]
     },
     "execution_count": 23,
     "metadata": {},
     "output_type": "execute_result"
    }
   ],
   "source": [
    "ratings.groupby('userId').rating.mean().nsmallest(2)"
   ]
  },
  {
   "cell_type": "code",
   "execution_count": 24,
   "id": "f89b85d1-adae-4709-8a88-290105a7367f",
   "metadata": {},
   "outputs": [
    {
     "data": {
      "text/plain": [
       "<AxesSubplot:>"
      ]
     },
     "execution_count": 24,
     "metadata": {},
     "output_type": "execute_result"
    },
    {
     "data": {
      "image/png": "[encoded data removed]",
      "text/plain": [
       "<Figure size 1080x504 with 1 Axes>"
      ]
     },
     "metadata": {
      "needs_background": "light"
     },
     "output_type": "display_data"
    }
   ],
   "source": [
    "ratings[ratings.userId == 442].rating.hist()"
   ]
  },
  {
   "cell_type": "markdown",
   "id": "020019bb-7aa8-46ff-aee5-45fa9fa2c3b0",
   "metadata": {},
   "source": [
    "This is a black sheep that does not consider good ratings. \n",
    "\n",
    "__Possible Solution__: consider excluding him from the dataset"
   ]
  },
  {
   "cell_type": "code",
   "execution_count": 25,
   "id": "87bf6160-d930-46af-a56e-155d74c44fd0",
   "metadata": {},
   "outputs": [],
   "source": [
    "ratings['outlier'] = ratings.userId == 442"
   ]
  },
  {
   "cell_type": "markdown",
   "id": "d26225b6-e3b4-41e1-b3cb-2d35dbbc9c9b",
   "metadata": {},
   "source": [
    "__Overall Actions to be Taken__\n",
    "\n",
    "- Consider sampling the number of rated movies from these extreme cases that rated almost every movie\n",
    "- Consider including movies rated with decimals in the rounding to the nearest decimal\n",
    "- Consider excluding a black sheep user from the dataset"
   ]
  },
  {
   "cell_type": "markdown",
   "id": "dcccbdfe-a6f5-4551-9c2f-79485e6e8351",
   "metadata": {},
   "source": [
    "Save new ratings data: "
   ]
  },
  {
   "cell_type": "code",
   "execution_count": 26,
   "id": "06b095da-efb9-4e0a-a485-89d223f28e40",
   "metadata": {},
   "outputs": [],
   "source": [
    "# ratings.to_csv('./Data/ratings_v2.csv', index=False)"
   ]
  },
  {
   "cell_type": "markdown",
   "id": "e09bb852-1eee-45e7-9050-69efe0def622",
   "metadata": {},
   "source": [
    "## Item Data"
   ]
  },
  {
   "cell_type": "markdown",
   "id": "2235330d-ddf8-4715-8890-a82ad6d6d33a",
   "metadata": {},
   "source": [
    "### Movies"
   ]
  },
  {
   "cell_type": "code",
   "execution_count": 94,
   "id": "0c3c3391-c826-4781-aa5a-26008aec92e4",
   "metadata": {},
   "outputs": [
    {
     "data": {
      "text/plain": [
       "(58098, 3)"
      ]
     },
     "execution_count": 94,
     "metadata": {},
     "output_type": "execute_result"
    }
   ],
   "source": [
    "movies = pd.read_csv(\"./Data/movies.csv\")\n",
    "movies.shape"
   ]
  },
  {
   "cell_type": "code",
   "execution_count": 95,
   "id": "fae639f3-df25-4183-b980-1f7e84b62661",
   "metadata": {},
   "outputs": [
    {
     "data": {
      "text/html": [
       "<div>\n",
       "<style scoped>\n",
       "    .dataframe tbody tr th:only-of-type {\n",
       "        vertical-align: middle;\n",
       "    }\n",
       "\n",
       "    .dataframe tbody tr th {\n",
       "        vertical-align: top;\n",
       "    }\n",
       "\n",
       "    .dataframe thead th {\n",
       "        text-align: right;\n",
       "    }\n",
       "</style>\n",
       "<table border=\"1\" class=\"dataframe\">\n",
       "  <thead>\n",
       "    <tr style=\"text-align: right;\">\n",
       "      <th></th>\n",
       "      <th>movieId</th>\n",
       "      <th>title</th>\n",
       "      <th>genres</th>\n",
       "    </tr>\n",
       "  </thead>\n",
       "  <tbody>\n",
       "    <tr>\n",
       "      <th>0</th>\n",
       "      <td>1</td>\n",
       "      <td>Toy Story (1995)</td>\n",
       "      <td>Adventure|Animation|Children|Comedy|Fantasy</td>\n",
       "    </tr>\n",
       "    <tr>\n",
       "      <th>1</th>\n",
       "      <td>2</td>\n",
       "      <td>Jumanji (1995)</td>\n",
       "      <td>Adventure|Children|Fantasy</td>\n",
       "    </tr>\n",
       "    <tr>\n",
       "      <th>2</th>\n",
       "      <td>3</td>\n",
       "      <td>Grumpier Old Men (1995)</td>\n",
       "      <td>Comedy|Romance</td>\n",
       "    </tr>\n",
       "    <tr>\n",
       "      <th>3</th>\n",
       "      <td>4</td>\n",
       "      <td>Waiting to Exhale (1995)</td>\n",
       "      <td>Comedy|Drama|Romance</td>\n",
       "    </tr>\n",
       "    <tr>\n",
       "      <th>4</th>\n",
       "      <td>5</td>\n",
       "      <td>Father of the Bride Part II (1995)</td>\n",
       "      <td>Comedy</td>\n",
       "    </tr>\n",
       "  </tbody>\n",
       "</table>\n",
       "</div>"
      ],
      "text/plain": [
       "   movieId                               title  \\\n",
       "0        1                    Toy Story (1995)   \n",
       "1        2                      Jumanji (1995)   \n",
       "2        3             Grumpier Old Men (1995)   \n",
       "3        4            Waiting to Exhale (1995)   \n",
       "4        5  Father of the Bride Part II (1995)   \n",
       "\n",
       "                                        genres  \n",
       "0  Adventure|Animation|Children|Comedy|Fantasy  \n",
       "1                   Adventure|Children|Fantasy  \n",
       "2                               Comedy|Romance  \n",
       "3                         Comedy|Drama|Romance  \n",
       "4                                       Comedy  "
      ]
     },
     "execution_count": 95,
     "metadata": {},
     "output_type": "execute_result"
    }
   ],
   "source": [
    "movies.head()"
   ]
  },
  {
   "cell_type": "markdown",
   "id": "6f12e7f5-d9b1-498b-80f3-da30762dd9af",
   "metadata": {},
   "source": [
    "Divide title into title - year (parse and get numbers between brackets)"
   ]
  },
  {
   "cell_type": "code",
   "execution_count": 96,
   "id": "c8ed4992-e79c-4da6-b6e3-88f052dfe08d",
   "metadata": {},
   "outputs": [],
   "source": [
    "def parse_num(string):\n",
    "    try: \n",
    "        return int(re.findall(\"\\((\\d{4})\\)\", string)[-1])\n",
    "    except: \n",
    "        return np.nan"
   ]
  },
  {
   "cell_type": "code",
   "execution_count": 97,
   "id": "aceeb71b-86da-43a2-b306-08728db2a2a9",
   "metadata": {},
   "outputs": [],
   "source": [
    "movies['year'] = movies.title.apply(lambda y: parse_num(y))"
   ]
  },
  {
   "cell_type": "markdown",
   "id": "4026771a-660a-4cf7-b2ce-bbb35ffe6516",
   "metadata": {},
   "source": [
    "We have some missing values (327)"
   ]
  },
  {
   "cell_type": "code",
   "execution_count": 98,
   "id": "1d8b1e33-6255-4683-a465-fa0e5d18d2a1",
   "metadata": {},
   "outputs": [
    {
     "data": {
      "text/plain": [
       "6    57771\n",
       "3      327\n",
       "Name: year, dtype: int64"
      ]
     },
     "execution_count": 98,
     "metadata": {},
     "output_type": "execute_result"
    }
   ],
   "source": [
    "movies.year.apply(lambda x: len(str(x))).value_counts()"
   ]
  },
  {
   "cell_type": "markdown",
   "id": "e23c754d-3f20-4ffb-adad-f43e7526fa26",
   "metadata": {},
   "source": [
    "Some movies do not have a year: (consider this for extracting title:"
   ]
  },
  {
   "cell_type": "code",
   "execution_count": 99,
   "id": "0a8162cb-2f30-497c-b8a6-262055862e5c",
   "metadata": {},
   "outputs": [],
   "source": [
    "movies['title'] = movies.title.apply(lambda x: re.sub(\"\\((\\d{4})\\)\", \"\", x).rstrip() if x is not np.nan else np.nan)"
   ]
  },
  {
   "cell_type": "markdown",
   "id": "8b68d91b-5eeb-4766-8325-118c2e750398",
   "metadata": {},
   "source": [
    "One-hot encode genres"
   ]
  },
  {
   "cell_type": "code",
   "execution_count": 100,
   "id": "53c5e08e-02ce-4374-9f17-f14c5c80cff4",
   "metadata": {},
   "outputs": [],
   "source": [
    "def parse_genres(string):\n",
    "    try: \n",
    "        return string.split('|')\n",
    "    except: \n",
    "        return string "
   ]
  },
  {
   "cell_type": "code",
   "execution_count": 101,
   "id": "84761ae4-0435-4d70-8ab8-59678c6cdd6b",
   "metadata": {},
   "outputs": [
    {
     "data": {
      "text/plain": [
       "20"
      ]
     },
     "execution_count": 101,
     "metadata": {},
     "output_type": "execute_result"
    }
   ],
   "source": [
    "genres = movies.set_index('movieId').genres.apply(lambda y: parse_genres(y))\n",
    "genres.explode().nunique()"
   ]
  },
  {
   "cell_type": "markdown",
   "id": "e99e2d04-6242-49dc-b34f-a027bae6e111",
   "metadata": {},
   "source": [
    "19 genres (+1 missing value). Make dummy variables (drop the nan column)"
   ]
  },
  {
   "cell_type": "code",
   "execution_count": 102,
   "id": "eb63e841-c577-43d9-847a-40cc9384217e",
   "metadata": {},
   "outputs": [],
   "source": [
    "genres = genres.explode().reset_index()\n",
    "genres['values'] = 1\n",
    "genres = genres.pivot(index='movieId', columns='genres', values='values').drop('(no genres listed)', axis=1).fillna(0)"
   ]
  },
  {
   "cell_type": "code",
   "execution_count": 103,
   "id": "1b040f65-f616-4870-b803-1987e47c6963",
   "metadata": {},
   "outputs": [],
   "source": [
    "movies = movies.merge(genres, how='left', on='movieId').drop('genres', axis=1)"
   ]
  },
  {
   "cell_type": "code",
   "execution_count": 104,
   "id": "26056653-0a99-4076-8aae-b52b4dc2a51a",
   "metadata": {},
   "outputs": [
    {
     "data": {
      "text/html": [
       "<div>\n",
       "<style scoped>\n",
       "    .dataframe tbody tr th:only-of-type {\n",
       "        vertical-align: middle;\n",
       "    }\n",
       "\n",
       "    .dataframe tbody tr th {\n",
       "        vertical-align: top;\n",
       "    }\n",
       "\n",
       "    .dataframe thead th {\n",
       "        text-align: right;\n",
       "    }\n",
       "</style>\n",
       "<table border=\"1\" class=\"dataframe\">\n",
       "  <thead>\n",
       "    <tr style=\"text-align: right;\">\n",
       "      <th></th>\n",
       "      <th>movieId</th>\n",
       "      <th>title</th>\n",
       "      <th>year</th>\n",
       "      <th>Action</th>\n",
       "      <th>Adventure</th>\n",
       "      <th>Animation</th>\n",
       "      <th>Children</th>\n",
       "      <th>Comedy</th>\n",
       "      <th>Crime</th>\n",
       "      <th>Documentary</th>\n",
       "      <th>...</th>\n",
       "      <th>Film-Noir</th>\n",
       "      <th>Horror</th>\n",
       "      <th>IMAX</th>\n",
       "      <th>Musical</th>\n",
       "      <th>Mystery</th>\n",
       "      <th>Romance</th>\n",
       "      <th>Sci-Fi</th>\n",
       "      <th>Thriller</th>\n",
       "      <th>War</th>\n",
       "      <th>Western</th>\n",
       "    </tr>\n",
       "  </thead>\n",
       "  <tbody>\n",
       "    <tr>\n",
       "      <th>0</th>\n",
       "      <td>1</td>\n",
       "      <td>Toy Story</td>\n",
       "      <td>1995.0</td>\n",
       "      <td>0.0</td>\n",
       "      <td>1.0</td>\n",
       "      <td>1.0</td>\n",
       "      <td>1.0</td>\n",
       "      <td>1.0</td>\n",
       "      <td>0.0</td>\n",
       "      <td>0.0</td>\n",
       "      <td>...</td>\n",
       "      <td>0.0</td>\n",
       "      <td>0.0</td>\n",
       "      <td>0.0</td>\n",
       "      <td>0.0</td>\n",
       "      <td>0.0</td>\n",
       "      <td>0.0</td>\n",
       "      <td>0.0</td>\n",
       "      <td>0.0</td>\n",
       "      <td>0.0</td>\n",
       "      <td>0.0</td>\n",
       "    </tr>\n",
       "    <tr>\n",
       "      <th>1</th>\n",
       "      <td>2</td>\n",
       "      <td>Jumanji</td>\n",
       "      <td>1995.0</td>\n",
       "      <td>0.0</td>\n",
       "      <td>1.0</td>\n",
       "      <td>0.0</td>\n",
       "      <td>1.0</td>\n",
       "      <td>0.0</td>\n",
       "      <td>0.0</td>\n",
       "      <td>0.0</td>\n",
       "      <td>...</td>\n",
       "      <td>0.0</td>\n",
       "      <td>0.0</td>\n",
       "      <td>0.0</td>\n",
       "      <td>0.0</td>\n",
       "      <td>0.0</td>\n",
       "      <td>0.0</td>\n",
       "      <td>0.0</td>\n",
       "      <td>0.0</td>\n",
       "      <td>0.0</td>\n",
       "      <td>0.0</td>\n",
       "    </tr>\n",
       "    <tr>\n",
       "      <th>2</th>\n",
       "      <td>3</td>\n",
       "      <td>Grumpier Old Men</td>\n",
       "      <td>1995.0</td>\n",
       "      <td>0.0</td>\n",
       "      <td>0.0</td>\n",
       "      <td>0.0</td>\n",
       "      <td>0.0</td>\n",
       "      <td>1.0</td>\n",
       "      <td>0.0</td>\n",
       "      <td>0.0</td>\n",
       "      <td>...</td>\n",
       "      <td>0.0</td>\n",
       "      <td>0.0</td>\n",
       "      <td>0.0</td>\n",
       "      <td>0.0</td>\n",
       "      <td>0.0</td>\n",
       "      <td>1.0</td>\n",
       "      <td>0.0</td>\n",
       "      <td>0.0</td>\n",
       "      <td>0.0</td>\n",
       "      <td>0.0</td>\n",
       "    </tr>\n",
       "    <tr>\n",
       "      <th>3</th>\n",
       "      <td>4</td>\n",
       "      <td>Waiting to Exhale</td>\n",
       "      <td>1995.0</td>\n",
       "      <td>0.0</td>\n",
       "      <td>0.0</td>\n",
       "      <td>0.0</td>\n",
       "      <td>0.0</td>\n",
       "      <td>1.0</td>\n",
       "      <td>0.0</td>\n",
       "      <td>0.0</td>\n",
       "      <td>...</td>\n",
       "      <td>0.0</td>\n",
       "      <td>0.0</td>\n",
       "      <td>0.0</td>\n",
       "      <td>0.0</td>\n",
       "      <td>0.0</td>\n",
       "      <td>1.0</td>\n",
       "      <td>0.0</td>\n",
       "      <td>0.0</td>\n",
       "      <td>0.0</td>\n",
       "      <td>0.0</td>\n",
       "    </tr>\n",
       "    <tr>\n",
       "      <th>4</th>\n",
       "      <td>5</td>\n",
       "      <td>Father of the Bride Part II</td>\n",
       "      <td>1995.0</td>\n",
       "      <td>0.0</td>\n",
       "      <td>0.0</td>\n",
       "      <td>0.0</td>\n",
       "      <td>0.0</td>\n",
       "      <td>1.0</td>\n",
       "      <td>0.0</td>\n",
       "      <td>0.0</td>\n",
       "      <td>...</td>\n",
       "      <td>0.0</td>\n",
       "      <td>0.0</td>\n",
       "      <td>0.0</td>\n",
       "      <td>0.0</td>\n",
       "      <td>0.0</td>\n",
       "      <td>0.0</td>\n",
       "      <td>0.0</td>\n",
       "      <td>0.0</td>\n",
       "      <td>0.0</td>\n",
       "      <td>0.0</td>\n",
       "    </tr>\n",
       "  </tbody>\n",
       "</table>\n",
       "<p>5 rows × 22 columns</p>\n",
       "</div>"
      ],
      "text/plain": [
       "   movieId                        title    year  Action  Adventure  Animation  \\\n",
       "0        1                    Toy Story  1995.0     0.0        1.0        1.0   \n",
       "1        2                      Jumanji  1995.0     0.0        1.0        0.0   \n",
       "2        3             Grumpier Old Men  1995.0     0.0        0.0        0.0   \n",
       "3        4            Waiting to Exhale  1995.0     0.0        0.0        0.0   \n",
       "4        5  Father of the Bride Part II  1995.0     0.0        0.0        0.0   \n",
       "\n",
       "   Children  Comedy  Crime  Documentary  ...  Film-Noir  Horror  IMAX  \\\n",
       "0       1.0     1.0    0.0          0.0  ...        0.0     0.0   0.0   \n",
       "1       1.0     0.0    0.0          0.0  ...        0.0     0.0   0.0   \n",
       "2       0.0     1.0    0.0          0.0  ...        0.0     0.0   0.0   \n",
       "3       0.0     1.0    0.0          0.0  ...        0.0     0.0   0.0   \n",
       "4       0.0     1.0    0.0          0.0  ...        0.0     0.0   0.0   \n",
       "\n",
       "   Musical  Mystery  Romance  Sci-Fi  Thriller  War  Western  \n",
       "0      0.0      0.0      0.0     0.0       0.0  0.0      0.0  \n",
       "1      0.0      0.0      0.0     0.0       0.0  0.0      0.0  \n",
       "2      0.0      0.0      1.0     0.0       0.0  0.0      0.0  \n",
       "3      0.0      0.0      1.0     0.0       0.0  0.0      0.0  \n",
       "4      0.0      0.0      0.0     0.0       0.0  0.0      0.0  \n",
       "\n",
       "[5 rows x 22 columns]"
      ]
     },
     "execution_count": 104,
     "metadata": {},
     "output_type": "execute_result"
    }
   ],
   "source": [
    "movies.head()"
   ]
  },
  {
   "cell_type": "markdown",
   "id": "7bfd089d-34bd-41da-90cf-fd4b7219fc6d",
   "metadata": {},
   "source": [
    "__Overall Actions__: \n",
    "\n",
    "- Fill the missing values for years"
   ]
  },
  {
   "cell_type": "code",
   "execution_count": 106,
   "id": "2f55e5a8-14f0-4d46-ba77-23dd9e8a495f",
   "metadata": {},
   "outputs": [],
   "source": [
    "# movies.to_csv('./Data/movies_v2.csv', index=False)"
   ]
  },
  {
   "cell_type": "markdown",
   "id": "5880ca76-7858-41eb-9e49-2ef055c43434",
   "metadata": {},
   "source": [
    "### Links"
   ]
  },
  {
   "cell_type": "code",
   "execution_count": 38,
   "id": "bfc36bc7-ae59-428c-b5d9-031fb137c2a0",
   "metadata": {
    "tags": []
   },
   "outputs": [
    {
     "data": {
      "text/plain": [
       "(58098, 3)"
      ]
     },
     "execution_count": 38,
     "metadata": {},
     "output_type": "execute_result"
    }
   ],
   "source": [
    "links = pd.read_csv(\"./Data/links.csv\")\n",
    "links.shape"
   ]
  },
  {
   "cell_type": "code",
   "execution_count": 39,
   "id": "6e648961-0357-4506-8910-e565979fcb87",
   "metadata": {},
   "outputs": [
    {
     "data": {
      "text/html": [
       "<div>\n",
       "<style scoped>\n",
       "    .dataframe tbody tr th:only-of-type {\n",
       "        vertical-align: middle;\n",
       "    }\n",
       "\n",
       "    .dataframe tbody tr th {\n",
       "        vertical-align: top;\n",
       "    }\n",
       "\n",
       "    .dataframe thead th {\n",
       "        text-align: right;\n",
       "    }\n",
       "</style>\n",
       "<table border=\"1\" class=\"dataframe\">\n",
       "  <thead>\n",
       "    <tr style=\"text-align: right;\">\n",
       "      <th></th>\n",
       "      <th>movieId</th>\n",
       "      <th>imdbId</th>\n",
       "      <th>tmdbId</th>\n",
       "    </tr>\n",
       "  </thead>\n",
       "  <tbody>\n",
       "    <tr>\n",
       "      <th>0</th>\n",
       "      <td>1</td>\n",
       "      <td>114709</td>\n",
       "      <td>862.0</td>\n",
       "    </tr>\n",
       "    <tr>\n",
       "      <th>1</th>\n",
       "      <td>2</td>\n",
       "      <td>113497</td>\n",
       "      <td>8844.0</td>\n",
       "    </tr>\n",
       "    <tr>\n",
       "      <th>2</th>\n",
       "      <td>3</td>\n",
       "      <td>113228</td>\n",
       "      <td>15602.0</td>\n",
       "    </tr>\n",
       "    <tr>\n",
       "      <th>3</th>\n",
       "      <td>4</td>\n",
       "      <td>114885</td>\n",
       "      <td>31357.0</td>\n",
       "    </tr>\n",
       "    <tr>\n",
       "      <th>4</th>\n",
       "      <td>5</td>\n",
       "      <td>113041</td>\n",
       "      <td>11862.0</td>\n",
       "    </tr>\n",
       "  </tbody>\n",
       "</table>\n",
       "</div>"
      ],
      "text/plain": [
       "   movieId  imdbId   tmdbId\n",
       "0        1  114709    862.0\n",
       "1        2  113497   8844.0\n",
       "2        3  113228  15602.0\n",
       "3        4  114885  31357.0\n",
       "4        5  113041  11862.0"
      ]
     },
     "execution_count": 39,
     "metadata": {},
     "output_type": "execute_result"
    }
   ],
   "source": [
    "links.head()"
   ]
  },
  {
   "cell_type": "markdown",
   "id": "7b7302f7-e645-411e-8bf1-c4e9fea11e0e",
   "metadata": {},
   "source": [
    "## User Data"
   ]
  },
  {
   "cell_type": "markdown",
   "id": "c51f3cfe-dc02-49ed-8103-381b19e9b3f4",
   "metadata": {},
   "source": [
    "### Demographics"
   ]
  },
  {
   "cell_type": "code",
   "execution_count": 63,
   "id": "39428223-3118-47ac-a1bf-4f2743cab451",
   "metadata": {},
   "outputs": [],
   "source": [
    "demographics = pd.read_csv(\"./Data/u.user.csv\", header=None, sep='|')\n",
    "demographics.columns = ['userId', 'age', 'gender', 'occupation', 'zip_code']"
   ]
  },
  {
   "cell_type": "code",
   "execution_count": 64,
   "id": "9f6a966e-3cc6-485c-9d6a-d5aea9494865",
   "metadata": {},
   "outputs": [
    {
     "data": {
      "text/plain": [
       "0"
      ]
     },
     "execution_count": 64,
     "metadata": {},
     "output_type": "execute_result"
    }
   ],
   "source": [
    "demographics.duplicated().sum()"
   ]
  },
  {
   "cell_type": "code",
   "execution_count": 65,
   "id": "b86ee485-ebd1-423c-8a50-dd205c90bfcf",
   "metadata": {},
   "outputs": [
    {
     "data": {
      "text/html": [
       "<div>\n",
       "<style scoped>\n",
       "    .dataframe tbody tr th:only-of-type {\n",
       "        vertical-align: middle;\n",
       "    }\n",
       "\n",
       "    .dataframe tbody tr th {\n",
       "        vertical-align: top;\n",
       "    }\n",
       "\n",
       "    .dataframe thead th {\n",
       "        text-align: right;\n",
       "    }\n",
       "</style>\n",
       "<table border=\"1\" class=\"dataframe\">\n",
       "  <thead>\n",
       "    <tr style=\"text-align: right;\">\n",
       "      <th></th>\n",
       "      <th>userId</th>\n",
       "      <th>age</th>\n",
       "      <th>gender</th>\n",
       "      <th>occupation</th>\n",
       "      <th>zip_code</th>\n",
       "    </tr>\n",
       "  </thead>\n",
       "  <tbody>\n",
       "    <tr>\n",
       "      <th>0</th>\n",
       "      <td>1</td>\n",
       "      <td>24</td>\n",
       "      <td>M</td>\n",
       "      <td>technician</td>\n",
       "      <td>85711</td>\n",
       "    </tr>\n",
       "    <tr>\n",
       "      <th>1</th>\n",
       "      <td>2</td>\n",
       "      <td>53</td>\n",
       "      <td>F</td>\n",
       "      <td>other</td>\n",
       "      <td>94043</td>\n",
       "    </tr>\n",
       "    <tr>\n",
       "      <th>2</th>\n",
       "      <td>3</td>\n",
       "      <td>23</td>\n",
       "      <td>M</td>\n",
       "      <td>writer</td>\n",
       "      <td>32067</td>\n",
       "    </tr>\n",
       "    <tr>\n",
       "      <th>3</th>\n",
       "      <td>4</td>\n",
       "      <td>24</td>\n",
       "      <td>M</td>\n",
       "      <td>technician</td>\n",
       "      <td>43537</td>\n",
       "    </tr>\n",
       "    <tr>\n",
       "      <th>4</th>\n",
       "      <td>5</td>\n",
       "      <td>33</td>\n",
       "      <td>F</td>\n",
       "      <td>other</td>\n",
       "      <td>15213</td>\n",
       "    </tr>\n",
       "  </tbody>\n",
       "</table>\n",
       "</div>"
      ],
      "text/plain": [
       "   userId  age gender  occupation zip_code\n",
       "0       1   24      M  technician    85711\n",
       "1       2   53      F       other    94043\n",
       "2       3   23      M      writer    32067\n",
       "3       4   24      M  technician    43537\n",
       "4       5   33      F       other    15213"
      ]
     },
     "execution_count": 65,
     "metadata": {},
     "output_type": "execute_result"
    }
   ],
   "source": [
    "demographics.head()"
   ]
  },
  {
   "cell_type": "markdown",
   "id": "4d99cecf-051e-4d5c-b105-5aded5b009e7",
   "metadata": {},
   "source": [
    "We have more users in this dataset: "
   ]
  },
  {
   "cell_type": "code",
   "execution_count": 66,
   "id": "61d8140f-9011-44f6-9805-9270aaaaf968",
   "metadata": {},
   "outputs": [
    {
     "data": {
      "text/plain": [
       "943"
      ]
     },
     "execution_count": 66,
     "metadata": {},
     "output_type": "execute_result"
    }
   ],
   "source": [
    "demographics.userId.nunique()"
   ]
  },
  {
   "cell_type": "markdown",
   "id": "d6c84f02-c6a3-4109-9052-388ddcfa12a8",
   "metadata": {},
   "source": [
    "Check distribution of ages: "
   ]
  },
  {
   "cell_type": "code",
   "execution_count": 67,
   "id": "02759acd-0933-456e-90e7-9184749ef195",
   "metadata": {},
   "outputs": [
    {
     "data": {
      "text/plain": [
       "<AxesSubplot:>"
      ]
     },
     "execution_count": 67,
     "metadata": {},
     "output_type": "execute_result"
    },
    {
     "data": {
      "image/png": "[encoded data removed]",
      "text/plain": [
       "<Figure size 1080x504 with 1 Axes>"
      ]
     },
     "metadata": {
      "needs_background": "light"
     },
     "output_type": "display_data"
    }
   ],
   "source": [
    "demographics.age.hist(bins=30)"
   ]
  },
  {
   "cell_type": "markdown",
   "id": "dd77733e-90a7-4382-b0b7-811b91e7a6bf",
   "metadata": {},
   "source": [
    "- Mostly young users"
   ]
  },
  {
   "cell_type": "code",
   "execution_count": 68,
   "id": "ad780312-a9cd-4873-8165-0a64a9edfaa0",
   "metadata": {},
   "outputs": [
    {
     "data": {
      "text/plain": [
       "gender\n",
       "F    0.289502\n",
       "M    0.710498\n",
       "dtype: float64"
      ]
     },
     "execution_count": 68,
     "metadata": {},
     "output_type": "execute_result"
    }
   ],
   "source": [
    "demographics.groupby('gender').size()/demographics.userId.nunique()"
   ]
  },
  {
   "cell_type": "markdown",
   "id": "ab3e236f-33fd-451e-9d36-11983109e253",
   "metadata": {},
   "source": [
    "- Much more male users than woman"
   ]
  },
  {
   "cell_type": "code",
   "execution_count": 69,
   "id": "1ee8e8da-8845-456e-b635-5d11f362e7df",
   "metadata": {},
   "outputs": [
    {
     "data": {
      "text/plain": [
       "occupation\n",
       "student          0.207847\n",
       "other            0.111347\n",
       "educator         0.100742\n",
       "administrator    0.083775\n",
       "engineer         0.071050\n",
       "programmer       0.069989\n",
       "librarian        0.054083\n",
       "writer           0.047720\n",
       "executive        0.033934\n",
       "scientist        0.032874\n",
       "artist           0.029692\n",
       "technician       0.028632\n",
       "marketing        0.027572\n",
       "entertainment    0.019088\n",
       "healthcare       0.016967\n",
       "retired          0.014846\n",
       "lawyer           0.012725\n",
       "salesman         0.012725\n",
       "none             0.009544\n",
       "homemaker        0.007423\n",
       "doctor           0.007423\n",
       "dtype: float64"
      ]
     },
     "execution_count": 69,
     "metadata": {},
     "output_type": "execute_result"
    }
   ],
   "source": [
    "(demographics.groupby('occupation').size()/demographics.userId.nunique()).sort_values(ascending=False)"
   ]
  },
  {
   "cell_type": "markdown",
   "id": "970d6549-14a3-4428-9815-2a539df3a1e0",
   "metadata": {},
   "source": [
    "- 1/5th of users are students. The rest of the users are distributed evenly"
   ]
  },
  {
   "cell_type": "markdown",
   "id": "7dce48a8-e981-425e-ace4-c8a985fac3c5",
   "metadata": {},
   "source": [
    "__Check correlations__\n",
    "\n",
    "Age and occupation: "
   ]
  },
  {
   "cell_type": "code",
   "execution_count": 70,
   "id": "a50d1f9c-a109-4fa6-8e40-e5d35e49c04d",
   "metadata": {},
   "outputs": [],
   "source": [
    "def boxplot_sorted(df, by, column):\n",
    "    df2 = pd.DataFrame({col:vals[column] for col, vals in df.groupby(by)})\n",
    "    meds = df2.median().sort_values()\n",
    "    df2[meds.index].boxplot(rot=90)"
   ]
  },
  {
   "cell_type": "code",
   "execution_count": 71,
   "id": "a0224fc6-1716-43c6-bd0a-b70306b0e89a",
   "metadata": {},
   "outputs": [
    {
     "data": {
      "image/png": "[encoded data removed]",
      "text/plain": [
       "<Figure size 1080x504 with 1 Axes>"
      ]
     },
     "metadata": {
      "needs_background": "light"
     },
     "output_type": "display_data"
    }
   ],
   "source": [
    "boxplot_sorted(demographics, \"occupation\", 'age')"
   ]
  },
  {
   "cell_type": "markdown",
   "id": "26ed40e3-adb0-4ea7-9d6c-c19986642641",
   "metadata": {},
   "source": [
    "- As expected, there is a correlation. Students have much lower ages, and age increases for a few top-level jobs as doctors or educators (retired are at the top clearly)"
   ]
  },
  {
   "cell_type": "markdown",
   "id": "81617967-f6d0-4401-8dd2-df3d9546002e",
   "metadata": {},
   "source": [
    "Age and Gender: "
   ]
  },
  {
   "cell_type": "code",
   "execution_count": 72,
   "id": "c9edf924-35d9-4cb9-a860-320b74e12fcb",
   "metadata": {},
   "outputs": [
    {
     "data": {
      "image/png": "[encoded data removed]",
      "text/plain": [
       "<Figure size 1080x504 with 1 Axes>"
      ]
     },
     "metadata": {
      "needs_background": "light"
     },
     "output_type": "display_data"
    }
   ],
   "source": [
    "boxplot_sorted(demographics, \"gender\", 'age')"
   ]
  },
  {
   "cell_type": "markdown",
   "id": "1518b937-7a5b-4836-98e9-576a646fb351",
   "metadata": {},
   "source": [
    "No correlation"
   ]
  },
  {
   "cell_type": "markdown",
   "id": "0f9ea653-4be7-4a2e-a8a8-0e697f380570",
   "metadata": {},
   "source": [
    "Occupation and Gender"
   ]
  },
  {
   "cell_type": "code",
   "execution_count": 73,
   "id": "2e2fd643-b285-4a8a-93b1-bb62dd61efec",
   "metadata": {},
   "outputs": [
    {
     "data": {
      "text/plain": [
       "<AxesSubplot:xlabel='occupation'>"
      ]
     },
     "execution_count": 73,
     "metadata": {},
     "output_type": "execute_result"
    },
    {
     "data": {
      "image/png": "[encoded data removed]",
      "text/plain": [
       "<Figure size 1080x504 with 1 Axes>"
      ]
     },
     "metadata": {
      "needs_background": "light"
     },
     "output_type": "display_data"
    }
   ],
   "source": [
    "demographics.groupby(['occupation', 'gender']).size().unstack(1).plot.bar()"
   ]
  },
  {
   "cell_type": "markdown",
   "id": "3953d1d5-4cac-4152-95fa-ebd66db41a1d",
   "metadata": {},
   "source": [
    "Convert zip codes to coordinates for visual analysis"
   ]
  },
  {
   "cell_type": "code",
   "execution_count": 74,
   "id": "683e323e-17b5-42c2-a81e-17faea35640f",
   "metadata": {},
   "outputs": [],
   "source": [
    "nomi = pgeocode.Nominatim('us')\n",
    "geolocation = nomi.query_postal_code(demographics.zip_code.values)[['place_name', 'state_name', 'latitude', 'longitude']]\n",
    "geolocation.index = demographics.userId"
   ]
  },
  {
   "cell_type": "markdown",
   "id": "8b3ae693-6ae8-40be-ac29-9c84e2fb9e48",
   "metadata": {},
   "source": [
    "This is the resulting information: "
   ]
  },
  {
   "cell_type": "code",
   "execution_count": 75,
   "id": "b74d3b7a-308f-49ad-b6b8-2c90a740dbcf",
   "metadata": {},
   "outputs": [
    {
     "data": {
      "text/html": [
       "<div>\n",
       "<style scoped>\n",
       "    .dataframe tbody tr th:only-of-type {\n",
       "        vertical-align: middle;\n",
       "    }\n",
       "\n",
       "    .dataframe tbody tr th {\n",
       "        vertical-align: top;\n",
       "    }\n",
       "\n",
       "    .dataframe thead th {\n",
       "        text-align: right;\n",
       "    }\n",
       "</style>\n",
       "<table border=\"1\" class=\"dataframe\">\n",
       "  <thead>\n",
       "    <tr style=\"text-align: right;\">\n",
       "      <th></th>\n",
       "      <th>place_name</th>\n",
       "      <th>state_name</th>\n",
       "      <th>latitude</th>\n",
       "      <th>longitude</th>\n",
       "    </tr>\n",
       "    <tr>\n",
       "      <th>userId</th>\n",
       "      <th></th>\n",
       "      <th></th>\n",
       "      <th></th>\n",
       "      <th></th>\n",
       "    </tr>\n",
       "  </thead>\n",
       "  <tbody>\n",
       "    <tr>\n",
       "      <th>1</th>\n",
       "      <td>Tucson</td>\n",
       "      <td>Arizona</td>\n",
       "      <td>32.2127</td>\n",
       "      <td>-110.8829</td>\n",
       "    </tr>\n",
       "    <tr>\n",
       "      <th>2</th>\n",
       "      <td>Mountain View</td>\n",
       "      <td>California</td>\n",
       "      <td>37.4056</td>\n",
       "      <td>-122.0775</td>\n",
       "    </tr>\n",
       "    <tr>\n",
       "      <th>3</th>\n",
       "      <td>Orange Park</td>\n",
       "      <td>Florida</td>\n",
       "      <td>30.1661</td>\n",
       "      <td>-81.7065</td>\n",
       "    </tr>\n",
       "    <tr>\n",
       "      <th>4</th>\n",
       "      <td>Maumee</td>\n",
       "      <td>Ohio</td>\n",
       "      <td>41.5817</td>\n",
       "      <td>-83.6628</td>\n",
       "    </tr>\n",
       "    <tr>\n",
       "      <th>5</th>\n",
       "      <td>Pittsburgh</td>\n",
       "      <td>Pennsylvania</td>\n",
       "      <td>40.4440</td>\n",
       "      <td>-79.9552</td>\n",
       "    </tr>\n",
       "  </tbody>\n",
       "</table>\n",
       "</div>"
      ],
      "text/plain": [
       "           place_name    state_name  latitude  longitude\n",
       "userId                                                  \n",
       "1              Tucson       Arizona   32.2127  -110.8829\n",
       "2       Mountain View    California   37.4056  -122.0775\n",
       "3         Orange Park       Florida   30.1661   -81.7065\n",
       "4              Maumee          Ohio   41.5817   -83.6628\n",
       "5          Pittsburgh  Pennsylvania   40.4440   -79.9552"
      ]
     },
     "execution_count": 75,
     "metadata": {},
     "output_type": "execute_result"
    }
   ],
   "source": [
    "geolocation.head()"
   ]
  },
  {
   "cell_type": "markdown",
   "id": "66018543-2a03-4e21-9b71-88dea17c8b74",
   "metadata": {},
   "source": [
    "Merge: "
   ]
  },
  {
   "cell_type": "code",
   "execution_count": 76,
   "id": "9c17d519-d4b7-4867-846f-98796653c7d1",
   "metadata": {},
   "outputs": [],
   "source": [
    "demographics = demographics.merge(geolocation, on='userId', how='left')"
   ]
  },
  {
   "cell_type": "code",
   "execution_count": 77,
   "id": "726dedb4-66c1-4a44-9092-ce0d0bff822a",
   "metadata": {},
   "outputs": [
    {
     "data": {
      "text/html": [
       "<div>\n",
       "<style scoped>\n",
       "    .dataframe tbody tr th:only-of-type {\n",
       "        vertical-align: middle;\n",
       "    }\n",
       "\n",
       "    .dataframe tbody tr th {\n",
       "        vertical-align: top;\n",
       "    }\n",
       "\n",
       "    .dataframe thead th {\n",
       "        text-align: right;\n",
       "    }\n",
       "</style>\n",
       "<table border=\"1\" class=\"dataframe\">\n",
       "  <thead>\n",
       "    <tr style=\"text-align: right;\">\n",
       "      <th></th>\n",
       "      <th>userId</th>\n",
       "      <th>age</th>\n",
       "      <th>gender</th>\n",
       "      <th>occupation</th>\n",
       "      <th>zip_code</th>\n",
       "      <th>place_name</th>\n",
       "      <th>state_name</th>\n",
       "      <th>latitude</th>\n",
       "      <th>longitude</th>\n",
       "    </tr>\n",
       "  </thead>\n",
       "  <tbody>\n",
       "    <tr>\n",
       "      <th>0</th>\n",
       "      <td>1</td>\n",
       "      <td>24</td>\n",
       "      <td>M</td>\n",
       "      <td>technician</td>\n",
       "      <td>85711</td>\n",
       "      <td>Tucson</td>\n",
       "      <td>Arizona</td>\n",
       "      <td>32.2127</td>\n",
       "      <td>-110.8829</td>\n",
       "    </tr>\n",
       "    <tr>\n",
       "      <th>1</th>\n",
       "      <td>2</td>\n",
       "      <td>53</td>\n",
       "      <td>F</td>\n",
       "      <td>other</td>\n",
       "      <td>94043</td>\n",
       "      <td>Mountain View</td>\n",
       "      <td>California</td>\n",
       "      <td>37.4056</td>\n",
       "      <td>-122.0775</td>\n",
       "    </tr>\n",
       "    <tr>\n",
       "      <th>2</th>\n",
       "      <td>3</td>\n",
       "      <td>23</td>\n",
       "      <td>M</td>\n",
       "      <td>writer</td>\n",
       "      <td>32067</td>\n",
       "      <td>Orange Park</td>\n",
       "      <td>Florida</td>\n",
       "      <td>30.1661</td>\n",
       "      <td>-81.7065</td>\n",
       "    </tr>\n",
       "    <tr>\n",
       "      <th>3</th>\n",
       "      <td>4</td>\n",
       "      <td>24</td>\n",
       "      <td>M</td>\n",
       "      <td>technician</td>\n",
       "      <td>43537</td>\n",
       "      <td>Maumee</td>\n",
       "      <td>Ohio</td>\n",
       "      <td>41.5817</td>\n",
       "      <td>-83.6628</td>\n",
       "    </tr>\n",
       "    <tr>\n",
       "      <th>4</th>\n",
       "      <td>5</td>\n",
       "      <td>33</td>\n",
       "      <td>F</td>\n",
       "      <td>other</td>\n",
       "      <td>15213</td>\n",
       "      <td>Pittsburgh</td>\n",
       "      <td>Pennsylvania</td>\n",
       "      <td>40.4440</td>\n",
       "      <td>-79.9552</td>\n",
       "    </tr>\n",
       "  </tbody>\n",
       "</table>\n",
       "</div>"
      ],
      "text/plain": [
       "   userId  age gender  occupation zip_code     place_name    state_name  \\\n",
       "0       1   24      M  technician    85711         Tucson       Arizona   \n",
       "1       2   53      F       other    94043  Mountain View    California   \n",
       "2       3   23      M      writer    32067    Orange Park       Florida   \n",
       "3       4   24      M  technician    43537         Maumee          Ohio   \n",
       "4       5   33      F       other    15213     Pittsburgh  Pennsylvania   \n",
       "\n",
       "   latitude  longitude  \n",
       "0   32.2127  -110.8829  \n",
       "1   37.4056  -122.0775  \n",
       "2   30.1661   -81.7065  \n",
       "3   41.5817   -83.6628  \n",
       "4   40.4440   -79.9552  "
      ]
     },
     "execution_count": 77,
     "metadata": {},
     "output_type": "execute_result"
    }
   ],
   "source": [
    "demographics.head()"
   ]
  },
  {
   "cell_type": "code",
   "execution_count": 81,
   "id": "86210921-cbda-46fa-b41c-519955c15a10",
   "metadata": {},
   "outputs": [],
   "source": [
    "# demographics.to_csv('./Data/u.user_v2.csv', index=False)"
   ]
  },
  {
   "cell_type": "markdown",
   "id": "94d59e04-7281-4c29-8050-bd4cff2235f8",
   "metadata": {},
   "source": [
    "Check coordinates:"
   ]
  },
  {
   "cell_type": "code",
   "execution_count": 55,
   "id": "d8bf7656-1ee4-400d-9481-140c7d92b796",
   "metadata": {},
   "outputs": [],
   "source": [
    "import pandas as pd\n",
    "from shapely.geometry import Point\n",
    "import geopandas as gpd\n",
    "from geopandas import GeoDataFrame"
   ]
  },
  {
   "cell_type": "code",
   "execution_count": 57,
   "id": "cd910685-2573-4d5f-86e0-4a29ab40d9b0",
   "metadata": {},
   "outputs": [
    {
     "data": {
      "text/plain": [
       "<AxesSubplot:>"
      ]
     },
     "execution_count": 57,
     "metadata": {},
     "output_type": "execute_result"
    },
    {
     "data": {
      "image/png": "[encoded data removed]",
      "text/plain": [
       "<Figure size 720x432 with 1 Axes>"
      ]
     },
     "metadata": {
      "needs_background": "light"
     },
     "output_type": "display_data"
    }
   ],
   "source": [
    "geometry = [Point(xy) for xy in zip(demographics['longitude'], demographics['latitude'])]\n",
    "gdf = GeoDataFrame(demographics, geometry=geometry)   \n",
    "world = gpd.read_file(gpd.datasets.get_path('naturalearth_lowres'))\n",
    "gdf.plot(ax=world.plot(figsize=(10, 6)), marker='o', color='red', markersize=15) "
   ]
  },
  {
   "cell_type": "markdown",
   "id": "5a79b9d0-91ea-4b79-a90a-d0765cfb3269",
   "metadata": {},
   "source": [
    "Only few users appear to be from other parts of the world. Check in the US: "
   ]
  },
  {
   "cell_type": "code",
   "execution_count": 58,
   "id": "fadb04bf-3f83-4356-bbc6-bcb868db0032",
   "metadata": {},
   "outputs": [],
   "source": [
    "stats = ratings.groupby('userId').rating.agg([np.mean, 'size'])\n",
    "user_information = stats.merge(demographics, on='userId', how='left')"
   ]
  },
  {
   "cell_type": "code",
   "execution_count": 59,
   "id": "2f4f2275-6a02-4469-b740-a37dcba8c9ff",
   "metadata": {},
   "outputs": [
    {
     "data": {
      "text/plain": [
       "<AxesSubplot:>"
      ]
     },
     "execution_count": 59,
     "metadata": {},
     "output_type": "execute_result"
    },
    {
     "data": {
      "image/png": "[encoded data removed]",
      "text/plain": [
       "<Figure size 1080x504 with 1 Axes>"
      ]
     },
     "metadata": {
      "needs_background": "light"
     },
     "output_type": "display_data"
    }
   ],
   "source": [
    "user_information = user_information[user_information['longitude'] < -50]\n",
    "geometry = [Point(xy) for xy in zip(user_information['longitude'], user_information['latitude'])]\n",
    "gdf = GeoDataFrame(user_information, geometry=geometry)   \n",
    "\n",
    "#this is a simple map that goes with geopandas\n",
    "world = gpd.read_file(gpd.datasets.get_path('naturalearth_lowres'))\n",
    "ax = world[world.continent == 'North America'].plot(\n",
    "    color='white', edgecolor='black')\n",
    "gdf.plot(ax=ax, marker='o', c=user_information['mean'], markersize=15) "
   ]
  },
  {
   "cell_type": "markdown",
   "id": "b4bc3abf-1668-4c60-b5c6-f26635e6b138",
   "metadata": {},
   "source": [
    "No clear trend of averages given the same number of users. Check for categories: "
   ]
  },
  {
   "cell_type": "code",
   "execution_count": 60,
   "id": "09936afb-bf18-47c7-bc05-6cb30757bf6b",
   "metadata": {},
   "outputs": [],
   "source": [
    "categories = movies.columns[3:].values\n",
    "preferred_genre = ratings.merge(movies, on='movieId', how='left').groupby('userId')[categories].sum().apply('idxmax', 1)\n",
    "\n",
    "# Encode for viz\n",
    "encoder = OrdinalEncoder()\n",
    "encoded = encoder.fit_transform(preferred_genre.values.reshape(-1, 1))\n",
    "preferred_genre = pd.DataFrame(encoded.reshape(610), index=preferred_genre.index)\n",
    "\n",
    "# Merge\n",
    "user_information = preferred_genre.merge(demographics, on='userId', how='left')"
   ]
  },
  {
   "cell_type": "code",
   "execution_count": 89,
   "id": "d9939c68-1115-4266-a2a9-a52cd90da9b3",
   "metadata": {},
   "outputs": [],
   "source": [
    "preferred_genre['preferred_genre'] = encoder.inverse_transform(preferred_genre)\n",
    "# preferred_genre.drop(0, axis=1).to_csv('./Data/prefered_genre.csv')"
   ]
  },
  {
   "cell_type": "code",
   "execution_count": 61,
   "id": "7fa997bc-66b6-4477-92d1-d0b869e3c788",
   "metadata": {},
   "outputs": [
    {
     "data": {
      "text/plain": [
       "<AxesSubplot:>"
      ]
     },
     "execution_count": 61,
     "metadata": {},
     "output_type": "execute_result"
    },
    {
     "data": {
      "image/png": "[encoded data removed]",
      "text/plain": [
       "<Figure size 1080x504 with 1 Axes>"
      ]
     },
     "metadata": {
      "needs_background": "light"
     },
     "output_type": "display_data"
    }
   ],
   "source": [
    "user_information = user_information[user_information['longitude'] < -50]\n",
    "geometry = [Point(xy) for xy in zip(user_information['longitude'], user_information['latitude'])]\n",
    "gdf = GeoDataFrame(user_information, geometry=geometry)   \n",
    "\n",
    "#this is a simple map that goes with geopandas\n",
    "world = gpd.read_file(gpd.datasets.get_path('naturalearth_lowres'))\n",
    "ax = world[world.continent == 'North America'].plot(\n",
    "    color='white', edgecolor='black')\n",
    "gdf.plot(ax=ax, marker='o', c=user_information[0], markersize=15) "
   ]
  },
  {
   "cell_type": "markdown",
   "id": "0a7171a9-fc1f-4a10-8762-c5b02a07de67",
   "metadata": {},
   "source": [
    "No speific trend"
   ]
  },
  {
   "cell_type": "markdown",
   "id": "6c232b4a-bd82-4269-84cb-c33eabd47619",
   "metadata": {},
   "source": [
    "## User-Item Data"
   ]
  },
  {
   "cell_type": "markdown",
   "id": "1d9d3520-5846-473c-94a0-abdb5d8bc391",
   "metadata": {
    "tags": []
   },
   "source": [
    "### Tags"
   ]
  },
  {
   "cell_type": "code",
   "execution_count": 217,
   "id": "e868f7c8-4357-4707-b29f-84520a224e9e",
   "metadata": {},
   "outputs": [
    {
     "data": {
      "text/plain": [
       "(1108997, 4)"
      ]
     },
     "execution_count": 217,
     "metadata": {},
     "output_type": "execute_result"
    }
   ],
   "source": [
    "tags = pd.read_csv(\"./Data/tags.csv\")\n",
    "tags.shape"
   ]
  },
  {
   "cell_type": "markdown",
   "id": "7b1b9e20-067b-4151-864a-c68955f3861e",
   "metadata": {},
   "source": [
    "Tags are user-generated metadata about movies. Each tag is typically a single word or short phrase. The meaning, value, and purpose of a particular tag is determined by each user. \n",
    "\n",
    "The tag genome is a data structure that contains tag relevance scores for movies.  The structure is a dense matrix: each movie in the genome has a value for *every* tag in the genome.The tag genome encodes how strongly movies exhibit particular properties represented by tags (atmospheric, thought-provoking, realistic, etc.). The tag genome was computed using a machine learning algorithm on user-contributed content including tags, ratings, and textual reviews."
   ]
  },
  {
   "cell_type": "code",
   "execution_count": 218,
   "id": "8b3df5fe-c453-4db2-a2dd-82f5cf591823",
   "metadata": {},
   "outputs": [
    {
     "data": {
      "text/plain": [
       "userId        19325\n",
       "movieId       45981\n",
       "tag           74714\n",
       "timestamp    911869\n",
       "dtype: int64"
      ]
     },
     "execution_count": 218,
     "metadata": {},
     "output_type": "execute_result"
    }
   ],
   "source": [
    "tags.nunique()"
   ]
  },
  {
   "cell_type": "markdown",
   "id": "e32392d2-c91f-4851-ba7a-7f7f8eabb004",
   "metadata": {},
   "source": [
    "We have much more users using this. We need to only keep tags which userID and movieID are in our data: "
   ]
  },
  {
   "cell_type": "code",
   "execution_count": 219,
   "id": "993004f9-74a5-4fd2-9715-b4c75917cda9",
   "metadata": {},
   "outputs": [
    {
     "data": {
      "text/plain": [
       "(1250, 4)"
      ]
     },
     "execution_count": 219,
     "metadata": {},
     "output_type": "execute_result"
    }
   ],
   "source": [
    "tags = tags[(tags.userId.isin(ratings.userId.unique())) & (tags.movieId.isin(ratings.movieId.unique()))]\n",
    "tags.shape"
   ]
  },
  {
   "cell_type": "markdown",
   "id": "bda929cc-50d4-435a-a9b0-f040b31c4382",
   "metadata": {},
   "source": [
    "Decreased the number of tags significantly: "
   ]
  },
  {
   "cell_type": "code",
   "execution_count": 220,
   "id": "85b28282-2a2b-4d90-ab17-70037a527def",
   "metadata": {},
   "outputs": [
    {
     "data": {
      "text/plain": [
       "822"
      ]
     },
     "execution_count": 220,
     "metadata": {},
     "output_type": "execute_result"
    }
   ],
   "source": [
    "tags.tag.nunique()"
   ]
  },
  {
   "cell_type": "markdown",
   "id": "36adf9b3-2a6e-445e-9815-85584e491df7",
   "metadata": {},
   "source": [
    "We need to do preprocessing with the tags to group them"
   ]
  },
  {
   "cell_type": "code",
   "execution_count": 221,
   "id": "c10aaebf-1277-48e8-a87b-e08abe8b5de6",
   "metadata": {},
   "outputs": [
    {
     "data": {
      "text/plain": [
       "ohsoso                     46\n",
       "Slashy                     15\n",
       "sci-fi                     12\n",
       "boring                     12\n",
       "dark comedy                11\n",
       "                           ..\n",
       "not funny                   2\n",
       "heroin                      2\n",
       "quirky                      2\n",
       "addiction                   2\n",
       "mother-son relationship     2\n",
       "Name: tag, Length: 100, dtype: int64"
      ]
     },
     "execution_count": 221,
     "metadata": {},
     "output_type": "execute_result"
    }
   ],
   "source": [
    "tags.tag.value_counts().head(100)"
   ]
  },
  {
   "cell_type": "markdown",
   "id": "8e1ec8fb-4dc6-4acd-ba8c-f563f383ba7a",
   "metadata": {},
   "source": [
    "Some are used over a lot of movies. Set same case: "
   ]
  },
  {
   "cell_type": "code",
   "execution_count": 222,
   "id": "c23381e5-c685-4565-aac1-173e76708732",
   "metadata": {},
   "outputs": [],
   "source": [
    "tags.tag = tags.tag.apply(lambda x: x.title())"
   ]
  },
  {
   "cell_type": "markdown",
   "id": "2868eadf-ed6d-4c70-8064-cfcd970eabd7",
   "metadata": {},
   "source": [
    "#### Reduce Cardinality of Tags"
   ]
  },
  {
   "cell_type": "markdown",
   "id": "f88f4abb-6f0e-46cd-bd31-6c13dbbe32c6",
   "metadata": {},
   "source": [
    "__Attempt 1__ Compute Levenshtein distance between words and do affinity propagation: "
   ]
  },
  {
   "cell_type": "code",
   "execution_count": 223,
   "id": "9850b17a-43be-4748-9144-eee4c478650b",
   "metadata": {},
   "outputs": [],
   "source": [
    "unique_tags = tags.tag.unique()\n",
    "lev_similarity = -1*np.array([[distance.levenshtein(w1,w2) for w1 in unique_tags] for w2 in unique_tags])"
   ]
  },
  {
   "cell_type": "code",
   "execution_count": 224,
   "id": "5b1cc1e0-5a85-47fa-95d9-a0257b2ca3be",
   "metadata": {},
   "outputs": [
    {
     "name": "stdout",
     "output_type": "stream",
     "text": [
      " - *Space Action:* Drug Addiction, Dwayne Johnson, Samuel L Jackson, Scarlett Johansson, Science Fiction, Slice Of Life, Space Action, Space Epic, Space Travel\n",
      " - *Classic Sci-Fi:* Class Sci-Fi, Classic Horror, Classic Sci-Fi, Thoughtful Sci-Fi\n",
      " - *Overrated:* A Little Dated, Lighthearted, Love Triangles, No Narrative, Oscar Nunez, Over-Hyped, Over-The-Top, Overrated, Overrrated\n",
      " - *Post-Traumatic Stress Disorder:* Post-Traumatic Stress Disorder\n",
      " - *Suprises Around Every Corner:* Suprises Around Every Corner\n",
      " - *Too Long:* Chowyoungfat, Far Too Long, Good Acting, Ken Jeong, Not Funny, The One, Thought Provoking, Thought-Provoking, Todd Solondz, Tom Hanks, Tom Holland, Too Dumb To Live, Too Long, Touching\n",
      " - *Mary Elizabeth Winstead:* Mary Elizabeth Winstead\n",
      " - *Michael Cera:* Big Damn Heroes, Michael B. Jordan, Michael Cera, Michael Pena, Michelle Rodriguez\n",
      " - *Video Games:* Andrew Garfield, Time Travel, Video Game Adaptation, Video Games, Videogame\n",
      " - *Predictable:* Believable, Medieval, Predictable, Projectile Vomit, Unpredictable\n",
      " - *Dark Comedy:* Black Comedy, Dark Comedy, Dark Humor, Horror Comedy, Mark Ruffalo, Martin Scorsese, Romantic Comedy\n",
      " - *Great Dialogue:* Bad Dialogue, Gratuitous Sex, Great Dialogue, Great Performances, Great Premise\n",
      " - *Man Vs. Nature:* Channing Tatum, Creature Feature, Man Against Nature, Man Vs. Nature\n",
      " - *Dystopia:* Catastrophic, Dystopia, Dystopian, Dystopic Future, Hypnotism, Technophobia\n",
      " - *Bad Effects:* Bad Effects, Badass Mustache, Best Of 2005, Old Timey Sets, Sound Effects, Special Effects, Visual Effects\n",
      " - *Heavy Post-Processing:* Heavy Post-Processing\n",
      " - *Superhero:* Alter Ego, Atmospheric, Atypical Superhero, Russell Crowe, Scenery Porn, Subversive, Superhero, Superheros, Supernatural, Undercover Cop\n",
      " - *Artificial Intelligence:* Artificial Intelligence\n",
      " - *Psychology:* Anthology, Archaeology, Nano-Technology, Psychological, Psychology, Psychopathy, Psychothriller, Technology\n",
      " - *Complicated:* Complicated, Complicated Plot, Copenhagen, Corporate Greed, Implacable Man\n",
      " - *Twist Ending:* British English, Crap Ending, Disappointing, Downer Ending, Jesse Eisenberg, Kristen Wiig, No Ending, Surprise Ending, Taika Waititi, Tension Building, Twist Ending, Twists & Turns, Weak Ending\n",
      " - *Animation:* Animal Attacks, Animal Horror, Animation, Anti-Semitism, Art Evolution, Assimilation Plot, Cannibalism, Communication, Humiliation Conga, Imagination, Innovation, Inspirational, Isolation, Masterbation, Public Humiliation\n",
      " - *First Contact:* Alien Contact, First Contact, Found Footage, Incestual Content, Mind Control\n",
      " - *Fake Documentary:* Fake Documentary, Jake Gyllenhaal, Robert Downey Jr., Social Commentary\n",
      " - *Visually Stunning:* Visually Stunning\n",
      " - *Visually Appealing:* Visually Appealing, Visually Spectacular\n",
      " - *Unrealistic:* Breakfast Club, Intellectual, Masochistic, Realistic, Survival Instinct, Unrealistic, Unreallistic\n",
      " - *Post Apocalyptic:* Mystical Space Epic, Post Apocalypse, Post Apocalyptic, Post-Apocalyptic\n",
      " - *Beautifull Shots:* Beautiful Scenery, Beautiful Visuals, Beautifull Shots\n",
      " - *Tim Roth:* Chris Hemsworth, Eli Roth, Film Noir, Guy Ritchie, Jim Morrison, Julia Roberts, Justin Bartha, Lex Luthor, The Rock, Thin Plot, Tim Burton, Tim Roth, Will Smith\n",
      " - *Seen More Than Once:* Seen More Than Once\n",
      " - *Christopher Nolan:* Christopher Eccleston, Christopher Nolan, Writer: Christopher Nolan\n",
      " - *True Story:* Anne Hathaway, Crude Humor, Exploratory, Free Speech, Love Story, Meryl Streep, Stupid Story, Torture Porn, True Story, True To The Book, Unique Story\n",
      " - *Story Line:* Blury Shot, Cool Bike, Entertaining, Fairy Tale, Harmony Korine, Henry Viii, Imaginary Friend, Memory Loss, Motorcycle Chase, No Story Line, Stephen King, Story Line, Sword Fighting, Woody Allen\n",
      " - *James Bond:* Charles Bronson, David Lynch, Feel-Good, Harrison Ford, James Bond, James Marsden, James Mcavoy, Jared Leto\n",
      " - *Guy Ritchie Film  English Humor:* Guy Ritchie Film  English Humor\n",
      " - *Real Blues:* Keanu Reeves, Lens Flares, Mental Illness, Plot Holes, Real Blues, Ryan Reynolds, Seth Rogen, Werewolves\n",
      " - *Good Vs Evil:* Annoying Child, Boot Camp Episode, Good Versus Evil, Good Vs Evil, World War Ii\n",
      " - *Monkeys Went Under The Bridge:* Monkeys Went Under The Bridge\n",
      " - *Actor Talks To Audience:* Actor Talks To Audience\n",
      " - *Epic Adventure:* Adventure, Epic Adventure, Space Adventure\n",
      " - *Comico:* Call-Back, Cartoonish, Catholicism, Cliche, Cocaine, Colour, Comedy, Comic Book, Comico, Comics, Coming Of Age, Cynical, Godzilla, Idiotic, Non-Stop, Ohsoso, Rom Com, Romance, Voodoo\n",
      " - *Soundtrack:* Good Soundtrack, Great Soundtrack, Lovable Jock, Sandra Bullock, Soundtrack, South Park, Young Adult\n",
      " - *Romance Boygirl Dancing:* Romance Boygirl Dancing\n",
      " - *Stereotypes:* Stereotypes, Steven Spielberg, Stupid Stereotypes\n",
      " - *Singing:* Bullying, Cheating, Crying, Drinking, Jingle, Kidnapping, Kung Fu, Language, Lighting, Nonlinear, Simon Pegg, Singing, Single Shot, Tarantino, Virginity, Yelling\n",
      " - *Nudity (Full Frontal - Notable):* Nudity (Full Frontal - Notable), Nudity (Full Frontal)\n",
      " - *Oscar (Best Picture):* Oscar (Best Directing), Oscar (Best Picture), Oscar Nominee: Best Picture\n",
      " - *Mother-Son Relationship:* Mother-Son Relationship\n",
      " - *Cult Clasic:* Cult Clasic, Cult Classic, Cult Movie, Horror Classic\n",
      " - *Painful Transformation:* Painful Transformation\n",
      " - *The Florence Nightingale Effect:* The Florence Nightingale Effect\n",
      " - *Attack Of The Killer Whatever:* Attack Of The Killer Whatever\n",
      " - *Birds:* Aids, Aliens, Backwards, Big Bad, Birds, Bitch, Bizarre, Bloody, Boring, Boring!, British, Gross, Jerkass, Kids, Luddism, Nerds, Priest, Quirky, Trippy, Virus\n",
      " - *All Hallows' Eve:* All Hallows' Eve\n",
      " - *Oddball In The Series:* Oddball In The Series\n",
      " - *Hero With Bad Publicity:* Hero With Bad Publicity\n",
      " - *No Osha Compliance:* No Osha Compliance\n",
      " - *Possession:* Demon Possession, Depressing, Joss Whedon, Obsession, Possession, Prostitution, Unconventional\n",
      " - *Alien Invasion:* Alden Indy Boots, Alien Invasion, Aliens In Cardiff, Ascended Fanboy, Home Invasion\n",
      " - *Brilliant, But Lazy:* Brilliant, But Lazy\n",
      " - *Evil Teacher:* Anton Yelchin, Body Snatcher, Cate Blanchett, Eddie Redmayne, Evil Teacher, Evil, Inc., Miles Teller, Sadist Teacher\n",
      " - *Nudity (Topless):* Nudity (Topless - Brief), Nudity (Topless)\n",
      " - *Action:* Acting, Action, Action Girl, Actions, Addiction, Alien, Anime, Auckland, Awesome, Batman, Catwoman, Deception, Direction, Emotional, Espionage, Infection, Let Down, Mutation\n",
      " - *Alternate World:* Alternate Reality, Alternate World, Asa Butterfield, Attempted Rape\n",
      " - *Love Makes You Crazy:* Love Makes You Crazy\n",
      " - *Stalker:* Jealousy, Martial Arts, Natalie Portman, Slasher, Splatter, Stalker, Stalking, Star Trek, Stranded, Strangers, Stylish, Stylized, Thriller, Trey Parker\n",
      " - *Serial Killer:* Accidental Murder, Ezra Miller, Frank Miller, Inferior Sequel, Masked Killer, Serial Killer, Serial Killers, Sexual Assault\n",
      " - *Alone With The Psycho:* Alone With The Psycho\n",
      " - *Sisters:* Anti-Hero, Brothers, Cast Herd, Computers, Dinosaurs, Disturbing, Ed Helms, Gangster, Gangsters, History, Intense, Linguistics, Losers, Military, Monster, Monsters, Mystery, Pointless, Sisterhood, Sisters, Southern, Suspense\n",
      " - *Adult Fear:* Adult Fear, Adult Humor, Adultery, Awful Sex Scene, Cult Film, Oded Fehr\n",
      " - *Father-Son Relationship:* Father-Son Relationship\n",
      " - *Short-Term Memory Loss:* Short-Term Memory Loss\n",
      " - *Historically Inaccurate:* Historically Inaccurate\n",
      " - *What Was With The Deer?:* What Was With The Deer?\n",
      " - *Beer:* Anger, Bdsm, Beer, Caper, Che Guevara, Clever, Freaks, Greed, Jedi, Joker, Judy Greer, Long, Meta, Nsa, Revenge, Sequel, Sex, Slow, Spies, Teen, Thor, Ussr, Werewolf\n",
      " - *Christopher Mintz Plasse:* Christopher Mintz Plasse\n",
      " - *Christopher Mintz-Plasse:* Christopher Mintz-Plasse\n",
      " - *Crude:* Abuse, Children, Chucky, Creepy, Crime, Crude, Cult, Cute, Cyberpunk, Drugs, Epidemic, Gruesome, Mcu, Puke, Torture\n",
      " - *Jonah Hill:* 4Th Wall, Funny As Hell, Henry Cavill, Jennifer Tilly, Johnny Depp, Jonah Hill, Long Build-Up, Mental Hospital, Woman Child\n",
      " - *Party:* Campy, Deathray, Dwindling Party, Family, Fantasy, Gay, Handycam, Insanity, Kaiju, Nudity, Orca, Panzu, Parasite, Paris, Parody, Party, Pulp, Royalty, Silly, Slashy, Smart\n",
      " - *Bitter Wedding Speech:* Bitter Wedding Speech\n",
      " - *Historical:* Allegorical, Asshole Victim, Biblical, Controversial, Historical, Horrors Of War, Military School, Philosophical, Satirical, Vietnam War\n",
      " - *Period Drama:* Advertised Extra, Courtroom Drama, Letitia Wright, Melodrama, Period Drama, Period Piece, Teleport Spam\n",
      " - *Danger Takes A Backseat:* Danger Takes A Backseat\n",
      " - *Fanservice:* Adam Devine, Fanservice, Frankenstein, Masterpiece, Mr. Fanservice\n",
      " - *Male Nudity:* Female Nudity, Jaden Smith, Mae Whitman, Male Nudity, Morally Dubious, R:Nudity, Teen Nudity\n",
      " - *Mistress And Servant Boy:* Mistress And Servant Boy\n",
      " - *Rachel Nichols:* Alfred Hitchcock, Jack Nicholson, Rachel Nichols, Zach Galifianakis\n",
      " - *Characters Are Morons:* Characters Are Morons\n",
      " - *Handcam-Real Style:* Handcam-Real Style\n",
      " - *Just Chairs Moving About By Themselves:* Just Chairs Moving About By Themselves\n",
      " - *Not That Special:* Extraterrestrial, Not That Special, Not The Best Singing\n",
      " - *Unlikeable Characters:* Unlikeable Characters\n",
      " - *Teenage Years:* Leonardo Dicaprio, Teenage Love, Teenage Years\n",
      " - *Big Dude With Large Hammer:* Big Dude With Large Hammer\n",
      " - *Halfway Plot Switch:* Halfway Plot Switch\n",
      " - *Classy Cat-Burglar:* Classy Cat-Burglar\n",
      " - *Original:* Christian Bale, Cliché Finale, Obstinance, Original, Original Plot, Original Story, Survival\n",
      " - *Back From The Dead:* Back From The Dead\n",
      " - *Back-To-Back Badasses:* Back-To-Back Badasses\n",
      " - *Manic Pixie Dream Girl:* Manic Pixie Dream Girl\n",
      " - *Ax Crazy:* Adam Brody, Amy Adams, Ax Crazy, Ax-Crazy, Car Chase\n",
      " - *Child Abuse:* Chick Flick, Child Abuse, Child In Peril, Crisis Counselor, Drug Abuse\n",
      " - *Disproportionate Retribution:* Disproportionate Retribution\n",
      " - *Hair-Trigger Temper:* Hair-Trigger Temper\n",
      " - *The Bad Guy Wins:* From Bad To Worse, The Bad Guy Wins\n",
      " - *Lack Of Morals:* Hard Work Montage, Lack Of Empathy, Lack Of Morals, Lots Of Blood, Talking Animals\n",
      " - *Villain Protagonist:* Villain Protagonist\n",
      " - *Futurist:* Afrofuturism, Franchise, Futurist, Futuristic, Neoluddism, Plot Twist\n",
      " - *Cliffhanger:* Cliffhanger, Colin Farrell, Literal Cliffhanger\n",
      " - *Guardians Of The Galaxy:* Guardians Of The Galaxy\n",
      " - *Iron Man:* Angry Man, Anyone Can Die, Cool Plane, Eric Bana, Fran Kranz, Imdb Top 250, Iron Man, Italian Mafia, Matt Damon, Murderous Mask, Organ Donor, Owen Wilson, Propaganda\n",
      " - *Literally Shattered Lives:* Literally Shattered Lives\n",
      " - *And Now For Something Completely Different:* And Now For Something Completely Different\n",
      " - *Design Student'S Orgasm:* Design Student'S Orgasm\n",
      " - *Distinction Without A Difference:* Distinction Without A Difference\n",
      " - *Humor:* Amoral, Colorful, Demons, Funny, Heist, Heroin, Horror, Humor, Humorous, Humour, Memory, Oscar, Pixar, Summer\n",
      " - *Paper-Thin Disguise:* Paper-Thin Disguise\n",
      " - *Bad Mix Of Everything:* Bad Mix Of Everything\n",
      " - *Actual Teenagers Playing Teenagers:* Actual Teenagers Playing Teenagers\n",
      " - *Diverse Casting:* Diverse Casting, Ensemble Cast, Kieran Culkin, Quentin Tarantino, Reverse Timeline\n",
      " - *1920S:* 1920'S, 1920S, 1930S, 1950S, 80S\n",
      " - *Bigger On The Inside:* Bigger On The Inside\n",
      " - *New York:* Lawn Mower, Neo-Noir, Network, New York, New York Mafia, Not Scary\n",
      " - *Evil Is Not A Toy:* Evil Is Not A Toy\n",
      " - *Superman:* Dupa Dupa, Government, Jude Law, Meg Ryan, Paranormal, Scott Speedman, Spider-Man, Super Window Jump, Superman, Surreal, Surveillance\n",
      " - *Scouts:* Exorcism, Nanobots, Occult, Sci-Fi, Scored, Scottish, Scouts, Shoot Out, Shorts, Sociopath\n",
      " - *Strong Women:* Sacha Baron Cohen, Shailene Woodley, Sherlock Holmes, Strong Female Lead, Strong Women\n",
      " - *Dare:* Ai, Cars, Dare, Dark, Death, Denmark, Dialogue, Drug, Dull, Dvd, Dylan O'Brien, Eerie, Game, Garbage, Gore, Hero, Love, Marvel, Rape, Satire, Space, Tense, Tragedy, Vampire, War, Yandere\n",
      " - *No One Gets Left Behind:* No One Gets Left Behind\n",
      " - *Intelligent Sc-Fi:* Intelligent, Intelligent Sc-Fi, Intelligent Sci-Fi\n",
      " - *Reasonable Authority Figure:* Reasonable Authority Figure\n",
      " - *Bad Script:* Academic Stress, Bad Acting, Bad Science, Bad Script, Badass Pacifist, Body Horror, Clever Script, High School, Road Trip, So Bad It'S Good\n",
      " - *Emma Stone:* Dr. Strange, Edward Snowden, Emma Roberts, Emma Stone, Emma Watson\n",
      " - *Photography:* Cinematography, Good Cinematography, Philosophy, Photography, Pornography\n",
      " - *The Second Act Is Terrible And Slow:* The Second Act Is Terrible And Slow\n",
      " - *M Night Shyamalan:* M Night Shyamalan, M. Night Shyamalan\n",
      " - *Multiple Personalities:* Multiple Personalities\n",
      " - *Religious:* Beautiful, Hilarious, Meaningless, Pretentious, Religion, Religious, Religious Cult\n",
      " - *Chronic Hero Syndrome:* Chronic Hero Syndrome\n",
      " - *Death-Defying Stunts:* Death-Defying Stunts\n",
      " - *Helicopter:* Halloween, Hallucinatory, Harry Potter, Helicopter, Hellish Copter\n",
      " - *Music:* Bad Music, Classic, Epic, Erotic, Gut Punch, Justice, Mafia, Magic, Masks, Metaphysics, Mindfuck, Money, Music, Musical, Must See, Mustache, Ptsd, Racism, Stupid\n",
      " - *Violent:* Brilliant, Environmental, Resonant, Violence, Violent, Whodunnit\n",
      " - *Brutality:* Brad Pitt, Brutal, Brutality, Christianity, Immortality, Police Brutality\n",
      " - *Graphic Violence:* Graphic Design, Graphic Violence, Stylized Violence\n",
      " - *Zombies:* Bomb Disposal, Complex, Homosexual, Japanese, Junkies, Loneliness, Rob Zombie, Robbie Amell, Robotics, Tom Hiddleston, Zombie, Zombies\n",
      " - *Banned Movie:* Adapted From:Game, B Movie, Banned Movie, Dennis Quaid, Ennio Morricone, Ligne De Fuite, Oldie But Goodie, Organized Crime, Wagner Moura, Wasted Potential\n",
      " - *3-Hours Of Sex And Drugs:* 3-Hours Of Sex And Drugs\n",
      " - *Software Developers:* Software Developers\n",
      " - *Based On Video Game:* Based On A Book, Based On A Video Game, Based On Short Story, Based On Video Game\n"
     ]
    }
   ],
   "source": [
    "affprop = AffinityPropagation(affinity=\"precomputed\", damping=0.90, random_state=42)\n",
    "affprop.fit(lev_similarity)\n",
    "for cluster_id in np.unique(affprop.labels_):\n",
    "    exemplar = unique_tags[affprop.cluster_centers_indices_[cluster_id]]\n",
    "    cluster = np.unique(unique_tags[np.nonzero(affprop.labels_==cluster_id)])\n",
    "    cluster_str = \", \".join(cluster)\n",
    "    print(\" - *%s:* %s\" % (exemplar, cluster_str))"
   ]
  },
  {
   "cell_type": "markdown",
   "id": "5be663bd-31f6-4873-b59d-20aae2dcb858",
   "metadata": {},
   "source": [
    "From visual interpretation, sometimes words in a similar cluster are consistent: \n",
    "- *Dark Comedy:* Black Comedy, Dark Comedy, Dark Humor, Horror Comedy, Romantic Comedy\n",
    "\n",
    "Sometimes not so good.... \n",
    "- *Zombies:* Bomb Disposal, Complex, Homosexual, Japanese, Junkies, Loneliness, Rob Zombie, Robbie Amell, Robotics, Tom Hiddleston, Zombie, Zombies\n",
    "\n",
    "\n",
    "__Consider improving the model with name-recognition-entity in later iterations if we have time__"
   ]
  },
  {
   "cell_type": "markdown",
   "id": "7a23080e-fabf-4959-89d1-039358eaef3e",
   "metadata": {},
   "source": [
    "__Attempt 2__: Clean them and take the most popular"
   ]
  },
  {
   "cell_type": "code",
   "execution_count": 225,
   "id": "1d494859-f49a-4e4d-b49e-254ab7ac2d4f",
   "metadata": {},
   "outputs": [
    {
     "data": {
      "text/plain": [
       "783"
      ]
     },
     "execution_count": 225,
     "metadata": {},
     "output_type": "execute_result"
    }
   ],
   "source": [
    "tags.tag.nunique()"
   ]
  },
  {
   "cell_type": "markdown",
   "id": "702ccb6c-2fcc-4695-95f8-f312952ddcd5",
   "metadata": {},
   "source": [
    "Top Tags: "
   ]
  },
  {
   "cell_type": "code",
   "execution_count": 226,
   "id": "592de006-07dc-4f9e-85db-8c86f15593d3",
   "metadata": {},
   "outputs": [
    {
     "data": {
      "text/plain": [
       "Ohsoso              13.86\n",
       "Boring               4.52\n",
       "Slashy               4.52\n",
       "Sci-Fi               4.22\n",
       "Funny                3.61\n",
       "Dark Comedy          3.61\n",
       "Superhero            3.01\n",
       "Black Comedy         3.01\n",
       "Violence             2.71\n",
       "Romance              2.41\n",
       "Disturbing           2.41\n",
       "Satire               2.11\n",
       "Horror               2.11\n",
       "Pixar                2.11\n",
       "Overrated            2.11\n",
       "Twist Ending         2.11\n",
       "Mindfuck             2.11\n",
       "Surreal              1.81\n",
       "Psychological        1.81\n",
       "Adventure            1.81\n",
       "Violent              1.81\n",
       "80S                  1.81\n",
       "Stupid               1.51\n",
       "Dark                 1.51\n",
       "Nudity (Topless)     1.51\n",
       "Dystopia             1.51\n",
       "Stylized             1.51\n",
       "Post-Apocalyptic     1.51\n",
       "Classic              1.51\n",
       "Slow                 1.51\n",
       "Name: tag, dtype: float64"
      ]
     },
     "execution_count": 226,
     "metadata": {},
     "output_type": "execute_result"
    }
   ],
   "source": [
    "important_tags = (round(tags.tag.value_counts()/tags.movieId.nunique() * 100, 2)).head(30)\n",
    "important_tags"
   ]
  },
  {
   "cell_type": "markdown",
   "id": "758d7067-b3e3-4fba-87d6-c2765d93b06b",
   "metadata": {},
   "source": [
    "Check the most recurrent tag, if many users use it: "
   ]
  },
  {
   "cell_type": "code",
   "execution_count": 227,
   "id": "19a20bc1-ec77-47dc-975e-94a6cb35ade7",
   "metadata": {},
   "outputs": [
    {
     "data": {
      "text/plain": [
       "array([268])"
      ]
     },
     "execution_count": 227,
     "metadata": {},
     "output_type": "execute_result"
    }
   ],
   "source": [
    "tags[tags.tag == \"Ohsoso\"].userId.unique()"
   ]
  },
  {
   "cell_type": "markdown",
   "id": "d018d9b5-8477-4317-ba03-a6f6d1e4cf25",
   "metadata": {},
   "source": [
    "Of course, only one troll uses it. Take it away"
   ]
  },
  {
   "cell_type": "code",
   "execution_count": 228,
   "id": "58ad8a03-9afa-459c-9ede-a0d5e522b7ea",
   "metadata": {},
   "outputs": [],
   "source": [
    "tags = tags[~(tags.tag == \"Ohsoso\")]"
   ]
  },
  {
   "cell_type": "code",
   "execution_count": 229,
   "id": "d05ade07-6c5d-4d48-993c-64d782e6d1ed",
   "metadata": {},
   "outputs": [
    {
     "data": {
      "text/plain": [
       "Boring          5.15\n",
       "Slashy          5.15\n",
       "Sci-Fi          4.81\n",
       "Dark Comedy     4.12\n",
       "Funny           4.12\n",
       "Superhero       3.44\n",
       "Black Comedy    3.44\n",
       "Violence        3.09\n",
       "Disturbing      2.75\n",
       "Romance         2.75\n",
       "Name: tag, dtype: float64"
      ]
     },
     "execution_count": 229,
     "metadata": {},
     "output_type": "execute_result"
    }
   ],
   "source": [
    "important_tags = (round(tags.tag.value_counts()/tags.movieId.nunique() * 100, 2)).head(10)\n",
    "important_tags"
   ]
  },
  {
   "cell_type": "markdown",
   "id": "44952328-8079-4293-8000-be9bbe727486",
   "metadata": {},
   "source": [
    "Check if they are representative within the dataset (a lot of users use them)"
   ]
  },
  {
   "cell_type": "code",
   "execution_count": 230,
   "id": "560cd293-2c72-4a3e-98dc-c83256849517",
   "metadata": {},
   "outputs": [
    {
     "name": "stdout",
     "output_type": "stream",
     "text": [
      "Percentage of Users that use tags: 7.38%\n"
     ]
    }
   ],
   "source": [
    "print(f\"Percentage of Users that use tags: {round(tags.userId.nunique()/ratings.userId.nunique() * 100, 2)}%\")"
   ]
  },
  {
   "cell_type": "markdown",
   "id": "46989872-b471-490b-903b-e8466e0e7c46",
   "metadata": {},
   "source": [
    "Only a few users use tags. Will not serve for our analysis. Dont't use tags"
   ]
  },
  {
   "cell_type": "markdown",
   "id": "0e9b620d-1597-4d24-ac00-24830c0749ad",
   "metadata": {},
   "source": [
    "### Tag-Genome"
   ]
  },
  {
   "cell_type": "markdown",
   "id": "ec6caa10-fd18-406d-9ec7-a23653f69b0b",
   "metadata": {},
   "source": [
    "We have 1,128 tags, and >58,000 movies, so quite a lot of numbers: "
   ]
  },
  {
   "cell_type": "code",
   "execution_count": 231,
   "id": "abe7b45b-66bd-42cc-826d-541f45a4d27d",
   "metadata": {},
   "outputs": [],
   "source": [
    "genome_scores = pd.read_csv(\"./Data/genome-scores.csv\")\n",
    "genome_tags = pd.read_csv(\"./Data/genome-tags.csv\")"
   ]
  },
  {
   "cell_type": "code",
   "execution_count": 232,
   "id": "b7cb3ff1-e0ce-43ee-8bfd-82049f52bd21",
   "metadata": {},
   "outputs": [],
   "source": [
    "genome_scores = genome_scores[genome_scores.movieId.isin(ratings.movieId.unique())]"
   ]
  },
  {
   "cell_type": "code",
   "execution_count": 233,
   "id": "d3b0ea83-98c0-48c5-b76e-f127177498ca",
   "metadata": {},
   "outputs": [],
   "source": [
    "top_relevance = genome_scores.sort_values(['movieId', 'relevance'], ascending=[True, False]).groupby('movieId').first().reset_index()"
   ]
  },
  {
   "cell_type": "markdown",
   "id": "31af82e1-e328-48ae-b5b5-e0b29824daa1",
   "metadata": {},
   "source": [
    "Problems with getting most relevant tags: "
   ]
  },
  {
   "cell_type": "markdown",
   "id": "a98252a7-9e10-4638-9eb8-25ce2bf88989",
   "metadata": {},
   "source": [
    "Too many tags: "
   ]
  },
  {
   "cell_type": "code",
   "execution_count": 234,
   "id": "849762b2-c333-4a4a-ac60-013b45a84ae4",
   "metadata": {},
   "outputs": [
    {
     "data": {
      "text/plain": [
       "783"
      ]
     },
     "execution_count": 234,
     "metadata": {},
     "output_type": "execute_result"
    }
   ],
   "source": [
    "top_relevance.tagId.nunique()"
   ]
  },
  {
   "cell_type": "markdown",
   "id": "e3daec23-4391-4c62-8aef-7c4a7aa2dc8d",
   "metadata": {},
   "source": [
    "Some movies don't have tags: "
   ]
  },
  {
   "cell_type": "code",
   "execution_count": 235,
   "id": "2eb54148-810b-4781-af9c-c72aa0be50e4",
   "metadata": {},
   "outputs": [
    {
     "data": {
      "text/plain": [
       "0.897573015220074"
      ]
     },
     "execution_count": 235,
     "metadata": {},
     "output_type": "execute_result"
    }
   ],
   "source": [
    "top_relevance.movieId.nunique()/ratings.movieId.nunique()"
   ]
  },
  {
   "cell_type": "markdown",
   "id": "8fedfb16-762a-4090-bca4-2e333d976d8b",
   "metadata": {},
   "source": [
    "Genome tags represent Item information: it is aggregated by all of the user tags, and does the relevance of each of the tags for the movies. In this sense, it looses the user-item interaction that we have if we would use only the tag that eachuser put on the movies. This is why we will go for using only the top tags that users put on movies, and not the genome tag"
   ]
  },
  {
   "cell_type": "markdown",
   "id": "cf346b93-87e0-4273-8013-1818b8f74246",
   "metadata": {},
   "source": [
    "# Denormalize the Data"
   ]
  },
  {
   "cell_type": "markdown",
   "id": "d226a508-106b-4e5a-80e4-0f125e66cdf2",
   "metadata": {},
   "source": [
    "Information that will be included in the final ABT: \n",
    "- Ratings\n",
    "- Item Data: \n",
    "    - Title\n",
    "    - Genre\n",
    "    - Year\n",
    "- User Data: \n",
    "    - Demographics"
   ]
  },
  {
   "cell_type": "code",
   "execution_count": 236,
   "id": "a25705ba-8875-4915-80c3-bd66ca3c2904",
   "metadata": {},
   "outputs": [],
   "source": [
    "data = ratings.drop('timestamp', axis=1).merge(movies, how='left', on='movieId') .\\\n",
    "                                         merge(demographics, how='left', on='userId')"
   ]
  },
  {
   "cell_type": "markdown",
   "id": "480b9e86-cc6b-4421-9957-a01ad47e6d83",
   "metadata": {},
   "source": [
    "Check missing values: "
   ]
  },
  {
   "cell_type": "code",
   "execution_count": 237,
   "id": "164efaa2-27b1-47c4-9dcb-74cd0b233c6f",
   "metadata": {},
   "outputs": [
    {
     "data": {
      "text/plain": [
       "userId               0\n",
       "movieId              0\n",
       "rating               0\n",
       "sample_ratings       0\n",
       "ratings2             0\n",
       "outlier              0\n",
       "title                0\n",
       "year                18\n",
       "Action               0\n",
       "Adventure            0\n",
       "Animation            0\n",
       "Children             0\n",
       "Comedy               0\n",
       "Crime                0\n",
       "Documentary          0\n",
       "Drama                0\n",
       "Fantasy              0\n",
       "Film-Noir            0\n",
       "Horror               0\n",
       "IMAX                 0\n",
       "Musical              0\n",
       "Mystery              0\n",
       "Romance              0\n",
       "Sci-Fi               0\n",
       "Thriller             0\n",
       "War                  0\n",
       "Western              0\n",
       "age                  0\n",
       "gender               0\n",
       "occupation           0\n",
       "zip_code             0\n",
       "place_name        5097\n",
       "state_name        5097\n",
       "latitude          5097\n",
       "longitude         5097\n",
       "dtype: int64"
      ]
     },
     "execution_count": 237,
     "metadata": {},
     "output_type": "execute_result"
    }
   ],
   "source": [
    "data.isna().sum()"
   ]
  },
  {
   "cell_type": "markdown",
   "id": "9449c6ed-3127-4388-8c67-c955ece3dfc8",
   "metadata": {},
   "source": [
    "Impute years with mean: "
   ]
  },
  {
   "cell_type": "code",
   "execution_count": 238,
   "id": "423f5627-0ad4-46b5-9340-7cac64be47b5",
   "metadata": {},
   "outputs": [],
   "source": [
    "data['year'] = data.year.fillna(int(data.year.mean()))"
   ]
  },
  {
   "cell_type": "markdown",
   "id": "67072ea5-3e6e-40d4-aaaa-383e71dbf522",
   "metadata": {},
   "source": [
    "CHeck how many users to not have geolocation: "
   ]
  },
  {
   "cell_type": "code",
   "execution_count": 239,
   "id": "38f32720-7807-4c45-b158-71652f3b064d",
   "metadata": {},
   "outputs": [
    {
     "data": {
      "text/plain": [
       "19"
      ]
     },
     "execution_count": 239,
     "metadata": {},
     "output_type": "execute_result"
    }
   ],
   "source": [
    "(data.groupby('userId').place_name.apply(lambda y: y.isna().sum()) > 0).sum()"
   ]
  },
  {
   "cell_type": "markdown",
   "id": "86592db7-73f1-4a9c-b2e6-53970f341e74",
   "metadata": {
    "tags": []
   },
   "source": [
    "19 users with missing geolocation information. Could impute using expected value, or look manually for the information as the volume of users is not too big. See if there is a place users are mostly from: "
   ]
  },
  {
   "cell_type": "code",
   "execution_count": 240,
   "id": "ca8bd39b-b206-4471-8d38-b3a8f6a55c61",
   "metadata": {},
   "outputs": [
    {
     "data": {
      "text/plain": [
       "Saint Paul     20\n",
       "Minneapolis    18\n",
       "New York       16\n",
       "Washington     10\n",
       "Columbus        9\n",
       "               ..\n",
       "New Haven       1\n",
       "Coram           1\n",
       "Florissant      1\n",
       "Minnetonka      1\n",
       "Halethorpe      1\n",
       "Name: place_name, Length: 376, dtype: int64"
      ]
     },
     "execution_count": 240,
     "metadata": {},
     "output_type": "execute_result"
    }
   ],
   "source": [
    "demographics[demographics.userId.isin(ratings.userId.unique())].place_name.value_counts()"
   ]
  },
  {
   "cell_type": "markdown",
   "id": "303ec70c-000f-4daa-acc6-ed20cb1ea559",
   "metadata": {},
   "source": [
    "The max place users are from is Saint Paul with 20 users. Imputing with Saint Paul would be doubling this quantity, biasing the data. Try out this altenative still: "
   ]
  },
  {
   "cell_type": "code",
   "execution_count": 242,
   "id": "9d90bc7b-97b8-42d8-8a4e-1218da4054b1",
   "metadata": {},
   "outputs": [],
   "source": [
    "# data.to_csv('./Data/data_content_based_v1.csv', index=False)"
   ]
  },
  {
   "cell_type": "markdown",
   "id": "985c7f37-301e-4a87-a505-581027f15d12",
   "metadata": {},
   "source": [
    "# Next Steps"
   ]
  },
  {
   "cell_type": "markdown",
   "id": "5342086e-122b-4029-9a08-348c58dcb7a5",
   "metadata": {},
   "source": [
    "__Overall Data__\n",
    "- Fill missing values for 19 missing users (could check postal code manually as volume is low)\n",
    "\n",
    "__Ratings Data__\n",
    "- Consider sampling the number of rated movies from these extreme cases (users that rated almost every movie)\n",
    "- Consider including movies rated with decimals in the rounding to the nearest decimal\n",
    "- Consider excluding a black sheep user from the dataset (that one bitch that gave terrible ratings)\n",
    "- Consider treating the ratings as ordinal and not numerical\n",
    "\n",
    "__Item Data__\n",
    "- Fill the missing values for years\n",
    "- Extract other relevant features through web-scarping and the links dataset\n",
    "\n",
    "__User Data__\n",
    "- ... \n",
    "\n",
    "__User-Item Data__\n",
    "- Find a way to incorporate tag genome score without drastically increasing the dimensionality"
   ]
  }
 ],
 "metadata": {
  "kernelspec": {
   "display_name": "Python 3 (ipykernel)",
   "language": "python",
   "name": "python3"
  },
  "language_info": {
   "codemirror_mode": {
    "name": "ipython",
    "version": 3
   },
   "file_extension": ".py",
   "mimetype": "text/x-python",
   "name": "python",
   "nbconvert_exporter": "python",
   "pygments_lexer": "ipython3",
   "version": "3.9.5"
  },
  "toc-autonumbering": true,
  "toc-showmarkdowntxt": false,
  "toc-showtags": true
 },
 "nbformat": 4,
 "nbformat_minor": 5
}
