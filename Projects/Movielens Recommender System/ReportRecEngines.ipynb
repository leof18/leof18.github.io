{
 "cells": [
  {
   "cell_type": "markdown",
   "metadata": {},
   "source": [
    "<img src=\"images/ie-logo.png\" width=\"200\" height=\"200\" align=\"right\">\n",
    "\n",
    "# MovieLens Recommendation System\n",
    "\n",
    "## Course: Recommendation Engines\n",
    "\n",
    "### By Guia, Juan, Leo, Quan"
   ]
  },
  {
   "cell_type": "markdown",
   "metadata": {},
   "source": [
    "### Table of Contents\n",
    "\n",
    "* [Introduction](#1)\n",
    "* [Dataset](#2)\n",
    "* [Data Pre-Processing](3#)\n",
    "    * [Rating Data: Ratings](3.1#)\n",
    "    * [Item Data: Movies](3.2#)\n",
    "    * [User Data: Demographics](3.3#)\n",
    "    * [User Item Data: Tag & Genome](3.4#)\n",
    "* [Recommendation Systems](4#)\n",
    "    * [Collaborative Filtering](4.1#)\n",
    "    * [Content-Based Filtering](4.2#)\n",
    "    * [Popularity](4.3#)\n",
    "    * [Weighted Hybrid Recommendation](4.4#)\n",
    "* [Our Recommender Systems](5#)\n",
    "* [Conclusion](6#)"
   ]
  },
  {
   "cell_type": "markdown",
   "metadata": {},
   "source": [
    "---\n",
    "\n",
    "# Introduction <a class=\"anchor\" id=\"1\"></a>\n",
    "\n",
    "If you have an account for any streaming services such as Netflix or Prime Video, you probably have noticed how you keep getting recommended with the best possible movies. The question therefore arises: “How do companies do that?”. The secret here is recommendation system, as it understands the needs of the users and provides satisfactory suggestions of the various cinematographic products you should watch. It does this by looking at the information about the user as an input and processes it to predict how much the user would rate the movie. There are several recommendation systems that can be used to provide these movie recommendations. \n",
    "\n",
    "As a matter of fact, the objective of this report is to investigate the different recommendation system on a database which contains information regarding users, movies, and ratings. We will go in depths on how to perform exploratory data analysis and perform fine tuning to select the best parameters for each system. The recommendation systems we will be analysing are Collaborative filtering, Content-Based filtering, Hybrid User-Item Based Collaborative filtering, Popularity Based filtering. \n",
    "\n",
    "# Dataset <a class=\"anchor\" id=\"2\"></a>\n",
    "\n",
    "This dataset describes 5-star rating and free-text tagging activity from a movie recommendation service called MovieLens. It contains 100836 ratings across 58098 movies. These data were created based on 610 users who were selected at random, between January 09, 1995 and September 26, 2018. Moreover, user IDs are consistent in both the ratings and tags file and ensure privacy as they are anonymized. \n",
    "The data is contained in the files `movies.csv`, `rating.csv`, `tags.csv`, `genome-scores.csv`, `genome-tags.csv` and `links.csv`. The movie dataset contains the title, genre and id of all the movies that received at least one rating from a user. Ratings contains the movie and user ID, as well as the rating which are made on a 5-star scale, with half-star increments. The tag file contains movie ID, user ID, and user-generated metadata about movies. Similarly, the genome-scores and genome-tag files contain tag relevance scores for movies.\n"
   ]
  },
  {
   "cell_type": "markdown",
   "metadata": {},
   "source": [
    "# Data Pre-processing <a class=\"anchor\" id=\"3\"></a>\n",
    "\n",
    "Now that we understood what the data is about and what each file contains, we must perform data pre-processing for each file.\n",
    "\n",
    "## Rating Data: Ratings <a class=\"anchor\" id=\"3.1\"></a>"
   ]
  },
  {
   "cell_type": "code",
   "execution_count": 5,
   "metadata": {},
   "outputs": [
    {
     "data": {
      "text/plain": [
       "(100836, 4)"
      ]
     },
     "execution_count": 5,
     "metadata": {},
     "output_type": "execute_result"
    }
   ],
   "source": [
    "ratings = pd.read_csv(\"./Data/ratings.csv\")\n",
    "ratings.shape"
   ]
  },
  {
   "cell_type": "markdown",
   "metadata": {},
   "source": [
    "This data contains 100836 raiting in total. After having imported the dataset, we start by ensuring that each user has rated at least one movie and analyse the summary of statistics. Hence, we can observe from the output bellow how out of the 610 users where more than half rated over 70 movies. Moreover, 20% of the observations come from the same 12 user who rated over 1000 movies each, the subjectivity of these few might affect the models’ prediction. "
   ]
  },
  {
   "cell_type": "code",
   "execution_count": 6,
   "metadata": {},
   "outputs": [
    {
     "data": {
      "text/plain": [
       "count     610.000000\n",
       "mean      165.304918\n",
       "std       269.480584\n",
       "min        20.000000\n",
       "25%        35.000000\n",
       "50%        70.500000\n",
       "75%       168.000000\n",
       "max      2698.000000\n",
       "Name: movieId, dtype: float64"
      ]
     },
     "execution_count": 6,
     "metadata": {},
     "output_type": "execute_result"
    }
   ],
   "source": [
    "ratings.groupby('userId').movieId.size().describe()"
   ]
  },
  {
   "cell_type": "markdown",
   "metadata": {},
   "source": [
    "Next, we analysed average rating distribution to ensure it had a bell-shaped curve. In fact, as we can clearly see from the graph below, the curve of the histogram tends to follow a normal distribution, which allows us to apply different calculations and overall its beneficial for model building. However, from the graph we can also see an outlier who has an average rating lower than 1.5; therefore, we can take into consideration removing this user as it can be labelled as a black sheep in this dataset."
   ]
  },
  {
   "cell_type": "code",
   "execution_count": 36,
   "metadata": {},
   "outputs": [
    {
     "data": {
      "text/plain": [
       "Text(0.5, 0.98, 'Rating Distribution')"
      ]
     },
     "execution_count": 36,
     "metadata": {},
     "output_type": "execute_result"
    },
    {
     "data": {
      "image/png": "[encoded data removed]",
      "text/plain": [
       "<Figure size 1152x432 with 1 Axes>"
      ]
     },
     "metadata": {
      "needs_background": "light"
     },
     "output_type": "display_data"
    }
   ],
   "source": [
    "ratings.groupby('userId').rating.mean().hist(bins=30)\n",
    "plt.suptitle(\"Rating Distribution\", size=20)"
   ]
  },
  {
   "cell_type": "code",
   "execution_count": null,
   "metadata": {},
   "outputs": [],
   "source": [
    "ratings['outlier'] = ratings.userId == 442"
   ]
  },
  {
   "cell_type": "markdown",
   "metadata": {},
   "source": [
    "## Item Data: Movies <a class=\"anchor\" id=\"3.2\"></a>"
   ]
  },
  {
   "cell_type": "code",
   "execution_count": 11,
   "metadata": {},
   "outputs": [
    {
     "data": {
      "text/plain": [
       "(58098, 3)"
      ]
     },
     "execution_count": 11,
     "metadata": {},
     "output_type": "execute_result"
    }
   ],
   "source": [
    "movies = pd.read_csv(\"./Data/movies.csv\")\n",
    "movies.shape"
   ]
  },
  {
   "cell_type": "markdown",
   "metadata": {},
   "source": [
    "Item data represents the data with all the movie titles (58098) which have received at least one rating by a user. However, this table requires some table transformations. \n",
    "\n",
    "Firstly, in the title variable we have both the title and the publishing date which could be confusing. Therefore, we proceeded to separate them by removing the date from the title and placing it in a new column. Secondly, we dummified all movie genres (19 excluding the movies with no genre) helping us transform a categorical variable into an indicator variable.\n",
    "\n",
    "<b>Before:</b>"
   ]
  },
  {
   "cell_type": "code",
   "execution_count": 12,
   "metadata": {},
   "outputs": [
    {
     "data": {
      "text/html": [
       "<div>\n",
       "<style scoped>\n",
       "    .dataframe tbody tr th:only-of-type {\n",
       "        vertical-align: middle;\n",
       "    }\n",
       "\n",
       "    .dataframe tbody tr th {\n",
       "        vertical-align: top;\n",
       "    }\n",
       "\n",
       "    .dataframe thead th {\n",
       "        text-align: right;\n",
       "    }\n",
       "</style>\n",
       "<table border=\"1\" class=\"dataframe\">\n",
       "  <thead>\n",
       "    <tr style=\"text-align: right;\">\n",
       "      <th></th>\n",
       "      <th>movieId</th>\n",
       "      <th>title</th>\n",
       "      <th>genres</th>\n",
       "    </tr>\n",
       "  </thead>\n",
       "  <tbody>\n",
       "    <tr>\n",
       "      <th>0</th>\n",
       "      <td>1</td>\n",
       "      <td>Toy Story (1995)</td>\n",
       "      <td>Adventure|Animation|Children|Comedy|Fantasy</td>\n",
       "    </tr>\n",
       "    <tr>\n",
       "      <th>1</th>\n",
       "      <td>2</td>\n",
       "      <td>Jumanji (1995)</td>\n",
       "      <td>Adventure|Children|Fantasy</td>\n",
       "    </tr>\n",
       "    <tr>\n",
       "      <th>2</th>\n",
       "      <td>3</td>\n",
       "      <td>Grumpier Old Men (1995)</td>\n",
       "      <td>Comedy|Romance</td>\n",
       "    </tr>\n",
       "    <tr>\n",
       "      <th>3</th>\n",
       "      <td>4</td>\n",
       "      <td>Waiting to Exhale (1995)</td>\n",
       "      <td>Comedy|Drama|Romance</td>\n",
       "    </tr>\n",
       "    <tr>\n",
       "      <th>4</th>\n",
       "      <td>5</td>\n",
       "      <td>Father of the Bride Part II (1995)</td>\n",
       "      <td>Comedy</td>\n",
       "    </tr>\n",
       "  </tbody>\n",
       "</table>\n",
       "</div>"
      ],
      "text/plain": [
       "   movieId                               title  \\\n",
       "0        1                    Toy Story (1995)   \n",
       "1        2                      Jumanji (1995)   \n",
       "2        3             Grumpier Old Men (1995)   \n",
       "3        4            Waiting to Exhale (1995)   \n",
       "4        5  Father of the Bride Part II (1995)   \n",
       "\n",
       "                                        genres  \n",
       "0  Adventure|Animation|Children|Comedy|Fantasy  \n",
       "1                   Adventure|Children|Fantasy  \n",
       "2                               Comedy|Romance  \n",
       "3                         Comedy|Drama|Romance  \n",
       "4                                       Comedy  "
      ]
     },
     "execution_count": 12,
     "metadata": {},
     "output_type": "execute_result"
    }
   ],
   "source": [
    "movies.head()"
   ]
  },
  {
   "cell_type": "markdown",
   "metadata": {},
   "source": [
    "<b>After:</b>"
   ]
  },
  {
   "cell_type": "code",
   "execution_count": 14,
   "metadata": {},
   "outputs": [
    {
     "data": {
      "text/html": [
       "<div>\n",
       "<style scoped>\n",
       "    .dataframe tbody tr th:only-of-type {\n",
       "        vertical-align: middle;\n",
       "    }\n",
       "\n",
       "    .dataframe tbody tr th {\n",
       "        vertical-align: top;\n",
       "    }\n",
       "\n",
       "    .dataframe thead th {\n",
       "        text-align: right;\n",
       "    }\n",
       "</style>\n",
       "<table border=\"1\" class=\"dataframe\">\n",
       "  <thead>\n",
       "    <tr style=\"text-align: right;\">\n",
       "      <th></th>\n",
       "      <th>movieId</th>\n",
       "      <th>title</th>\n",
       "      <th>year</th>\n",
       "      <th>Action</th>\n",
       "      <th>Adventure</th>\n",
       "      <th>Animation</th>\n",
       "      <th>Children</th>\n",
       "      <th>Comedy</th>\n",
       "      <th>Crime</th>\n",
       "      <th>Documentary</th>\n",
       "      <th>...</th>\n",
       "      <th>Film-Noir</th>\n",
       "      <th>Horror</th>\n",
       "      <th>IMAX</th>\n",
       "      <th>Musical</th>\n",
       "      <th>Mystery</th>\n",
       "      <th>Romance</th>\n",
       "      <th>Sci-Fi</th>\n",
       "      <th>Thriller</th>\n",
       "      <th>War</th>\n",
       "      <th>Western</th>\n",
       "    </tr>\n",
       "  </thead>\n",
       "  <tbody>\n",
       "    <tr>\n",
       "      <th>0</th>\n",
       "      <td>1</td>\n",
       "      <td>Toy Story</td>\n",
       "      <td>1995.0</td>\n",
       "      <td>0.0</td>\n",
       "      <td>1.0</td>\n",
       "      <td>1.0</td>\n",
       "      <td>1.0</td>\n",
       "      <td>1.0</td>\n",
       "      <td>0.0</td>\n",
       "      <td>0.0</td>\n",
       "      <td>...</td>\n",
       "      <td>0.0</td>\n",
       "      <td>0.0</td>\n",
       "      <td>0.0</td>\n",
       "      <td>0.0</td>\n",
       "      <td>0.0</td>\n",
       "      <td>0.0</td>\n",
       "      <td>0.0</td>\n",
       "      <td>0.0</td>\n",
       "      <td>0.0</td>\n",
       "      <td>0.0</td>\n",
       "    </tr>\n",
       "    <tr>\n",
       "      <th>1</th>\n",
       "      <td>2</td>\n",
       "      <td>Jumanji</td>\n",
       "      <td>1995.0</td>\n",
       "      <td>0.0</td>\n",
       "      <td>1.0</td>\n",
       "      <td>0.0</td>\n",
       "      <td>1.0</td>\n",
       "      <td>0.0</td>\n",
       "      <td>0.0</td>\n",
       "      <td>0.0</td>\n",
       "      <td>...</td>\n",
       "      <td>0.0</td>\n",
       "      <td>0.0</td>\n",
       "      <td>0.0</td>\n",
       "      <td>0.0</td>\n",
       "      <td>0.0</td>\n",
       "      <td>0.0</td>\n",
       "      <td>0.0</td>\n",
       "      <td>0.0</td>\n",
       "      <td>0.0</td>\n",
       "      <td>0.0</td>\n",
       "    </tr>\n",
       "    <tr>\n",
       "      <th>2</th>\n",
       "      <td>3</td>\n",
       "      <td>Grumpier Old Men</td>\n",
       "      <td>1995.0</td>\n",
       "      <td>0.0</td>\n",
       "      <td>0.0</td>\n",
       "      <td>0.0</td>\n",
       "      <td>0.0</td>\n",
       "      <td>1.0</td>\n",
       "      <td>0.0</td>\n",
       "      <td>0.0</td>\n",
       "      <td>...</td>\n",
       "      <td>0.0</td>\n",
       "      <td>0.0</td>\n",
       "      <td>0.0</td>\n",
       "      <td>0.0</td>\n",
       "      <td>0.0</td>\n",
       "      <td>1.0</td>\n",
       "      <td>0.0</td>\n",
       "      <td>0.0</td>\n",
       "      <td>0.0</td>\n",
       "      <td>0.0</td>\n",
       "    </tr>\n",
       "    <tr>\n",
       "      <th>3</th>\n",
       "      <td>4</td>\n",
       "      <td>Waiting to Exhale</td>\n",
       "      <td>1995.0</td>\n",
       "      <td>0.0</td>\n",
       "      <td>0.0</td>\n",
       "      <td>0.0</td>\n",
       "      <td>0.0</td>\n",
       "      <td>1.0</td>\n",
       "      <td>0.0</td>\n",
       "      <td>0.0</td>\n",
       "      <td>...</td>\n",
       "      <td>0.0</td>\n",
       "      <td>0.0</td>\n",
       "      <td>0.0</td>\n",
       "      <td>0.0</td>\n",
       "      <td>0.0</td>\n",
       "      <td>1.0</td>\n",
       "      <td>0.0</td>\n",
       "      <td>0.0</td>\n",
       "      <td>0.0</td>\n",
       "      <td>0.0</td>\n",
       "    </tr>\n",
       "    <tr>\n",
       "      <th>4</th>\n",
       "      <td>5</td>\n",
       "      <td>Father of the Bride Part II</td>\n",
       "      <td>1995.0</td>\n",
       "      <td>0.0</td>\n",
       "      <td>0.0</td>\n",
       "      <td>0.0</td>\n",
       "      <td>0.0</td>\n",
       "      <td>1.0</td>\n",
       "      <td>0.0</td>\n",
       "      <td>0.0</td>\n",
       "      <td>...</td>\n",
       "      <td>0.0</td>\n",
       "      <td>0.0</td>\n",
       "      <td>0.0</td>\n",
       "      <td>0.0</td>\n",
       "      <td>0.0</td>\n",
       "      <td>0.0</td>\n",
       "      <td>0.0</td>\n",
       "      <td>0.0</td>\n",
       "      <td>0.0</td>\n",
       "      <td>0.0</td>\n",
       "    </tr>\n",
       "  </tbody>\n",
       "</table>\n",
       "<p>5 rows × 22 columns</p>\n",
       "</div>"
      ],
      "text/plain": [
       "   movieId                        title    year  Action  Adventure  Animation  \\\n",
       "0        1                    Toy Story  1995.0     0.0        1.0        1.0   \n",
       "1        2                      Jumanji  1995.0     0.0        1.0        0.0   \n",
       "2        3             Grumpier Old Men  1995.0     0.0        0.0        0.0   \n",
       "3        4            Waiting to Exhale  1995.0     0.0        0.0        0.0   \n",
       "4        5  Father of the Bride Part II  1995.0     0.0        0.0        0.0   \n",
       "\n",
       "   Children  Comedy  Crime  Documentary  ...  Film-Noir  Horror  IMAX  \\\n",
       "0       1.0     1.0    0.0          0.0  ...        0.0     0.0   0.0   \n",
       "1       1.0     0.0    0.0          0.0  ...        0.0     0.0   0.0   \n",
       "2       0.0     1.0    0.0          0.0  ...        0.0     0.0   0.0   \n",
       "3       0.0     1.0    0.0          0.0  ...        0.0     0.0   0.0   \n",
       "4       0.0     1.0    0.0          0.0  ...        0.0     0.0   0.0   \n",
       "\n",
       "   Musical  Mystery  Romance  Sci-Fi  Thriller  War  Western  \n",
       "0      0.0      0.0      0.0     0.0       0.0  0.0      0.0  \n",
       "1      0.0      0.0      0.0     0.0       0.0  0.0      0.0  \n",
       "2      0.0      0.0      1.0     0.0       0.0  0.0      0.0  \n",
       "3      0.0      0.0      1.0     0.0       0.0  0.0      0.0  \n",
       "4      0.0      0.0      0.0     0.0       0.0  0.0      0.0  \n",
       "\n",
       "[5 rows x 22 columns]"
      ]
     },
     "execution_count": 14,
     "metadata": {},
     "output_type": "execute_result"
    }
   ],
   "source": [
    "movies.head()"
   ]
  },
  {
   "cell_type": "markdown",
   "metadata": {},
   "source": [
    "## User Data: Demographics <a class=\"anchor\" id=\"3.3\"></a>"
   ]
  },
  {
   "cell_type": "code",
   "execution_count": 17,
   "metadata": {},
   "outputs": [
    {
     "data": {
      "text/plain": [
       "(943, 5)"
      ]
     },
     "execution_count": 17,
     "metadata": {},
     "output_type": "execute_result"
    }
   ],
   "source": [
    "demographics = pd.read_csv(\"./Data/u.user.csv\", header=None, sep='|')\n",
    "demographics.shape"
   ]
  },
  {
   "cell_type": "markdown",
   "metadata": {},
   "source": [
    "We managed to retrieve user information that enabled us to understand the users preferred genres, instead of having to rely on the meta data of the tags and genome. Said additional user information were retrieved from an another version of this same dataset, like age, gender, occupation and zip code. In this dataset it appears that we have more users (333 users more) than the number of users we had in the rating dataset, with all the demographic information of each, such as: gender, age, occupation and location. This is because ratings is a dataset composed of all ratings the user made, meaning that the larger number of users is because of the users who did not assign any rating to any movie. "
   ]
  },
  {
   "cell_type": "code",
   "execution_count": 38,
   "metadata": {},
   "outputs": [
    {
     "data": {
      "text/plain": [
       "Text(0.5, 0.98, 'User Age Distribution')"
      ]
     },
     "execution_count": 38,
     "metadata": {},
     "output_type": "execute_result"
    },
    {
     "data": {
      "image/png": "[encoded data removed]",
      "text/plain": [
       "<Figure size 1152x432 with 1 Axes>"
      ]
     },
     "metadata": {
      "needs_background": "light"
     },
     "output_type": "display_data"
    }
   ],
   "source": [
    "demographics.age.hist(bins=30)\n",
    "plt.suptitle(\"User Age Distribution\", size=20)"
   ]
  },
  {
   "cell_type": "markdown",
   "metadata": {},
   "source": [
    "From the distribution of users by age we can conclude that the majority of the watchers are young students. Looking at gender, we observed that are not equally represented as they amount to only 29% of the user, however gender does not appear to have any correlation with age. Location was as well another important variaabble to include when making recommendations as people from similar areas might have a better affinity and taste than people from the opposite coasts, below you can see the plot of the user distribution in the united states\n",
    "\n",
    "<img src=\"images/user_location.png\" width=\"600\" height=\"700\" align=\"bottom\">"
   ]
  },
  {
   "cell_type": "markdown",
   "metadata": {},
   "source": [
    "## User Item Data: Tag & Genome <a class=\"anchor\" id=\"3.4\"></a>\n",
    "\n",
    "Tags are user-generated metadata about movies. Each tag is typically a single word or short phrase. The meaning, value, and purpose of a particular tag is determined by each user. Meanwhile, tag genome is a data structure that contains tag relevance scores for movies.  The structure is a dense matrix: each movie in the genome has a value for *every* tag in the genome. The tag genome encodes how strongly movies exhibit particular properties represented by tags (atmospheric, thought-provoking, realistic, etc.). The tag genome was computed using a machine learning algorithm on user-contributed content including tags, ratings, and textual reviews. However, by using the genome tag we would lose the user-item interaction, which we have when we use only the tags that the user inserted on the movie. Reason why, we proceeded to only use the top relevant tags and discard the genome tags. Which were found by first excluding all tags that were made by users who were not listed in our rating data. Then, we tried reducing the cardinality of tags by first computing the Levenshtein distance between words and do an affinity propagation. Which resulted less efficient than just cleaning the tags and retaining the most popular ones."
   ]
  },
  {
   "cell_type": "markdown",
   "metadata": {},
   "source": [
    "# Recommendation Systems: <a class=\"anchor\" id=\"4\"></a>\n",
    "\n",
    "## Collaborative Filtering <a class=\"anchor\" id=\"4.1\"></a>\n",
    "\n",
    "Collaborative filtering models use the collaborative power of the ratings provided by multiple users to make recommendations. These recommendations are in fact based on the similar profiles of its users. The main advantage of collaborative filtering is that it is independent of the product knowledge. Instead, it relies on the users with a basic assumption that what the users liked in the past will also like in the future. For example, if a person A watches crime, sci-fi and thriller genres and B watches sci-fi, thriller and action genres then A will also like action and B will like crime genre. It assumes that other users’ opinions can be aggregated in such a way as to predict the preference of a user. Thus, the prediction is not influenced by item features. Since human’s opinion is involved, the quality of information gained becomes better and more accurate if it compares to approach that only depends on computer intelligence. However, this approach also has drawbacks. Pure collaborative filtering cannot deal with early rater problem. It cannot provide a prediction for a new item or an item that has not been rated by any user since there is no users’ ratings to compute the prediction. \n",
    "\n",
    "We can achieve this by following these steps:\n",
    "1. Select users (neighbours) that have common rated items with the active user\n",
    "2. Calculate the similarities between all neighbours and the active user\n",
    "3. Make the estimation by similarity of the neighbours of the active user\n",
    "4. Catch the most similar top-k neighbours\n",
    "5. Calculate the estimated rating of the active user using the chosen top-k\n",
    "\n",
    "First, we must perform some exploratory data analysis to ensure this data is adequate for Collaborative filtering."
   ]
  },
  {
   "cell_type": "code",
   "execution_count": 48,
   "metadata": {},
   "outputs": [
    {
     "data": {
      "text/plain": [
       "Text(0.5, 0.98, 'Ratings per Movie')"
      ]
     },
     "execution_count": 48,
     "metadata": {},
     "output_type": "execute_result"
    },
    {
     "data": {
      "image/png": "[encoded data removed]",
      "text/plain": [
       "<Figure size 1152x432 with 1 Axes>"
      ]
     },
     "metadata": {
      "needs_background": "light"
     },
     "output_type": "display_data"
    }
   ],
   "source": [
    "ratings.movieId.value_counts().hist(bins=30)\n",
    "plt.suptitle(\"Ratings per Movie\", size=20)"
   ]
  },
  {
   "cell_type": "markdown",
   "metadata": {},
   "source": [
    "As a matter of fact, by calculating the number of movies in the rating data, we unveiled that a lot of movies were rated only once. This is a problem for collaborative filtering, as it relies on a big database in order to actually work. All predictions for movies with one rating will be the one rating already in training. Moreover, if some of those movies are in the test set, then it would be impossible to predict. Therefore, we decided to exclude all movies that had only one rating as they were not good candidates for the evaluation. "
   ]
  },
  {
   "cell_type": "markdown",
   "metadata": {},
   "source": [
    "Once the data was split between train and test and the EDA had been finalized, we focused on tuning the parameters. Therefore, we created grid parameters to loop through the model in order to find the best ones. The parameters we focused on were: picking for the most adequate similarity function, selecting the number of shared items once the similarity is established, select how many neighbours are picked (k) and normalize when aggregating by neighbours.  "
   ]
  },
  {
   "cell_type": "code",
   "execution_count": null,
   "metadata": {},
   "outputs": [],
   "source": [
    "sim_options = {'name': ['cosine', 'msd', 'pearson', 'pearson_baseline'],\n",
    "               'user_based':[True], \n",
    "               'min_support': [2, 8]} \n",
    "\n",
    "knn_params = {'k':np.arange(30,51,5),\n",
    "            'min_k':[1, 2, 4],\n",
    "            'sim_options': sim_options}\n",
    "\n",
    "svd_params = {'n_factors':[50,100,150],\n",
    "              'n_epochs':[20,30],\n",
    "              'lr_all':[0.005,0.01],\n",
    "              'reg_all':[0.02,0.1]}"
   ]
  },
  {
   "cell_type": "code",
   "execution_count": null,
   "metadata": {},
   "outputs": [],
   "source": [
    "# Define Algorithms and Validation Scheme\n",
    "\n",
    "models = (NormalPredictor, BaselineOnly, SlopeOne, CoClustering, # No Tuning\n",
    "          KNNBasic, KNNWithMeans, KNNWithZScore, KNNBaseline, \n",
    "          SVD, SVDpp)\n",
    "kf = KFold(random_state=random_state)\n",
    "\n",
    "# DataFrame to put results in\n",
    "results = pd.DataFrame({\"RMSE\":None, \n",
    "                        \"MAE\":None, \n",
    "                        \"Fit Time\": None, \n",
    "                        \"Test Time\": None, \n",
    "                        \"Parameters\":None}, index=[model.__name__ for model in models])\n",
    "\n",
    "# Optimize and train all models\n",
    "for model in models:\n",
    "    print(f'Training {model.__name__}...')\n",
    "    if model.__name__ in ('NormalPredictor', 'BaselineOnly', 'SlopeOne', 'CoClustering'): \n",
    "        out = cross_validate(model(), data, ['rmse', 'mae'], kf)\n",
    "        results.loc[model.__name__] = [round(np.mean(out['test_rmse']), 2), \n",
    "                                       round(np.mean(out['test_mae']), 2),\n",
    "                                       round(np.mean(out['fit_time']), 2),\n",
    "                                       round(np.mean(out['test_time']), 2), \n",
    "                                       None]\n",
    "        continue\n",
    "    elif model.__name__ [:3]== 'KNN':\n",
    "        tuned = GridSearchCV(model, knn_params, ['rmse', 'mae'], 5, n_jobs=-1)\n",
    "    else: \n",
    "        tuned = GridSearchCV(model, svd_params, ['rmse', 'mae'], 5, n_jobs=-1)\n",
    "    tuned.fit(data)\n",
    "    best_index = tuned.best_index['rmse']\n",
    "    cv_results = tuned.cv_results\n",
    "    results.loc[model.__name__] = [round(cv_results['mean_test_rmse'][best_index], 2), \n",
    "                                   round(cv_results['mean_test_rmse'][best_index], 2), \n",
    "                                   round(cv_results['mean_fit_time'][best_index], 2),\n",
    "                                   round(cv_results['mean_test_time'][best_index], 2),\n",
    "                                   cv_results['params'][best_index]]"
   ]
  },
  {
   "cell_type": "code",
   "execution_count": 68,
   "metadata": {},
   "outputs": [
    {
     "data": {
      "text/html": [
       "<div>\n",
       "<style scoped>\n",
       "    .dataframe tbody tr th:only-of-type {\n",
       "        vertical-align: middle;\n",
       "    }\n",
       "\n",
       "    .dataframe tbody tr th {\n",
       "        vertical-align: top;\n",
       "    }\n",
       "\n",
       "    .dataframe thead th {\n",
       "        text-align: right;\n",
       "    }\n",
       "</style>\n",
       "<table border=\"1\" class=\"dataframe\">\n",
       "  <thead>\n",
       "    <tr style=\"text-align: right;\">\n",
       "      <th></th>\n",
       "      <th>Unnamed: 0</th>\n",
       "      <th>RMSE</th>\n",
       "      <th>MAE</th>\n",
       "      <th>Fit Time</th>\n",
       "      <th>Test Time</th>\n",
       "      <th>Parameters</th>\n",
       "    </tr>\n",
       "  </thead>\n",
       "  <tbody>\n",
       "    <tr>\n",
       "      <th>0</th>\n",
       "      <td>NormalPredictor</td>\n",
       "      <td>1.42</td>\n",
       "      <td>1.13</td>\n",
       "      <td>0.15</td>\n",
       "      <td>0.22</td>\n",
       "      <td>NaN</td>\n",
       "    </tr>\n",
       "    <tr>\n",
       "      <th>1</th>\n",
       "      <td>BaselineOnly</td>\n",
       "      <td>0.87</td>\n",
       "      <td>0.67</td>\n",
       "      <td>0.26</td>\n",
       "      <td>0.09</td>\n",
       "      <td>NaN</td>\n",
       "    </tr>\n",
       "    <tr>\n",
       "      <th>2</th>\n",
       "      <td>SlopeOne</td>\n",
       "      <td>0.89</td>\n",
       "      <td>0.68</td>\n",
       "      <td>4.81</td>\n",
       "      <td>11.11</td>\n",
       "      <td>NaN</td>\n",
       "    </tr>\n",
       "    <tr>\n",
       "      <th>3</th>\n",
       "      <td>CoClustering</td>\n",
       "      <td>0.94</td>\n",
       "      <td>0.73</td>\n",
       "      <td>3.03</td>\n",
       "      <td>0.20</td>\n",
       "      <td>NaN</td>\n",
       "    </tr>\n",
       "    <tr>\n",
       "      <th>4</th>\n",
       "      <td>KNNBasic</td>\n",
       "      <td>0.93</td>\n",
       "      <td>0.93</td>\n",
       "      <td>0.28</td>\n",
       "      <td>3.91</td>\n",
       "      <td>{'k': 30, 'min_k': 2, 'sim_options': {'name': 'msd', 'user_based': True, 'min_support': 2}}</td>\n",
       "    </tr>\n",
       "    <tr>\n",
       "      <th>5</th>\n",
       "      <td>KNNWithMeans</td>\n",
       "      <td>0.87</td>\n",
       "      <td>0.87</td>\n",
       "      <td>0.87</td>\n",
       "      <td>3.23</td>\n",
       "      <td>{'k': 30, 'min_k': 4, 'sim_options': {'name': 'pearson_baseline', 'user_based': True, 'min_support': 2}}</td>\n",
       "    </tr>\n",
       "    <tr>\n",
       "      <th>6</th>\n",
       "      <td>KNNWithZScore</td>\n",
       "      <td>0.87</td>\n",
       "      <td>0.87</td>\n",
       "      <td>1.00</td>\n",
       "      <td>3.45</td>\n",
       "      <td>{'k': 40, 'min_k': 4, 'sim_options': {'name': 'pearson_baseline', 'user_based': True, 'min_support': 2}}</td>\n",
       "    </tr>\n",
       "    <tr>\n",
       "      <th>7</th>\n",
       "      <td>KNNBaseline</td>\n",
       "      <td>0.86</td>\n",
       "      <td>0.86</td>\n",
       "      <td>0.78</td>\n",
       "      <td>3.53</td>\n",
       "      <td>{'k': 30, 'min_k': 4, 'sim_options': {'name': 'pearson_baseline', 'user_based': True, 'min_support': 2}}</td>\n",
       "    </tr>\n",
       "    <tr>\n",
       "      <th>8</th>\n",
       "      <td>SVD</td>\n",
       "      <td>0.85</td>\n",
       "      <td>0.85</td>\n",
       "      <td>16.28</td>\n",
       "      <td>0.31</td>\n",
       "      <td>{'n_factors': 100, 'n_epochs': 30, 'lr_all': 0.01, 'reg_all': 0.1}</td>\n",
       "    </tr>\n",
       "    <tr>\n",
       "      <th>9</th>\n",
       "      <td>SVDpp</td>\n",
       "      <td>NaN</td>\n",
       "      <td>NaN</td>\n",
       "      <td>NaN</td>\n",
       "      <td>NaN</td>\n",
       "      <td>NaN</td>\n",
       "    </tr>\n",
       "  </tbody>\n",
       "</table>\n",
       "</div>"
      ],
      "text/plain": [
       "        Unnamed: 0  RMSE   MAE  Fit Time  Test Time  \\\n",
       "0  NormalPredictor  1.42  1.13  0.15      0.22        \n",
       "1  BaselineOnly     0.87  0.67  0.26      0.09        \n",
       "2  SlopeOne         0.89  0.68  4.81      11.11       \n",
       "3  CoClustering     0.94  0.73  3.03      0.20        \n",
       "4  KNNBasic         0.93  0.93  0.28      3.91        \n",
       "5  KNNWithMeans     0.87  0.87  0.87      3.23        \n",
       "6  KNNWithZScore    0.87  0.87  1.00      3.45        \n",
       "7  KNNBaseline      0.86  0.86  0.78      3.53        \n",
       "8  SVD              0.85  0.85  16.28     0.31        \n",
       "9  SVDpp           NaN   NaN   NaN       NaN          \n",
       "\n",
       "                                                                                                 Parameters  \n",
       "0  NaN                                                                                                       \n",
       "1  NaN                                                                                                       \n",
       "2  NaN                                                                                                       \n",
       "3  NaN                                                                                                       \n",
       "4  {'k': 30, 'min_k': 2, 'sim_options': {'name': 'msd', 'user_based': True, 'min_support': 2}}               \n",
       "5  {'k': 30, 'min_k': 4, 'sim_options': {'name': 'pearson_baseline', 'user_based': True, 'min_support': 2}}  \n",
       "6  {'k': 40, 'min_k': 4, 'sim_options': {'name': 'pearson_baseline', 'user_based': True, 'min_support': 2}}  \n",
       "7  {'k': 30, 'min_k': 4, 'sim_options': {'name': 'pearson_baseline', 'user_based': True, 'min_support': 2}}  \n",
       "8  {'n_factors': 100, 'n_epochs': 30, 'lr_all': 0.01, 'reg_all': 0.1}                                        \n",
       "9  NaN                                                                                                       "
      ]
     },
     "execution_count": 68,
     "metadata": {},
     "output_type": "execute_result"
    }
   ],
   "source": [
    "results_collab_filtering = pd.read_csv(\"./Data/results_collab_filtering_1.csv\")\n",
    "results_collab_filtering"
   ]
  },
  {
   "cell_type": "markdown",
   "metadata": {},
   "source": [
    "<b>SVD (Matrix Decomposition)</b>\n",
    "\n",
    "Singular Value Decomposition (SVD) for providing an optimal dimensional embedding to its users, as we can deduce from the result table of the collaborative filtering where the RMSE is lowest for SVD. We decided to use RMSE as a metric in order to penalize te bigger errors in the predictions, as its most useful when large errors are particularly undesirable. SVD works by finding two matrices whose dot product is the actual matrix but since we dont have all the values of the actual matrix the two other matrices are esimated using stochastic gradient descent so that their dot product comes closest to be the actual matrix. Once the best approximation of the two matrices is found the missing ratings can simply be imputed by calculating the dot product between them. This is also great because the two matrices found are a lot smaller together than the actual matrix which makes memory usage a lot less."
   ]
  },
  {
   "cell_type": "markdown",
   "metadata": {},
   "source": [
    "## Content-Based Filtering <a class=\"anchor\" id=\"4.2\"></a>\n",
    "\n",
    "In a content-based recommendation system, the demographics and user information are taken into consideration when drawing conclusions on what the user would or would not like. Basing your next suggestion on something similar to the content you just viewed. For example, if you have watched a film that has an action genre, the content-based recommendation system will provide you with suggestions for similar films that have the same genre. Opinions from other users are not involved in making the prediction. A drawback of this approach is that it cannot distinguish the quality of item. Two items with the same characteristics will be considered have the same quality even though human can easily categorize them as different items.\n",
    "\n",
    "To use such system, we first have to import the data and select perhaps only the relevant features (rating, outliers, zip code, etc). The perform train and test splitting in a Surprise Fashion. Then, create the pipelines for the models such as: Linear Regression, Random Forest, AdaBoost, SVR, NN..In order to test & tune all models efficiently we built a `sklearn` pipelines.\n",
    "\n",
    "When modelling the pipes, we tuned the different models from the preliminary lazypredict evaluation, cross-validating on the train set.The best model was a Random Forest and yielded an RMSE of 0.889 on the test set. We also thought of fitting a Support Vector Regression, but this doesn't scale well to bigger datasets and so didn't work both on our laptops and for our use-case. We also tried fitting an ANN on the data with keras, but testing until 6 layers in a range of up to 512 neurons couldn't beat previous models. One further test could have been to conduct dimensionality reduction with an ANN, and go back to trying SVR with the reduced dataset."
   ]
  },
  {
   "cell_type": "markdown",
   "metadata": {},
   "source": [
    "## Popularity Filtering <a class=\"anchor\" id=\"4.3\"></a>\n",
    "\n",
    "It’s a straightforward filtering system, were (as the name suggests) the engine recommends the most popular items to all the users. That would be generalized as everyone would be getting similar recommendations as we did not personalize the recommendations. The use case for this model would be the ‘Trending Now’ or ‘Top Ten’ section on Netflix for example, where the most popular movie is the same for all users irrespective of the interests of every user because it generalization and it has got nothing to do with user’s interests. Non-personalized recommendations for when we have no data!\n",
    "We set Item Popularity as a baseline as it avoids creating niches. Users might want to be suggested movies that are popular even though they do not match their taste 100%. The winners of the Netflix Prize Competition used item popularity as a ranking function. As it enables to find a personalized ranking function rather than just item popularity, to satisfy taste of members with varying tastes.\n",
    "\n",
    "Thanks to the ratings, we can calculate popularity by adding together the number of user who saw the movie and the average rating that movie received. We encapsulate said process in the function below:"
   ]
  },
  {
   "cell_type": "code",
   "execution_count": 56,
   "metadata": {},
   "outputs": [],
   "source": [
    "def popularity(n, ratings, movies):\n",
    "    pop_data = ratings.groupby('movieId').rating.agg(['sum', 'mean'])\n",
    "    top_n_movies = pop_data['sum'].nlargest(n).index\n",
    "    \n",
    "    result = movies.loc[top_n_movies].merge(pop_data, on='movieId', how='inner')[['title', 'mean']]\n",
    "    result['mean'] = round(result['mean'], 2)\n",
    "    result.columns = ['Title', 'Average Rating']\n",
    "    result\n",
    "    return result.reset_index(drop=True)"
   ]
  },
  {
   "cell_type": "code",
   "execution_count": 57,
   "metadata": {},
   "outputs": [
    {
     "data": {
      "text/html": [
       "<div>\n",
       "<style scoped>\n",
       "    .dataframe tbody tr th:only-of-type {\n",
       "        vertical-align: middle;\n",
       "    }\n",
       "\n",
       "    .dataframe tbody tr th {\n",
       "        vertical-align: top;\n",
       "    }\n",
       "\n",
       "    .dataframe thead th {\n",
       "        text-align: right;\n",
       "    }\n",
       "</style>\n",
       "<table border=\"1\" class=\"dataframe\">\n",
       "  <thead>\n",
       "    <tr style=\"text-align: right;\">\n",
       "      <th></th>\n",
       "      <th>Title</th>\n",
       "      <th>Average Rating</th>\n",
       "    </tr>\n",
       "  </thead>\n",
       "  <tbody>\n",
       "    <tr>\n",
       "      <th>0</th>\n",
       "      <td>Shawshank Redemption, The</td>\n",
       "      <td>4.43</td>\n",
       "    </tr>\n",
       "    <tr>\n",
       "      <th>1</th>\n",
       "      <td>Forrest Gump</td>\n",
       "      <td>4.16</td>\n",
       "    </tr>\n",
       "    <tr>\n",
       "      <th>2</th>\n",
       "      <td>Pulp Fiction</td>\n",
       "      <td>4.20</td>\n",
       "    </tr>\n",
       "    <tr>\n",
       "      <th>3</th>\n",
       "      <td>Matrix, The</td>\n",
       "      <td>4.19</td>\n",
       "    </tr>\n",
       "    <tr>\n",
       "      <th>4</th>\n",
       "      <td>Silence of the Lambs, The</td>\n",
       "      <td>4.16</td>\n",
       "    </tr>\n",
       "    <tr>\n",
       "      <th>5</th>\n",
       "      <td>Star Wars: Episode IV - A New Hope</td>\n",
       "      <td>4.23</td>\n",
       "    </tr>\n",
       "    <tr>\n",
       "      <th>6</th>\n",
       "      <td>Braveheart</td>\n",
       "      <td>4.03</td>\n",
       "    </tr>\n",
       "    <tr>\n",
       "      <th>7</th>\n",
       "      <td>Fight Club</td>\n",
       "      <td>4.27</td>\n",
       "    </tr>\n",
       "    <tr>\n",
       "      <th>8</th>\n",
       "      <td>Schindler's List</td>\n",
       "      <td>4.22</td>\n",
       "    </tr>\n",
       "    <tr>\n",
       "      <th>9</th>\n",
       "      <td>Jurassic Park</td>\n",
       "      <td>3.75</td>\n",
       "    </tr>\n",
       "  </tbody>\n",
       "</table>\n",
       "</div>"
      ],
      "text/plain": [
       "                                Title  Average Rating\n",
       "0           Shawshank Redemption, The            4.43\n",
       "1                        Forrest Gump            4.16\n",
       "2                        Pulp Fiction            4.20\n",
       "3                         Matrix, The            4.19\n",
       "4           Silence of the Lambs, The            4.16\n",
       "5  Star Wars: Episode IV - A New Hope            4.23\n",
       "6                          Braveheart            4.03\n",
       "7                          Fight Club            4.27\n",
       "8                    Schindler's List            4.22\n",
       "9                       Jurassic Park            3.75"
      ]
     },
     "execution_count": 57,
     "metadata": {},
     "output_type": "execute_result"
    }
   ],
   "source": [
    "popularity(10, ratings, movies)"
   ]
  },
  {
   "cell_type": "markdown",
   "metadata": {},
   "source": [
    "Moreover, the simplicity of this system enables us to “play around” the possible recommendation and what we want to select them from. As a matter of fact, if we look at simply the most viewed movie we find “The Shawshank Redemption”. However, after selecting popularity by dates based on the last month, we find out that “The Last Knight” was the most popular, such date variable can also be changed to either day or even year. \n",
    "\n",
    "<b> Popularity by Date <b/>"
   ]
  },
  {
   "cell_type": "code",
   "execution_count": 59,
   "metadata": {},
   "outputs": [],
   "source": [
    "from datetime import datetime\n",
    "\n",
    "ratings['time'] = ratings.timestamp.apply(lambda x: datetime.fromtimestamp(x).strftime(\"%d-%m-%Y %I:%M:%S\"))\n",
    "ratings['time'] = pd.to_datetime(ratings.time, format = \"%d-%m-%Y %I:%M:%S\")\n",
    "ratings = ratings.drop('timestamp', axis=1)\n",
    "\n",
    "def filter_time(ratings, by='all_time', num=1):\n",
    "    today = ratings.time.max()\n",
    "    if by == 'day': filter_date = today - pd.DateOffset(days=num)\n",
    "    elif by == 'month': filter_date = today - pd.DateOffset(months=num)\n",
    "    elif by == 'year': filter_date = today - pd.DateOffset(years=num)\n",
    "    else: filter_date = ratings.time.min()\n",
    "    return ratings[ratings.time > filter_date]\n",
    "\n",
    "def popularity_dates(n, ratings, movies, by='all_time', num=1):\n",
    "    ratings = filter_time(ratings, by, num)\n",
    "    return popularity(n, ratings, movies)"
   ]
  },
  {
   "cell_type": "code",
   "execution_count": 60,
   "metadata": {},
   "outputs": [
    {
     "data": {
      "text/html": [
       "<div>\n",
       "<style scoped>\n",
       "    .dataframe tbody tr th:only-of-type {\n",
       "        vertical-align: middle;\n",
       "    }\n",
       "\n",
       "    .dataframe tbody tr th {\n",
       "        vertical-align: top;\n",
       "    }\n",
       "\n",
       "    .dataframe thead th {\n",
       "        text-align: right;\n",
       "    }\n",
       "</style>\n",
       "<table border=\"1\" class=\"dataframe\">\n",
       "  <thead>\n",
       "    <tr style=\"text-align: right;\">\n",
       "      <th></th>\n",
       "      <th>Title</th>\n",
       "      <th>Average Rating</th>\n",
       "    </tr>\n",
       "  </thead>\n",
       "  <tbody>\n",
       "    <tr>\n",
       "      <th>0</th>\n",
       "      <td>Dark Knight, The</td>\n",
       "      <td>4.75</td>\n",
       "    </tr>\n",
       "    <tr>\n",
       "      <th>1</th>\n",
       "      <td>Thor: Ragnarok</td>\n",
       "      <td>4.62</td>\n",
       "    </tr>\n",
       "    <tr>\n",
       "      <th>2</th>\n",
       "      <td>Inception</td>\n",
       "      <td>4.38</td>\n",
       "    </tr>\n",
       "    <tr>\n",
       "      <th>3</th>\n",
       "      <td>Black Panther</td>\n",
       "      <td>4.25</td>\n",
       "    </tr>\n",
       "    <tr>\n",
       "      <th>4</th>\n",
       "      <td>Dark Knight Rises, The</td>\n",
       "      <td>4.12</td>\n",
       "    </tr>\n",
       "    <tr>\n",
       "      <th>5</th>\n",
       "      <td>Avengers: Infinity War - Part I</td>\n",
       "      <td>4.00</td>\n",
       "    </tr>\n",
       "    <tr>\n",
       "      <th>6</th>\n",
       "      <td>Deadpool 2</td>\n",
       "      <td>3.75</td>\n",
       "    </tr>\n",
       "    <tr>\n",
       "      <th>7</th>\n",
       "      <td>Lord of the Rings: The Fellowship of the Ring,...</td>\n",
       "      <td>4.50</td>\n",
       "    </tr>\n",
       "    <tr>\n",
       "      <th>8</th>\n",
       "      <td>Lord of the Rings: The Two Towers, The</td>\n",
       "      <td>4.33</td>\n",
       "    </tr>\n",
       "    <tr>\n",
       "      <th>9</th>\n",
       "      <td>Lord of the Rings: The Return of the King, The</td>\n",
       "      <td>4.33</td>\n",
       "    </tr>\n",
       "  </tbody>\n",
       "</table>\n",
       "</div>"
      ],
      "text/plain": [
       "                                               Title  Average Rating\n",
       "0                                   Dark Knight, The            4.75\n",
       "1                                     Thor: Ragnarok            4.62\n",
       "2                                          Inception            4.38\n",
       "3                                      Black Panther            4.25\n",
       "4                             Dark Knight Rises, The            4.12\n",
       "5                    Avengers: Infinity War - Part I            4.00\n",
       "6                                         Deadpool 2            3.75\n",
       "7  Lord of the Rings: The Fellowship of the Ring,...            4.50\n",
       "8             Lord of the Rings: The Two Towers, The            4.33\n",
       "9     Lord of the Rings: The Return of the King, The            4.33"
      ]
     },
     "execution_count": 60,
     "metadata": {},
     "output_type": "execute_result"
    }
   ],
   "source": [
    "popularity_dates(10, ratings, movies, 'month', 1)"
   ]
  },
  {
   "cell_type": "markdown",
   "metadata": {},
   "source": [
    "Finally, we can also select the popularity by the genre of the movie to make more precise suggestions for the user who might like a genre that is hardly ever upvoted by the majority of users.\n",
    "\n",
    "<b> Popularity by Genre <b/>"
   ]
  },
  {
   "cell_type": "code",
   "execution_count": 61,
   "metadata": {},
   "outputs": [],
   "source": [
    "def popularity_genre(n, ratings, movies, by='all_time', num=1, genre=None): \n",
    "    if genre: ratings = ratings[ratings.movieId.isin(movies[movies['Comedy'] == 1].index)]\n",
    "    ratings = filter_time(ratings, by, num)\n",
    "    return popularity(n, ratings, movies)"
   ]
  },
  {
   "cell_type": "code",
   "execution_count": 62,
   "metadata": {},
   "outputs": [
    {
     "data": {
      "text/html": [
       "<div>\n",
       "<style scoped>\n",
       "    .dataframe tbody tr th:only-of-type {\n",
       "        vertical-align: middle;\n",
       "    }\n",
       "\n",
       "    .dataframe tbody tr th {\n",
       "        vertical-align: top;\n",
       "    }\n",
       "\n",
       "    .dataframe thead th {\n",
       "        text-align: right;\n",
       "    }\n",
       "</style>\n",
       "<table border=\"1\" class=\"dataframe\">\n",
       "  <thead>\n",
       "    <tr style=\"text-align: right;\">\n",
       "      <th></th>\n",
       "      <th>Title</th>\n",
       "      <th>Average Rating</th>\n",
       "    </tr>\n",
       "  </thead>\n",
       "  <tbody>\n",
       "    <tr>\n",
       "      <th>0</th>\n",
       "      <td>Deadpool 2</td>\n",
       "      <td>3.75</td>\n",
       "    </tr>\n",
       "    <tr>\n",
       "      <th>1</th>\n",
       "      <td>Kingsman: The Secret Service</td>\n",
       "      <td>3.83</td>\n",
       "    </tr>\n",
       "    <tr>\n",
       "      <th>2</th>\n",
       "      <td>In Bruges</td>\n",
       "      <td>5.00</td>\n",
       "    </tr>\n",
       "    <tr>\n",
       "      <th>3</th>\n",
       "      <td>Shaun of the Dead</td>\n",
       "      <td>4.75</td>\n",
       "    </tr>\n",
       "    <tr>\n",
       "      <th>4</th>\n",
       "      <td>Grand Budapest Hotel, The</td>\n",
       "      <td>4.75</td>\n",
       "    </tr>\n",
       "    <tr>\n",
       "      <th>5</th>\n",
       "      <td>Deadpool</td>\n",
       "      <td>4.50</td>\n",
       "    </tr>\n",
       "    <tr>\n",
       "      <th>6</th>\n",
       "      <td>Monty Python and the Holy Grail</td>\n",
       "      <td>4.25</td>\n",
       "    </tr>\n",
       "    <tr>\n",
       "      <th>7</th>\n",
       "      <td>Hot Fuzz</td>\n",
       "      <td>4.25</td>\n",
       "    </tr>\n",
       "    <tr>\n",
       "      <th>8</th>\n",
       "      <td>Burn After Reading</td>\n",
       "      <td>4.25</td>\n",
       "    </tr>\n",
       "    <tr>\n",
       "      <th>9</th>\n",
       "      <td>Wolf of Wall Street, The</td>\n",
       "      <td>4.25</td>\n",
       "    </tr>\n",
       "  </tbody>\n",
       "</table>\n",
       "</div>"
      ],
      "text/plain": [
       "                             Title  Average Rating\n",
       "0                       Deadpool 2            3.75\n",
       "1     Kingsman: The Secret Service            3.83\n",
       "2                        In Bruges            5.00\n",
       "3                Shaun of the Dead            4.75\n",
       "4        Grand Budapest Hotel, The            4.75\n",
       "5                         Deadpool            4.50\n",
       "6  Monty Python and the Holy Grail            4.25\n",
       "7                         Hot Fuzz            4.25\n",
       "8               Burn After Reading            4.25\n",
       "9         Wolf of Wall Street, The            4.25"
      ]
     },
     "execution_count": 62,
     "metadata": {},
     "output_type": "execute_result"
    }
   ],
   "source": [
    "popularity_genre(10, ratings, movies, by='month', num=1, genre='Comedy')"
   ]
  },
  {
   "cell_type": "markdown",
   "metadata": {},
   "source": [
    "## Weighted Hybrid Filtering <a class=\"anchor\" id=\"4.4\"></a>\n",
    "\n",
    "The combination of both Content and Collaborative techniques. This form of recommendation system is known as Hybrid Recommendation System. Netflix makes the primary of use Hybrid Recommendation System for suggesting content to its users. Weighted technique computes the prediction score as results of all recommendation approaches by\n",
    "considering them as variables in a linear combination. This technique gives each of them weight and\n",
    "summing up the weighted results. \n",
    "\n",
    "<b> Best Tuned Collaborative Filtering Model (SVD) <b/>"
   ]
  },
  {
   "cell_type": "code",
   "execution_count": null,
   "metadata": {},
   "outputs": [],
   "source": [
    "svd_params = {'n_factors': 100, 'n_epochs': 30, 'lr_all': 0.01, 'reg_all': 0.1}\n",
    "\n",
    "svd_model = SVD(\n",
    "    n_factors=svd_params['n_factors'],\n",
    "    n_epochs=svd_params['n_epochs'],\n",
    "    lr_all=svd_params['lr_all'],\n",
    "    reg_all=svd_params['reg_all']\n",
    "    )\n",
    "    \n",
    "svd_model.fit(trainset)"
   ]
  },
  {
   "cell_type": "markdown",
   "metadata": {},
   "source": [
    "<b> Best Tuned Content-Based Model (Random Forest) <b/>"
   ]
  },
  {
   "cell_type": "code",
   "execution_count": null,
   "metadata": {},
   "outputs": [],
   "source": [
    "rf_params = {'n_estimators':100,'max_features':['auto'],'min_samples_split':20,'max_depth':20}\n",
    "\n",
    "rf_model = RandomForestRegressor(\n",
    "    n_estimators=rf_params['n_estimators'],\n",
    "    max_features=rf_params['max_features'],\n",
    "    min_samples_split=rf_params['min_samples_split'],\n",
    "    max_depth=rf_params['max_depth']\n",
    "    )\n",
    "\n",
    "numVars = X_train.select_dtypes(include='number').columns.tolist()\n",
    "catVars = X_train.select_dtypes(exclude='number').columns.tolist()\n",
    "\n",
    "numeric_pipeline = Pipeline(steps=[\n",
    "    ('impute', SimpleImputer(strategy='mean')),\n",
    "    ('scale', StandardScaler())\n",
    "])\n",
    "categorical_pipeline = Pipeline(steps=[\n",
    "    ('impute', SimpleImputer(strategy='most_frequent')),\n",
    "    ('one-hot', OneHotEncoder(sparse=False))\n",
    "])\n",
    "preprocess = ColumnTransformer(transformers=[\n",
    "    ('number', numeric_pipeline, numVars),\n",
    "    ('category', categorical_pipeline, catVars)\n",
    "])\n",
    "rf_pipe = Pipeline(steps=[\n",
    "    ('preprocess', preprocess),\n",
    "    ('rf', rf_model)\n",
    "])\n",
    "\n",
    "rf_pipe.fit(X_train, y_train)"
   ]
  },
  {
   "cell_type": "markdown",
   "metadata": {},
   "source": [
    "<b> Combining Predictions <b/>\n",
    "    \n",
    "Now we combine the two systems into one to provide the best prediction possible. To do so, we are firstly going to look for what weigth combination is most beneficial. As a matter of fact, by using weighted hybrid filtering we can actually really get the lowest possible RMSE as we can see from the plot below.\n",
    "    \n",
    "<img src=\"images/collab_percentage.png\" width=\"400\" height=\"400\" align=\"bottom\">"
   ]
  },
  {
   "cell_type": "markdown",
   "metadata": {},
   "source": [
    "Connsequently, because we are aware that 65% collaborative and 35% percent content-based is the best combination we can begin to make the weighted hybrid prediction, which as predicted performs best among the rest of the systems."
   ]
  },
  {
   "cell_type": "code",
   "execution_count": null,
   "metadata": {},
   "outputs": [],
   "source": [
    "best_weight = 0.65\n",
    "final_prediction = (best_weight*pd.DataFrame(svd_model.test(testset)).est) + ((1-best_weight)*rf_pipe.predict(X_test))\n",
    "result['Hybrid Approach'] = np.sqrt(mean_squared_error(final_prediction,y_test))"
   ]
  },
  {
   "cell_type": "markdown",
   "metadata": {},
   "source": [
    "<img src=\"images/RMSE_hyb.png\" width=\"300\" height=\"300\" align=\"left\">"
   ]
  },
  {
   "cell_type": "markdown",
   "metadata": {},
   "source": [
    "To ensure that the performance of the hybrid model we analysed the NDCG@K of each individual system. \n",
    "\n",
    "The Discounted Cumulative Gain for k shown recommendations (DCG@k) sums the relevance of the shown items for the current user (cumulative), meanwhile adding a penalty for relevant items placed on later positions (discounted).\n",
    "\n",
    "The Normalized Cumulative Gain for k shown recommendations (NDCG@k) divides this score by the maximum possible value of DCG@k for the current user, i.e. what the score DCG@k would be if the items in the ranking were sorted by the true (unknown for the recommender model) relevance. This is called Ideal Discounted Cumulative Gain (IDCG@k). So the score is normalized for different users.\n",
    "\n",
    "NDCG@k=DCG@k/IDCG@k\n",
    "\n",
    "<img src=\"images/ndcg@k.png\" width=\"500\" height=\"400\" align=\"bottom\">"
   ]
  },
  {
   "cell_type": "markdown",
   "metadata": {},
   "source": [
    "# Our Recommendation System <a class=\"anchor\" id=\"5\"></a>\n",
    "\n",
    "After having looked at each recommendation system seperately, we decided to create our own recommendation system that works for both old or even new users. Our recommender system follows this flow:\n",
    "\n",
    "<img src=\"images/recommender_flow.png\" width=\"600\" height=\"600\" align=\"bottom\">"
   ]
  },
  {
   "cell_type": "markdown",
   "metadata": {},
   "source": [
    "Therefore, we firstly have to ensure whether the user entered is a new user or an old one, as the two will require different systems, as we have information about the latter in order to provide better recomendation meanwhile we do not have the same amount of user information for the new one.  "
   ]
  },
  {
   "cell_type": "code",
   "execution_count": null,
   "metadata": {},
   "outputs": [],
   "source": [
    "class User():\n",
    "    \n",
    "    def __init__(self, userId):\n",
    "        self.id = userId\n",
    "        self.is_new = self._is_new_user()\n",
    "        self.is_black_sheep = self._is_black_sheep()\n",
    "        self.watched_movies = self._watched_movies()\n",
    "    \n",
    "    \n",
    "    def _is_new_user(self):\n",
    "        if self.id not in ratings.userId.unique():\n",
    "            self.add_new_user()\n",
    "            return True\n",
    "        if watched_movies.loc[self.id, 'size'] < 5: # when does it stop being new? --> after our good model beats the new users model. \n",
    "            return True\n",
    "        return False\n",
    "        \n",
    "        \n",
    "    def _watched_movies(self): \n",
    "        return [] if self.is_new else watched_movies.loc[self.id, 'list']\n",
    "    \n",
    "    \n",
    "    def _is_black_sheep(self):\n",
    "        return False if self.is_new else black_sheeps.loc[black_sheeps.userId == self.id, 'black_sheep'].values[0]\n",
    "    \n",
    "    \n",
    "    def add_new_user(self):\n",
    "        global preferred_genres\n",
    "        global users\n",
    "        # Ask for Data\n",
    "        print(\"Welcome! We are happy to have you as a new customer (and that finally you left that Netflix crap!)\")\n",
    "        print(\"Tell us a bit more about yourself so that we can make better recommendations (you can skip this if you like!) \")\n",
    "        user_data = {'userId': self.id, \n",
    "                     'age': input(\"Age: \"), \n",
    "                     'gender': input(\"Gender: [M, F]: \"), \n",
    "                     'occupation': input(\"Occupation (head's up! it can only be one of: ['technician', 'other', 'writer', 'executive', 'administrator','student', 'lawyer', 'educator', 'scientist', 'entertainment', 'programmer', 'librarian', 'homemaker', 'artist', 'engineer','marketing', 'healthcare', 'retired', 'salesman', 'doctor']): \"),\n",
    "                     'zip_code': input(\"Zip Code (psssst! In practice we'd actually steal this info from you!): \")}\n",
    "        user_pf = {'userId': self.id, \n",
    "                   'preferred_genre': input('Any preferred genres? (You can skip this if you like!): ')}\n",
    "        print(\"Thank you! Enjoy watching our movies\")\n",
    "        \n",
    "        # Get state, place and coordinates from postal code: \n",
    "        nomi = pgeocode.Nominatim('us')\n",
    "        geolocation = nomi.query_postal_code(user_data['zip_code'])[['place_name', 'state_name', 'latitude', 'longitude']]\n",
    "        user_data.update(dict(geolocation))\n",
    "        \n",
    "        # Add to User's Database: \n",
    "        users = users.append(user_data, ignore_index=True)\n",
    "        users = users.apply(lambda y: y.apply(lambda x: np.nan if x == '' else x))\n",
    "        preferred_genres = preferred_genres.append(user_pf, ignore_index=True)"
   ]
  },
  {
   "cell_type": "markdown",
   "metadata": {},
   "source": [
    "The class above handles the decision points illustrated in the flowchart of our recommender system.  We also needed to know if the user was a black sheep or not in order to provide the best recommender system and we did that using DBSCAN with user demographics and prefered genres. Therefore, what is left to do is to run the correct system depending on what the class returns."
   ]
  },
  {
   "cell_type": "code",
   "execution_count": null,
   "metadata": {},
   "outputs": [],
   "source": [
    "class RecommenderMovie(): \n",
    "    \n",
    "    def __init__(self):\n",
    "        self.old_user_CF = joblib.load('./Models/old_user_CF.pkl')\n",
    "        self.new_old_user_CB = joblib.load('./Models/new_old_user_CB.pkl')\n",
    "        self.hybrid_weight_CF = 0.65\n",
    "        self.new_user_popularity = popularity_genre\n",
    "        self.black_sheep_CF = None\n",
    "    \n",
    "    # Predictions: \n",
    "    \n",
    "    def show_recommendations(self, user):\n",
    "        preds = self._predict(user)\n",
    "        recommend = preds.reset_index().merge(movies, how='left', on='movieId').sort_values('predicted_rating', ascending=False)\n",
    "        recommend.reset_index().apply(lambda movie: self._format_movie(movie), axis=1)\n",
    "        \n",
    "        \n",
    "    def _format_movie(self, movie):\n",
    "        genres = movie[5:][movie[5:] == 1].index\n",
    "        print(f\"\\n{movie['index'] + 1}: {movie['title']} ({int(movie['year'])})\\n\\t {str([i for i in genres])[1:-1]}\")\n",
    "    \n",
    "    \n",
    "    def _predict(self, user):\n",
    "        if user.is_new: \n",
    "            preds = self._predict_new_user(user)\n",
    "        elif user.is_black_sheep:\n",
    "            preds = self._predict_black_sheep(user)\n",
    "        else: \n",
    "            preds = self._predict_old_user(user)\n",
    "        preds.index.name = 'movieId'\n",
    "        preds.name = 'predicted_rating'\n",
    "        return preds.sort_values(ascending=False)[:10]\n",
    "    \n",
    "    \n",
    "    def _predict_new_user(self, user):\n",
    "        movie_ids, data_CB = self._preprocess_data_user(user, include_data_CF=False)\n",
    "        if any(movie_ids): # We have info on new user\n",
    "            preds_CB = self.new_old_user_CB.predict(data_CB)\n",
    "            return pd.Series(preds_CB, index=movie_ids)\n",
    "        time = input('Find the most popular movies! Filter by time: ')\n",
    "        genre = input('\\nFilter by genre: ')\n",
    "        return self.new_user_popularity(10, 'years', time, genre)\n",
    "        \n",
    "    \n",
    "    \n",
    "    def _predict_black_sheep(self, user):\n",
    "        pass \n",
    "\n",
    "    \n",
    "    def _predict_old_user(self, user):\n",
    "        # Make individual predictions after making the data to predict all items\n",
    "        movie_ids, data_CF, data_CB = self._preprocess_data_user(user, include_data_CF=True)\n",
    "        preds_CF = [self.old_user_CF.predict(userId, movieId).est for userId, movieId in zip(*data_CF)]\n",
    "        preds_CB = self.new_old_user_CB.predict(data_CB)\n",
    "        \n",
    "        # Make hybrid model\n",
    "        preds = [pred_CF*self.hybrid_weight_CF + pred_CB*(1 - self.hybrid_weight_CF) for pred_CF, pred_CB in zip(preds_CF, preds_CB)]\n",
    "        return pd.Series(preds, index=movie_ids)\n",
    "\n",
    "    \n",
    "    def _preprocess_data_user(self, user, include_data_CF):\n",
    "        rate_movies = sorted([i for i in ratings.movieId.unique() if i not in user.watched_movies])\n",
    "        \n",
    "        # CB Data\n",
    "        data_CF = ([user.id]*len(rate_movies), rate_movies)\n",
    "        \n",
    "        # CB Data\n",
    "        movies_processed = movies.drop('title', axis=1)[movies.movieId.isin(rate_movies)].sort_values('movieId')\n",
    "        users_info = users.drop(['zip_code', 'place_name', 'userId'], axis=1)[users.userId == user.id] \n",
    "        if users_info.isna().sum().sum() != 0: return ([], []) # User does not give personal data\n",
    "        data_CB = movies_processed.reset_index(drop=True).drop('movieId', axis=1).join(users_info).ffill()\n",
    "        \n",
    "        return (rate_movies, data_CF, data_CB) if include_data_CF else (rate_movies, data_CB)"
   ]
  },
  {
   "cell_type": "markdown",
   "metadata": {},
   "source": [
    "# Conclusion <a class=\"anchor\" id=\"6\"></a>\n",
    "\n",
    "Our objective for this project was to investigate the different recommendation system on a dataset which contains information regarding movies and ratings, and to go in depths on how to perform exploratory data analysis and perform fine tuning to select the best parameters for each system. However, we went beyond that by first including the User informations which we were not provided with, hence enabling us to perform the best possible system we could achieve. We did not stop there we also finalized our own recommender system capable of receving input from new users and provide movie recommendations. Overall, we analysed and implemented all types of manipulations and tuning we could imagine of that would fit well with the purpose of the system not leaving anyhting unattended. For better insights on all the coding please check the rest of the jupyter notebooks. \n",
    "\n",
    "Future Improvements:\n",
    "\n",
    "- Cold Start: resolve “new items” issue\n",
    "- Find optimal minimal number of watched movies so that a user stops being new\n",
    "- Let our model decide which users are black sheep!\n",
    "- Combining Popularity Based and Content Based for diversity\n",
    "- Linearly blend SVD and RBM to reduce error\n",
    "- Display percentage of how much the user might enjoy a recommended movie\n",
    "\n",
    "References:\n",
    "\n",
    "https://marutitech.com/recommendationenginebenefits/#:~:text=The%20main%20aim%20of%20any%20recommendation%20engine%20is,apps%2C%20or%20emails%2C%20thus%20enhancing%20the%20customer%20experience\n",
    "\n",
    "https://towardsdatascience.com/building-a-movie-recommendation-engine-using-pandas-e0a105ed6762\n",
    "\n",
    "https://data-flair.training/blogs/data-science-at-netflix/\n",
    "\n",
    "https://netflixtechblog.com/netflix-recommendations-beyond-the-5-stars-part-2-d9b96aa399f5\n",
    "\n",
    "https://iopscience.iop.org/article/10.1088/1742-6596/930/1/012050/pdf\n",
    "\n"
   ]
  },
  {
   "cell_type": "code",
   "execution_count": null,
   "metadata": {},
   "outputs": [],
   "source": []
  }
 ],
 "metadata": {
  "kernelspec": {
   "display_name": "Python 3",
   "language": "python",
   "name": "python3"
  },
  "language_info": {
   "codemirror_mode": {
    "name": "ipython",
    "version": 3
   },
   "file_extension": ".py",
   "mimetype": "text/x-python",
   "name": "python",
   "nbconvert_exporter": "python",
   "pygments_lexer": "ipython3",
   "version": "3.7.4"
  }
 },
 "nbformat": 4,
 "nbformat_minor": 4
}
