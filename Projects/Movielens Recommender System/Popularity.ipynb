{
 "cells": [
  {
   "cell_type": "markdown",
   "id": "4497f3f2-849c-473b-96d4-04e0b5252cab",
   "metadata": {},
   "source": [
    "# Popularity-Based Method"
   ]
  },
  {
   "cell_type": "code",
   "execution_count": 220,
   "id": "09be8182-a4ee-45a0-bcc2-d6333e54b14a",
   "metadata": {},
   "outputs": [],
   "source": [
    "import pandas as pd\n",
    "import numpy as np\n",
    "import matplotlib.pyplot as plt\n",
    "%matplotlib inline\n",
    "\n",
    "from datetime import datetime"
   ]
  },
  {
   "cell_type": "code",
   "execution_count": 221,
   "id": "469f7fd2-7926-41ff-8f3e-bcd16fede434",
   "metadata": {},
   "outputs": [],
   "source": [
    "ratings = pd.read_csv(\"./Data/ratings.csv\")\n",
    "movies = pd.read_csv(\"./Data/movies_v2.csv\")\n",
    "movies = movies.set_index('movieId')"
   ]
  },
  {
   "cell_type": "markdown",
   "id": "4ba4ee4b-46b4-4f16-afc1-c46b17c5716a",
   "metadata": {
    "tags": []
   },
   "source": [
    "## Overall Popularity\n",
    "\n",
    "How to measure? Number of users that have seen it + average rating"
   ]
  },
  {
   "cell_type": "code",
   "execution_count": 222,
   "id": "f66f1fc0-c8b1-4f1b-a2ae-e2f49624ba38",
   "metadata": {},
   "outputs": [
    {
     "data": {
      "text/plain": [
       "9724"
      ]
     },
     "execution_count": 222,
     "metadata": {},
     "output_type": "execute_result"
    }
   ],
   "source": [
    "ratings.movieId.nunique()"
   ]
  },
  {
   "cell_type": "code",
   "execution_count": 223,
   "id": "7a8f0704-0ce5-41b0-adc4-81d34184f98d",
   "metadata": {},
   "outputs": [],
   "source": [
    "pop_data = ratings.groupby('movieId').rating.agg(['mean', 'size', 'sum'])"
   ]
  },
  {
   "cell_type": "code",
   "execution_count": 224,
   "id": "d5703752-d99f-4dc6-96c6-3a4a0532c7ad",
   "metadata": {},
   "outputs": [
    {
     "data": {
      "text/plain": [
       "<AxesSubplot:>"
      ]
     },
     "execution_count": 224,
     "metadata": {},
     "output_type": "execute_result"
    },
    {
     "data": {
      "image/png": "[encoded data removed]",
      "text/plain": [
       "<Figure size 432x288 with 1 Axes>"
      ]
     },
     "metadata": {
      "needs_background": "light"
     },
     "output_type": "display_data"
    }
   ],
   "source": [
    "pop_data.sort_values('size')['size'].apply(np.log10).hist(bins=30)"
   ]
  },
  {
   "cell_type": "markdown",
   "id": "dacdbdc9-e44f-4e88-8008-1289986777e7",
   "metadata": {},
   "source": [
    "A lot of movies have only been watched once (close to one third). Therefore, consider recommending based on the sum of the ratings, as it considers quality and quantity of people that watched it."
   ]
  },
  {
   "cell_type": "code",
   "execution_count": 225,
   "id": "bd373ba6-6479-4bc0-b43d-6aec4056c0f5",
   "metadata": {},
   "outputs": [
    {
     "data": {
      "text/plain": [
       "movieId\n",
       "318              Shawshank Redemption, The\n",
       "356                           Forrest Gump\n",
       "296                           Pulp Fiction\n",
       "2571                           Matrix, The\n",
       "593              Silence of the Lambs, The\n",
       "260     Star Wars: Episode IV - A New Hope\n",
       "110                             Braveheart\n",
       "2959                            Fight Club\n",
       "527                       Schindler's List\n",
       "480                          Jurassic Park\n",
       "Name: title, dtype: object"
      ]
     },
     "execution_count": 225,
     "metadata": {},
     "output_type": "execute_result"
    }
   ],
   "source": [
    "top_n_sum = pop_data.sort_values('sum', ascending=False).index[:10]\n",
    "movies.loc[top_n_sum].title"
   ]
  },
  {
   "cell_type": "markdown",
   "id": "7fd837f5-7f49-4e3b-9902-0d6f77394c02",
   "metadata": {},
   "source": [
    "Encapsulating process in a function: "
   ]
  },
  {
   "cell_type": "code",
   "execution_count": 226,
   "id": "86b6efd3-6ab6-42ef-b001-997f350dc6b7",
   "metadata": {},
   "outputs": [],
   "source": [
    "def popularity(n, ratings, movies):\n",
    "    pop_data = ratings.groupby('movieId').rating.agg(['sum', 'mean'])\n",
    "    top_n_movies = pop_data['sum'].nlargest(n).index\n",
    "    \n",
    "    result = movies.loc[top_n_movies].merge(pop_data, on='movieId', how='inner')[['title', 'mean']]\n",
    "    result['mean'] = round(result['mean'], 2)\n",
    "    result.columns = ['Title', 'Average Rating']\n",
    "    result\n",
    "    return result.reset_index(drop=True)"
   ]
  },
  {
   "cell_type": "code",
   "execution_count": 227,
   "id": "40180f09-ccda-4cab-aee2-5ccc16100bd3",
   "metadata": {},
   "outputs": [
    {
     "data": {
      "text/html": [
       "<div>\n",
       "<style scoped>\n",
       "    .dataframe tbody tr th:only-of-type {\n",
       "        vertical-align: middle;\n",
       "    }\n",
       "\n",
       "    .dataframe tbody tr th {\n",
       "        vertical-align: top;\n",
       "    }\n",
       "\n",
       "    .dataframe thead th {\n",
       "        text-align: right;\n",
       "    }\n",
       "</style>\n",
       "<table border=\"1\" class=\"dataframe\">\n",
       "  <thead>\n",
       "    <tr style=\"text-align: right;\">\n",
       "      <th></th>\n",
       "      <th>Title</th>\n",
       "      <th>Average Rating</th>\n",
       "    </tr>\n",
       "  </thead>\n",
       "  <tbody>\n",
       "    <tr>\n",
       "      <th>0</th>\n",
       "      <td>Shawshank Redemption, The</td>\n",
       "      <td>4.43</td>\n",
       "    </tr>\n",
       "    <tr>\n",
       "      <th>1</th>\n",
       "      <td>Forrest Gump</td>\n",
       "      <td>4.16</td>\n",
       "    </tr>\n",
       "    <tr>\n",
       "      <th>2</th>\n",
       "      <td>Pulp Fiction</td>\n",
       "      <td>4.20</td>\n",
       "    </tr>\n",
       "    <tr>\n",
       "      <th>3</th>\n",
       "      <td>Matrix, The</td>\n",
       "      <td>4.19</td>\n",
       "    </tr>\n",
       "    <tr>\n",
       "      <th>4</th>\n",
       "      <td>Silence of the Lambs, The</td>\n",
       "      <td>4.16</td>\n",
       "    </tr>\n",
       "    <tr>\n",
       "      <th>5</th>\n",
       "      <td>Star Wars: Episode IV - A New Hope</td>\n",
       "      <td>4.23</td>\n",
       "    </tr>\n",
       "    <tr>\n",
       "      <th>6</th>\n",
       "      <td>Braveheart</td>\n",
       "      <td>4.03</td>\n",
       "    </tr>\n",
       "    <tr>\n",
       "      <th>7</th>\n",
       "      <td>Fight Club</td>\n",
       "      <td>4.27</td>\n",
       "    </tr>\n",
       "    <tr>\n",
       "      <th>8</th>\n",
       "      <td>Schindler's List</td>\n",
       "      <td>4.22</td>\n",
       "    </tr>\n",
       "    <tr>\n",
       "      <th>9</th>\n",
       "      <td>Jurassic Park</td>\n",
       "      <td>3.75</td>\n",
       "    </tr>\n",
       "  </tbody>\n",
       "</table>\n",
       "</div>"
      ],
      "text/plain": [
       "                                Title  Average Rating\n",
       "0           Shawshank Redemption, The            4.43\n",
       "1                        Forrest Gump            4.16\n",
       "2                        Pulp Fiction            4.20\n",
       "3                         Matrix, The            4.19\n",
       "4           Silence of the Lambs, The            4.16\n",
       "5  Star Wars: Episode IV - A New Hope            4.23\n",
       "6                          Braveheart            4.03\n",
       "7                          Fight Club            4.27\n",
       "8                    Schindler's List            4.22\n",
       "9                       Jurassic Park            3.75"
      ]
     },
     "execution_count": 227,
     "metadata": {},
     "output_type": "execute_result"
    }
   ],
   "source": [
    "popularity(10, ratings, movies)"
   ]
  },
  {
   "cell_type": "markdown",
   "id": "01ce4cd2-d080-462f-867a-86062e390361",
   "metadata": {},
   "source": [
    "## Popularity by Dates\n",
    "\n",
    "Consider dates to allow new movies to be recommended as well: "
   ]
  },
  {
   "cell_type": "code",
   "execution_count": 228,
   "id": "29d75c99-60a1-434a-a1ad-95f35d43dce5",
   "metadata": {},
   "outputs": [],
   "source": [
    "ratings['time'] = ratings.timestamp.apply(lambda x: datetime.fromtimestamp(x).strftime(\"%d-%m-%Y %I:%M:%S\"))\n",
    "ratings['time'] = pd.to_datetime(ratings.time, format = \"%d-%m-%Y %I:%M:%S\")\n",
    "ratings = ratings.drop('timestamp', axis=1)"
   ]
  },
  {
   "cell_type": "markdown",
   "id": "0e545978-f93f-4668-9d03-73fd15eab562",
   "metadata": {},
   "source": [
    "Create function to filter data by selected period: "
   ]
  },
  {
   "cell_type": "code",
   "execution_count": 188,
   "id": "4e1f2c34-066f-46c5-9a12-5f44b9e790ff",
   "metadata": {},
   "outputs": [],
   "source": [
    "def filter_time(ratings, by='all_time', num=1):\n",
    "    today = ratings.time.max()\n",
    "    if by == 'day': filter_date = today - pd.DateOffset(days=num)\n",
    "    elif by == 'month': filter_date = today - pd.DateOffset(months=num)\n",
    "    elif by == 'year': filter_date = today - pd.DateOffset(years=num)\n",
    "    else: filter_date = ratings.time.min()\n",
    "    return ratings[ratings.time > filter_date]"
   ]
  },
  {
   "cell_type": "code",
   "execution_count": 189,
   "id": "0374bddf-5cfc-4644-abff-d244cf2266a2",
   "metadata": {},
   "outputs": [],
   "source": [
    "def popularity_dates(n, ratings, movies, by='all_time', num=1):\n",
    "    ratings = filter_time(ratings, by, num)\n",
    "    return popularity(n, ratings, movies)"
   ]
  },
  {
   "cell_type": "code",
   "execution_count": 190,
   "id": "126cceaa-d55e-4207-a6e2-6ad690b380e9",
   "metadata": {},
   "outputs": [
    {
     "data": {
      "text/html": [
       "<div>\n",
       "<style scoped>\n",
       "    .dataframe tbody tr th:only-of-type {\n",
       "        vertical-align: middle;\n",
       "    }\n",
       "\n",
       "    .dataframe tbody tr th {\n",
       "        vertical-align: top;\n",
       "    }\n",
       "\n",
       "    .dataframe thead th {\n",
       "        text-align: right;\n",
       "    }\n",
       "</style>\n",
       "<table border=\"1\" class=\"dataframe\">\n",
       "  <thead>\n",
       "    <tr style=\"text-align: right;\">\n",
       "      <th></th>\n",
       "      <th>Title</th>\n",
       "      <th>Average Rating</th>\n",
       "    </tr>\n",
       "  </thead>\n",
       "  <tbody>\n",
       "    <tr>\n",
       "      <th>0</th>\n",
       "      <td>Dark Knight, The</td>\n",
       "      <td>4.75</td>\n",
       "    </tr>\n",
       "    <tr>\n",
       "      <th>1</th>\n",
       "      <td>Thor: Ragnarok</td>\n",
       "      <td>4.62</td>\n",
       "    </tr>\n",
       "    <tr>\n",
       "      <th>2</th>\n",
       "      <td>Inception</td>\n",
       "      <td>4.38</td>\n",
       "    </tr>\n",
       "    <tr>\n",
       "      <th>3</th>\n",
       "      <td>Black Panther</td>\n",
       "      <td>4.25</td>\n",
       "    </tr>\n",
       "    <tr>\n",
       "      <th>4</th>\n",
       "      <td>Dark Knight Rises, The</td>\n",
       "      <td>4.12</td>\n",
       "    </tr>\n",
       "    <tr>\n",
       "      <th>5</th>\n",
       "      <td>Avengers: Infinity War - Part I</td>\n",
       "      <td>4.00</td>\n",
       "    </tr>\n",
       "    <tr>\n",
       "      <th>6</th>\n",
       "      <td>Deadpool 2</td>\n",
       "      <td>3.75</td>\n",
       "    </tr>\n",
       "    <tr>\n",
       "      <th>7</th>\n",
       "      <td>Lord of the Rings: The Fellowship of the Ring,...</td>\n",
       "      <td>4.50</td>\n",
       "    </tr>\n",
       "    <tr>\n",
       "      <th>8</th>\n",
       "      <td>Lord of the Rings: The Two Towers, The</td>\n",
       "      <td>4.33</td>\n",
       "    </tr>\n",
       "    <tr>\n",
       "      <th>9</th>\n",
       "      <td>Lord of the Rings: The Return of the King, The</td>\n",
       "      <td>4.33</td>\n",
       "    </tr>\n",
       "  </tbody>\n",
       "</table>\n",
       "</div>"
      ],
      "text/plain": [
       "                                               Title  Average Rating\n",
       "0                                   Dark Knight, The            4.75\n",
       "1                                     Thor: Ragnarok            4.62\n",
       "2                                          Inception            4.38\n",
       "3                                      Black Panther            4.25\n",
       "4                             Dark Knight Rises, The            4.12\n",
       "5                    Avengers: Infinity War - Part I            4.00\n",
       "6                                         Deadpool 2            3.75\n",
       "7  Lord of the Rings: The Fellowship of the Ring,...            4.50\n",
       "8             Lord of the Rings: The Two Towers, The            4.33\n",
       "9     Lord of the Rings: The Return of the King, The            4.33"
      ]
     },
     "execution_count": 190,
     "metadata": {},
     "output_type": "execute_result"
    }
   ],
   "source": [
    "popularity_dates(10, ratings, movies, 'month', 1)"
   ]
  },
  {
   "cell_type": "markdown",
   "id": "7259602a-413e-432f-8486-ff6d99c53345",
   "metadata": {},
   "source": [
    "Allows for new movies to enter the scene!"
   ]
  },
  {
   "cell_type": "markdown",
   "id": "e6f93799-b23b-4a69-b9a6-8f194cc4b5b1",
   "metadata": {
    "tags": []
   },
   "source": [
    "## Popularity By Genre \n",
    "\n",
    "Also include the genre!"
   ]
  },
  {
   "cell_type": "code",
   "execution_count": 238,
   "id": "862f1445-960c-4398-8e66-4b38e2ef4c92",
   "metadata": {},
   "outputs": [],
   "source": [
    "def popularity_genre(n, ratings, movies, by='all_time', num=1, genre=None): \n",
    "    if genre: ratings = ratings[ratings.movieId.isin(movies[movies['Comedy'] == 1].index)]\n",
    "    ratings = filter_time(ratings, by, num)\n",
    "    return popularity(n, ratings, movies)"
   ]
  },
  {
   "cell_type": "code",
   "execution_count": 239,
   "id": "fc01a494-0b98-49c5-ab7b-90ebeda2fd86",
   "metadata": {},
   "outputs": [
    {
     "data": {
      "text/html": [
       "<div>\n",
       "<style scoped>\n",
       "    .dataframe tbody tr th:only-of-type {\n",
       "        vertical-align: middle;\n",
       "    }\n",
       "\n",
       "    .dataframe tbody tr th {\n",
       "        vertical-align: top;\n",
       "    }\n",
       "\n",
       "    .dataframe thead th {\n",
       "        text-align: right;\n",
       "    }\n",
       "</style>\n",
       "<table border=\"1\" class=\"dataframe\">\n",
       "  <thead>\n",
       "    <tr style=\"text-align: right;\">\n",
       "      <th></th>\n",
       "      <th>Title</th>\n",
       "      <th>Average Rating</th>\n",
       "    </tr>\n",
       "  </thead>\n",
       "  <tbody>\n",
       "    <tr>\n",
       "      <th>0</th>\n",
       "      <td>Deadpool 2</td>\n",
       "      <td>3.75</td>\n",
       "    </tr>\n",
       "    <tr>\n",
       "      <th>1</th>\n",
       "      <td>Kingsman: The Secret Service</td>\n",
       "      <td>3.83</td>\n",
       "    </tr>\n",
       "    <tr>\n",
       "      <th>2</th>\n",
       "      <td>In Bruges</td>\n",
       "      <td>5.00</td>\n",
       "    </tr>\n",
       "    <tr>\n",
       "      <th>3</th>\n",
       "      <td>Shaun of the Dead</td>\n",
       "      <td>4.75</td>\n",
       "    </tr>\n",
       "    <tr>\n",
       "      <th>4</th>\n",
       "      <td>Grand Budapest Hotel, The</td>\n",
       "      <td>4.75</td>\n",
       "    </tr>\n",
       "    <tr>\n",
       "      <th>5</th>\n",
       "      <td>Deadpool</td>\n",
       "      <td>4.50</td>\n",
       "    </tr>\n",
       "    <tr>\n",
       "      <th>6</th>\n",
       "      <td>Monty Python and the Holy Grail</td>\n",
       "      <td>4.25</td>\n",
       "    </tr>\n",
       "    <tr>\n",
       "      <th>7</th>\n",
       "      <td>Hot Fuzz</td>\n",
       "      <td>4.25</td>\n",
       "    </tr>\n",
       "    <tr>\n",
       "      <th>8</th>\n",
       "      <td>Burn After Reading</td>\n",
       "      <td>4.25</td>\n",
       "    </tr>\n",
       "    <tr>\n",
       "      <th>9</th>\n",
       "      <td>Wolf of Wall Street, The</td>\n",
       "      <td>4.25</td>\n",
       "    </tr>\n",
       "  </tbody>\n",
       "</table>\n",
       "</div>"
      ],
      "text/plain": [
       "                             Title  Average Rating\n",
       "0                       Deadpool 2            3.75\n",
       "1     Kingsman: The Secret Service            3.83\n",
       "2                        In Bruges            5.00\n",
       "3                Shaun of the Dead            4.75\n",
       "4        Grand Budapest Hotel, The            4.75\n",
       "5                         Deadpool            4.50\n",
       "6  Monty Python and the Holy Grail            4.25\n",
       "7                         Hot Fuzz            4.25\n",
       "8               Burn After Reading            4.25\n",
       "9         Wolf of Wall Street, The            4.25"
      ]
     },
     "execution_count": 239,
     "metadata": {},
     "output_type": "execute_result"
    }
   ],
   "source": [
    "popularity_genre(10, ratings, movies, by='month', num=1, genre='Comedy')"
   ]
  }
 ],
 "metadata": {
  "kernelspec": {
   "display_name": "Python 3 (ipykernel)",
   "language": "python",
   "name": "python3"
  },
  "language_info": {
   "codemirror_mode": {
    "name": "ipython",
    "version": 3
   },
   "file_extension": ".py",
   "mimetype": "text/x-python",
   "name": "python",
   "nbconvert_exporter": "python",
   "pygments_lexer": "ipython3",
   "version": "3.9.5"
  }
 },
 "nbformat": 4,
 "nbformat_minor": 5
}
