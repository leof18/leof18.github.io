{
 "cells": [
  {
   "cell_type": "markdown",
   "id": "019d06bb-f4f3-45ed-986e-41571023d2fd",
   "metadata": {},
   "source": [
    "# Recommender Class Abstraction"
   ]
  },
  {
   "cell_type": "code",
   "execution_count": 608,
   "id": "34e3c937-8ca6-4fbc-b225-1c72bb626e49",
   "metadata": {},
   "outputs": [],
   "source": [
    "import pandas as pd\n",
    "import numpy as np\n",
    "import pgeocode\n",
    "from datetime import datetime"
   ]
  },
  {
   "cell_type": "code",
   "execution_count": 311,
   "id": "0b6fd9c3-419b-465a-960a-75875bd66502",
   "metadata": {},
   "outputs": [
    {
     "name": "stderr",
     "output_type": "stream",
     "text": [
      "/opt/miniconda3/lib/python3.9/site-packages/IPython/core/interactiveshell.py:3441: DtypeWarning: Columns (30) have mixed types.Specify dtype option on import or set low_memory=False.\n",
      "  exec(code_obj, self.user_global_ns, self.user_ns)\n"
     ]
    }
   ],
   "source": [
    "data = pd.read_csv('./Data/data_content_based_v1.csv')"
   ]
  },
  {
   "cell_type": "code",
   "execution_count": 609,
   "id": "7a800517-a3d8-4043-b019-3f32997e5427",
   "metadata": {},
   "outputs": [],
   "source": [
    "ratings = pd.read_csv(\"./Data/ratings_v2.csv\")\n",
    "movies = pd.read_csv(\"./Data/movies_v2.csv\")\n",
    "users = pd.read_csv('./Data/u.user_v2.csv')\n",
    "\n",
    "# Other user data we need\n",
    "watched_movies = ratings.groupby('userId').movieId.agg([list, 'size'])\n",
    "preferred_genres = pd.read_csv('./Data/prefered_genre.csv')\n",
    "black_sheeps = pd.read_csv('./Data/black_sheeps.csv').drop('Unnamed: 0', axis=1)\n",
    "black_sheeps.black_sheep = black_sheeps.black_sheep.astype(bool)"
   ]
  },
  {
   "cell_type": "code",
   "execution_count": 610,
   "id": "f0771dfc-bb1f-4c10-83cd-f622f823fcd9",
   "metadata": {},
   "outputs": [],
   "source": [
    "ratings['time'] = ratings.timestamp.apply(lambda x: datetime.fromtimestamp(x).strftime(\"%d-%m-%Y %I:%M:%S\"))\n",
    "ratings['time'] = pd.to_datetime(ratings.time, format = \"%d-%m-%Y %I:%M:%S\")\n",
    "ratings = ratings.drop('timestamp', axis=1)"
   ]
  },
  {
   "cell_type": "code",
   "execution_count": 682,
   "id": "4b059027-b3a8-47f0-b517-262e582104bc",
   "metadata": {},
   "outputs": [],
   "source": [
    "def popularity(n):\n",
    "    pop_data = ratings.groupby('movieId').rating.agg(['sum', 'mean']).reset_index()\n",
    "    top_n_movies = pop_data['sum'].nlargest(10).index\n",
    "    top_n_movies = pop_data.loc[top_n_movies].movieId\n",
    "    result = movies.loc[movies.movieId.isin(top_n_movies)].merge(pop_data, on='movieId', how='inner')[['movieId', 'mean']]\n",
    "    return pd.Series(result['mean'], index=result['movieId'])\n",
    "\n",
    "def filter_time(by='all_time', num=1):\n",
    "    today = ratings.time.max()\n",
    "    if by == 'day': filter_date = today - pd.DateOffset(days=num)\n",
    "    elif by == 'month': filter_date = today - pd.DateOffset(months=num)\n",
    "    elif by == 'year': filter_date = today - pd.DateOffset(years=num)\n",
    "    else: filter_date = ratings.time.min()\n",
    "    return ratings[ratings.time > filter_date]\n",
    "\n",
    "def popularity_dates(n, by='all_time', num=1):\n",
    "    ratings = filter_time(ratings, by, num)\n",
    "    return popularity(n)\n",
    "\n",
    "def popularity_genre(n, by='all_time', num=1, genre='Comedy'): \n",
    "    global ratings\n",
    "    if genre: ratings = ratings[ratings.movieId.isin(movies[movies[genre] == 1].index)]\n",
    "    ratings = filter_time(by, num)\n",
    "    return popularity(n)"
   ]
  },
  {
   "cell_type": "code",
   "execution_count": 683,
   "id": "91494c54-eb43-4948-b847-283ebb95da6d",
   "metadata": {
    "tags": []
   },
   "outputs": [],
   "source": [
    "class User():\n",
    "    \n",
    "    def __init__(self, userId):\n",
    "        self.id = userId\n",
    "        self.is_new = self._is_new_user()\n",
    "        self.is_black_sheep = self._is_black_sheep()\n",
    "        self.watched_movies = self._watched_movies()\n",
    "    \n",
    "    \n",
    "    def _is_new_user(self):\n",
    "        if self.id not in ratings.userId.unique():\n",
    "            self.add_new_user()\n",
    "            return True\n",
    "        if watched_movies.loc[self.id, 'size'] < 5: # when does it stop being new? --> after our good model beats the new users model. \n",
    "            return True\n",
    "        return False\n",
    "        \n",
    "        \n",
    "    def _watched_movies(self): \n",
    "        return [] if self.is_new else watched_movies.loc[self.id, 'list']\n",
    "    \n",
    "    \n",
    "    def _is_black_sheep(self):\n",
    "        return False if self.is_new else black_sheeps.loc[black_sheeps.userId == self.id, 'black_sheep'].values[0]\n",
    "    \n",
    "    \n",
    "    def add_new_user(self):\n",
    "        global preferred_genres\n",
    "        global users\n",
    "        # Ask for Data\n",
    "        print(\"Welcome! We are happy to have you as a new customer (and that finally you left that Netflix crap!)\")\n",
    "        print(\"Tell us a bit more about yourself so that we can make better recommendations (you can skip this if you like!) \")\n",
    "        user_data = {'userId': self.id, \n",
    "                     'age': input(\"Age: \"), \n",
    "                     'gender': input(\"Gender: [M, F]: \"), \n",
    "                     'occupation': input(\"Occupation (head's up! it can only be one of: ['technician', 'other', 'writer', 'executive', 'administrator','student', 'lawyer', 'educator', 'scientist', 'entertainment', 'programmer', 'librarian', 'homemaker', 'artist', 'engineer','marketing', 'healthcare', 'retired', 'salesman', 'doctor']): \"),\n",
    "                     'zip_code': input(\"Zip Code (psssst! In practice we'd actually steal this info from you!): \")}\n",
    "        user_pf = {'userId': self.id, \n",
    "                   'preferred_genre': input('Any preferred genres? (You can skip this if you like!): ')}\n",
    "        print(\"Thank you! Enjoy watching our movies\")\n",
    "        \n",
    "        # Get state, place and coordinates from postal code: \n",
    "        nomi = pgeocode.Nominatim('us')\n",
    "        geolocation = nomi.query_postal_code(user_data['zip_code'])[['place_name', 'state_name', 'latitude', 'longitude']]\n",
    "        user_data.update(dict(geolocation))\n",
    "        \n",
    "        # Add to User's Database: \n",
    "        users = users.append(user_data, ignore_index=True)\n",
    "        users = users.apply(lambda y: y.apply(lambda x: np.nan if x == '' else x))\n",
    "        preferred_genres = preferred_genres.append(user_pf, ignore_index=True)"
   ]
  },
  {
   "cell_type": "code",
   "execution_count": 684,
   "id": "55a6db6e-079d-4ad3-b7e8-9c14023c79fb",
   "metadata": {},
   "outputs": [],
   "source": [
    "class RecommenderMovie(): \n",
    "    \n",
    "    def __init__(self):\n",
    "        self.old_user_CF = joblib.load('./Models/old_user_CF.pkl')\n",
    "        self.new_old_user_CB = joblib.load('./Models/new_old_user_CB.pkl')\n",
    "        self.hybrid_weight_CF = 0.65\n",
    "        self.new_user_popularity = popularity_genre\n",
    "        self.black_sheep_CF = None\n",
    "    \n",
    "    # Predictions: \n",
    "    \n",
    "    def show_recommendations(self, user):\n",
    "        preds = self._predict(user)\n",
    "        recommend = preds.reset_index().merge(movies, how='left', on='movieId').sort_values('predicted_rating', ascending=False)\n",
    "        recommend.reset_index().apply(lambda movie: self._format_movie(movie), axis=1)\n",
    "        \n",
    "        \n",
    "    def _format_movie(self, movie):\n",
    "        genres = movie[5:][movie[5:] == 1].index\n",
    "        print(f\"\\n{movie['index'] + 1}: {movie['title']} ({int(movie['year'])})\\n\\t {str([i for i in genres])[1:-1]}\")\n",
    "    \n",
    "    \n",
    "    def _predict(self, user):\n",
    "        if user.is_new: \n",
    "            preds = self._predict_new_user(user)\n",
    "        elif user.is_black_sheep:\n",
    "            preds = self._predict_black_sheep(user)\n",
    "        else: \n",
    "            preds = self._predict_old_user(user)\n",
    "        preds.index.name = 'movieId'\n",
    "        preds.name = 'predicted_rating'\n",
    "        return preds.sort_values(ascending=False)[:10]\n",
    "    \n",
    "    \n",
    "    def _predict_new_user(self, user):\n",
    "        movie_ids, data_CB = self._preprocess_data_user(user, include_data_CF=False)\n",
    "        if any(movie_ids): # We have info on new user\n",
    "            preds_CB = self.new_old_user_CB.predict(data_CB)\n",
    "            return pd.Series(preds_CB, index=movie_ids)\n",
    "        time = input('Find the most popular movies! Filter by time: ')\n",
    "        genre = input('\\nFilter by genre: ')\n",
    "        return self.new_user_popularity(10, 'years', time, genre)\n",
    "        \n",
    "    \n",
    "    \n",
    "    def _predict_black_sheep(self, user):\n",
    "        pass \n",
    "\n",
    "    \n",
    "    def _predict_old_user(self, user):\n",
    "        # Make individual predictions after making the data to predict all items\n",
    "        movie_ids, data_CF, data_CB = self._preprocess_data_user(user, include_data_CF=True)\n",
    "        preds_CF = [self.old_user_CF.predict(userId, movieId).est for userId, movieId in zip(*data_CF)]\n",
    "        preds_CB = self.new_old_user_CB.predict(data_CB)\n",
    "        \n",
    "        # Make hybrid model\n",
    "        preds = [pred_CF*self.hybrid_weight_CF + pred_CB*(1 - self.hybrid_weight_CF) for pred_CF, pred_CB in zip(preds_CF, preds_CB)]\n",
    "        return pd.Series(preds, index=movie_ids)\n",
    "\n",
    "    \n",
    "    def _preprocess_data_user(self, user, include_data_CF):\n",
    "        rate_movies = sorted([i for i in ratings.movieId.unique() if i not in user.watched_movies])\n",
    "        \n",
    "        # CB Data\n",
    "        data_CF = ([user.id]*len(rate_movies), rate_movies)\n",
    "        \n",
    "        # CB Data\n",
    "        movies_processed = movies.drop('title', axis=1)[movies.movieId.isin(rate_movies)].sort_values('movieId')\n",
    "        users_info = users.drop(['zip_code', 'place_name', 'userId'], axis=1)[users.userId == user.id] \n",
    "        if users_info.isna().sum().sum() != 0: return ([], []) # User does not give personal data\n",
    "        data_CB = movies_processed.reset_index(drop=True).drop('movieId', axis=1).join(users_info).ffill()\n",
    "        \n",
    "        return (rate_movies, data_CF, data_CB) if include_data_CF else (rate_movies, data_CB)"
   ]
  },
  {
   "cell_type": "code",
   "execution_count": 685,
   "id": "93fd33eb-7e13-4f8c-89a3-10fe4860f5ea",
   "metadata": {},
   "outputs": [
    {
     "name": "stdout",
     "output_type": "stream",
     "text": [
      "Welcome! We are happy to have you as a new customer (and that finally you left that Netflix crap!)\n",
      "Tell us a bit more about yourself so that we can make better recommendations (you can skip this if you like!) \n"
     ]
    },
    {
     "name": "stdin",
     "output_type": "stream",
     "text": [
      "Age:  \n",
      "Gender: [M, F]:  \n",
      "Occupation (head's up! it can only be one of: ['technician', 'other', 'writer', 'executive', 'administrator','student', 'lawyer', 'educator', 'scientist', 'entertainment', 'programmer', 'librarian', 'homemaker', 'artist', 'engineer','marketing', 'healthcare', 'retired', 'salesman', 'doctor']):  \n",
      "Zip Code (psssst! In practice we'd actually steal this info from you!):  \n",
      "Any preferred genres? (You can skip this if you like!):  \n"
     ]
    },
    {
     "name": "stdout",
     "output_type": "stream",
     "text": [
      "Thank you! Enjoy watching our movies\n"
     ]
    }
   ],
   "source": [
    "user = User(-10)"
   ]
  },
  {
   "cell_type": "code",
   "execution_count": 686,
   "id": "8b63c168-e609-40bf-bc9b-ae1a94ac2f7c",
   "metadata": {},
   "outputs": [
    {
     "data": {
      "text/plain": [
       "True"
      ]
     },
     "execution_count": 686,
     "metadata": {},
     "output_type": "execute_result"
    }
   ],
   "source": [
    "user.is_new"
   ]
  },
  {
   "cell_type": "code",
   "execution_count": 687,
   "id": "65d24e7a-35c4-46ed-bb73-e2bbf42d0bc8",
   "metadata": {},
   "outputs": [
    {
     "data": {
      "text/plain": [
       "False"
      ]
     },
     "execution_count": 687,
     "metadata": {},
     "output_type": "execute_result"
    }
   ],
   "source": [
    "user.is_black_sheep"
   ]
  },
  {
   "cell_type": "code",
   "execution_count": 688,
   "id": "7405d5ee-55c2-47d9-85ec-63b254a5d3bf",
   "metadata": {},
   "outputs": [],
   "source": [
    "recommender = RecommenderMovie()"
   ]
  },
  {
   "cell_type": "code",
   "execution_count": 689,
   "id": "6dc1d05b-5277-4d46-b1ef-ef3a2ec9cdcb",
   "metadata": {},
   "outputs": [
    {
     "name": "stdin",
     "output_type": "stream",
     "text": [
      "Find the most popular movies! Filter by time:  4\n",
      "Filter by genre:  Romance\n"
     ]
    },
    {
     "name": "stdout",
     "output_type": "stream",
     "text": [
      "1: GoldenEye (1995)\n",
      "\t 'Action', 'Adventure', 'Thriller'\n",
      "\n",
      "2: Apocalypse Now (1979)\n",
      "\t 'Action', 'Drama', 'War'\n",
      "\n",
      "3: Ferris Bueller's Day Off (1986)\n",
      "\t 'Comedy'\n",
      "\n",
      "4: X-Men (2000)\n",
      "\t 'Action', 'Adventure', 'Sci-Fi'\n",
      "\n",
      "5: Donnie Darko (2001)\n",
      "\t 'Drama', 'Mystery', 'Sci-Fi', 'Thriller'\n",
      "\n",
      "6: Harry Potter and the Sorcerer's Stone (a.k.a. Harry Potter and the Philosopher's Stone) (2001)\n",
      "\t 'Adventure', 'Children', 'Fantasy'\n",
      "\n",
      "7: Minority Report (2002)\n",
      "\t 'Action', 'Crime', 'Mystery', 'Sci-Fi', 'Thriller'\n",
      "\n",
      "8: Catch Me If You Can (2002)\n",
      "\t 'Crime', 'Drama'\n",
      "\n",
      "9: Lord of the Rings: The Return of the King, The (2003)\n",
      "\t 'Action', 'Adventure', 'Drama', 'Fantasy'\n",
      "\n",
      "10: Kill Bill: Vol. 2 (2004)\n",
      "\t 'Action', 'Drama', 'Thriller'\n",
      "\n"
     ]
    }
   ],
   "source": [
    "recommender.show_recommendations(user)"
   ]
  },
  {
   "cell_type": "markdown",
   "id": "d6468481-5110-4d17-87e4-f39a245da034",
   "metadata": {},
   "source": [
    "Limitations: \n",
    "- Work with denormalized data to make it easy for us, get a centralized data source. This should not be done as it is harder to mantaing data integrity, and slower as we need to perform a lot of aggregations to make some computations. We did it to make it easier for us\n",
    "- Run black sheeps alogirhtm again after we have a significantly large number of new users\n",
    "- Black sheeps: include all the data. because we will run content based as well. "
   ]
  },
  {
   "cell_type": "markdown",
   "id": "d96c346c-af4d-473b-b2b4-84e735ccd8eb",
   "metadata": {},
   "source": [
    "Another thing we need to do is: \n",
    "- Evaluate black sheep and new user recommendations\n",
    "- ... "
   ]
  }
 ],
 "metadata": {
  "kernelspec": {
   "display_name": "Python 3 (ipykernel)",
   "language": "python",
   "name": "python3"
  },
  "language_info": {
   "codemirror_mode": {
    "name": "ipython",
    "version": 3
   },
   "file_extension": ".py",
   "mimetype": "text/x-python",
   "name": "python",
   "nbconvert_exporter": "python",
   "pygments_lexer": "ipython3",
   "version": "3.9.7"
  }
 },
 "nbformat": 4,
 "nbformat_minor": 5
}
