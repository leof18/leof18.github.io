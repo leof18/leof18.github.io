{
 "cells": [
  {
   "cell_type": "markdown",
   "id": "dd6b0a98-2cf7-439c-952b-9161e63321f4",
   "metadata": {},
   "source": [
    "# Content Based Learning"
   ]
  },
  {
   "cell_type": "markdown",
   "id": "5a0cf081-1540-4806-946a-231791b807f7",
   "metadata": {},
   "source": [
    "Personalized Recommendations: \n",
    "\n",
    "In collaborative filtering, the basic assumption is that people with similar taste in the past will have similar taste in the future. If we closely observe, this assumption may not apply in all cases. For example, if my neighbors have rated the thriller movie The Exorcist highly, that movie should not be suggested to me since I have a preference for romantic movies. I should instead get Titanic, which is of the romance genre, as a suggestion. I do not always have the same taste as my neighbors; I would be happy if I got suggestions solely based on my preferences and actions. Businesses have seen a lot of business opportunities in implementing these types of recommendations, known as personalized recommender systems, at an individual level.\n",
    "\n",
    "In content-based recommender systems, we use the content information of both users and items while building recommendation engines. A typical content-based recommender system will perform the following steps:\n",
    "\n",
    "1. Generate user profiles.\n",
    "2. Generate item profile.\n",
    "3. Generate the recommendation engine model. \n",
    "4. Suggest the top N recommendations.\n",
    "\n",
    "If we have no user information, then we are merely trying to predict item rating based on "
   ]
  },
  {
   "cell_type": "code",
   "execution_count": 2,
   "id": "ba1501b7-dcc4-4f80-a8b6-0afa2549280b",
   "metadata": {},
   "outputs": [],
   "source": [
    "import sklearn"
   ]
  },
  {
   "cell_type": "code",
   "execution_count": 3,
   "id": "36c7ac51-632e-43c6-aef3-86872bc902e1",
   "metadata": {},
   "outputs": [],
   "source": [
    "import pandas as pd\n",
    "import numpy as np"
   ]
  },
  {
   "cell_type": "code",
   "execution_count": 4,
   "id": "cf791630-2a5a-45ac-b1b9-afede46843e2",
   "metadata": {},
   "outputs": [
    {
     "name": "stderr",
     "output_type": "stream",
     "text": [
      "/opt/miniconda3/lib/python3.9/site-packages/IPython/core/interactiveshell.py:3441: DtypeWarning: Columns (30) have mixed types.Specify dtype option on import or set low_memory=False.\n",
      "  exec(code_obj, self.user_global_ns, self.user_ns)\n"
     ]
    }
   ],
   "source": [
    "data = pd.read_csv('Data/data_content_based_v1.csv')"
   ]
  },
  {
   "cell_type": "code",
   "execution_count": 6,
   "id": "15fd8c2a-be42-486e-a445-5cd8a39c8528",
   "metadata": {},
   "outputs": [
    {
     "data": {
      "text/plain": [
       "array(['technician', 'other', 'writer', 'executive', 'administrator',\n",
       "       'student', 'lawyer', 'educator', 'scientist', 'entertainment',\n",
       "       'programmer', 'librarian', 'homemaker', 'artist', 'engineer',\n",
       "       'marketing', 'none', 'healthcare', 'retired', 'salesman', 'doctor'],\n",
       "      dtype=object)"
      ]
     },
     "execution_count": 6,
     "metadata": {},
     "output_type": "execute_result"
    }
   ],
   "source": [
    "data.occupation.unique()"
   ]
  },
  {
   "cell_type": "code",
   "execution_count": null,
   "id": "21b07ac7-a54b-40ad-8f03-54a1974f1b1b",
   "metadata": {},
   "outputs": [],
   "source": [
    "# load data\n",
    "X, y = data.drop('ratings', axis=1), data.ratings\n",
    "X_train, X_test, y_train, y_test = train_test_split(X, y, test_size=.2, random_state=42)\n",
    "\n",
    "# fit all models\n",
    "clf = LazyClassifier(predictions=True)\n",
    "models, predictions = clf.fit(X_train, X_test, y_train, y_test)"
   ]
  }
 ],
 "metadata": {
  "kernelspec": {
   "display_name": "Python 3 (ipykernel)",
   "language": "python",
   "name": "python3"
  },
  "language_info": {
   "codemirror_mode": {
    "name": "ipython",
    "version": 3
   },
   "file_extension": ".py",
   "mimetype": "text/x-python",
   "name": "python",
   "nbconvert_exporter": "python",
   "pygments_lexer": "ipython3",
   "version": "3.9.5"
  }
 },
 "nbformat": 4,
 "nbformat_minor": 5
}
