{
 "cells": [
  {
   "cell_type": "markdown",
   "id": "0af33ab9-45c3-4533-882d-ff197f60036a",
   "metadata": {
    "tags": []
   },
   "source": [
    "# Collaborative Filtering\n",
    "\n",
    "Steps: \n",
    "1. Select users (neighbors) that have common rated items with the active user\n",
    "2. Calculate the similarities between all neighbors and the active user\n",
    "3. Make the estimation by similarity of the neighbors of the active user\n",
    "4. Catch the most similar top-k neighbors\n",
    "5. Calculate the estimated rating of the active user using the chosen top-k\n",
    "\n",
    "Parameters: \n",
    "- Number of shared items when establishing similarity\n",
    "- Similarity function\n",
    "- k: how many neighoburs picked\n",
    "- Normalization when aggregating by neighbours"
   ]
  },
  {
   "cell_type": "code",
   "execution_count": 2,
   "id": "a4ab16e7-1b7e-441c-8a33-4ffc9dc7b6ba",
   "metadata": {},
   "outputs": [],
   "source": [
    "import pandas as pd\n",
    "import numpy as np\n",
    "import matplotlib.pyplot as plt\n",
    "%matplotlib inline\n",
    "plt.rcParams[\"figure.figsize\"] = (15,7)\n",
    "\n",
    "from surprise import Dataset, Reader\n",
    "from surprise import NormalPredictor, BaselineOnly, KNNBasic, KNNWithMeans, KNNWithZScore, KNNBaseline\n",
    "from surprise.model_selection import GridSearchCV, RandomizedSearchCV, cross_validate, KFold, train_test_split\n",
    "from surprise.accuracy import rmse\n",
    "\n",
    "from surprise import SVD, SVDpp, SlopeOne, NMF, CoClustering\n",
    "\n",
    "import random\n",
    "random_state = 42\n",
    "np.random.seed(random_state)\n",
    "random.seed(random_state)"
   ]
  },
  {
   "cell_type": "code",
   "execution_count": 3,
   "id": "c29f5710-0493-4eb4-b342-3ddc52f5a44e",
   "metadata": {},
   "outputs": [],
   "source": [
    "ratings = pd.read_csv(\"./Data/ratings_v2.csv\")\n",
    "ratings = ratings.drop('timestamp', axis=1)"
   ]
  },
  {
   "cell_type": "markdown",
   "id": "56d6dadf-1cc7-4020-98b9-b160398cd21a",
   "metadata": {},
   "source": [
    "## EDA & Preprocessing"
   ]
  },
  {
   "cell_type": "markdown",
   "id": "d66550c4-6dc9-4767-ab15-4bbebee3fd51",
   "metadata": {},
   "source": [
    "__Ratings for Each Movie__"
   ]
  },
  {
   "cell_type": "code",
   "execution_count": 4,
   "id": "a703d7a7-f024-442c-9641-f5a7c08008a8",
   "metadata": {},
   "outputs": [
    {
     "data": {
      "text/plain": [
       "<AxesSubplot:>"
      ]
     },
     "execution_count": 4,
     "metadata": {},
     "output_type": "execute_result"
    },
    {
     "data": {
      "image/png": "[encoded data removed]",
      "text/plain": [
       "<Figure size 1080x504 with 1 Axes>"
      ]
     },
     "metadata": {
      "needs_background": "light"
     },
     "output_type": "display_data"
    }
   ],
   "source": [
    "ratings.movieId.value_counts().hist(bins=30)"
   ]
  },
  {
   "cell_type": "code",
   "execution_count": 5,
   "id": "74c807ff-948e-4f2d-9877-2452c6258a08",
   "metadata": {},
   "outputs": [
    {
     "data": {
      "text/plain": [
       "1     3446\n",
       "2     1298\n",
       "3      800\n",
       "4      530\n",
       "5      382\n",
       "6      319\n",
       "7      278\n",
       "8      230\n",
       "9      172\n",
       "11     154\n",
       "Name: movieId, dtype: int64"
      ]
     },
     "execution_count": 5,
     "metadata": {},
     "output_type": "execute_result"
    }
   ],
   "source": [
    "ratings.movieId.value_counts().value_counts().head(10)"
   ]
  },
  {
   "cell_type": "markdown",
   "id": "1334054d-4c0c-471c-b19a-9fe0d2aa9da1",
   "metadata": {},
   "source": [
    "As we can see, a lot of movies were rated only once. This is a problem for collaborative filtering, as it relies on a big database in order to actually work. All predictions for movies with one rating will be the one rating already in training. Moreover, if some of those movies are in the test set, then it will be impossible to predict"
   ]
  },
  {
   "cell_type": "code",
   "execution_count": 6,
   "id": "cd3c686b-e397-41a2-b3ce-73dfcf1f8a9d",
   "metadata": {
    "tags": []
   },
   "outputs": [],
   "source": [
    "one_rating = (ratings.movieId.value_counts() == 1).reset_index()\n",
    "one_rating.columns = ['movieId', 'movies_one_rating']\n",
    "ratings = ratings.merge(one_rating, how='left', on='movieId')"
   ]
  },
  {
   "cell_type": "markdown",
   "id": "82d46c78-5d24-43ec-bbb0-dd74ded3c47a",
   "metadata": {},
   "source": [
    "## Modelling"
   ]
  },
  {
   "cell_type": "markdown",
   "id": "f5262ade-6f13-4bd8-b6a9-00c4e01d05a3",
   "metadata": {},
   "source": [
    "Take away movies with only one rating: "
   ]
  },
  {
   "cell_type": "code",
   "execution_count": 7,
   "id": "11c05835-3615-426a-9d2b-7736d76157b6",
   "metadata": {},
   "outputs": [],
   "source": [
    "ratings = ratings[~ratings.movies_one_rating]"
   ]
  },
  {
   "cell_type": "code",
   "execution_count": 8,
   "id": "319e6d79-d0f1-4616-beee-6f8d8baf13d4",
   "metadata": {
    "tags": []
   },
   "outputs": [],
   "source": [
    "reader = Reader(rating_scale=(1, 5))\n",
    "data = Dataset.load_from_df(ratings[['userId', 'movieId', 'rating']], reader)\n",
    "trainset, testset = train_test_split(data, test_size=.25)"
   ]
  },
  {
   "cell_type": "code",
   "execution_count": 9,
   "id": "fefcb87d-b97c-4fff-9c65-3d94ea00109d",
   "metadata": {
    "tags": []
   },
   "outputs": [],
   "source": [
    "# reader = Reader(rating_scale=(1, 5))\n",
    "# data = Dataset.load_from_df(ratings.loc[random.sample(sorted(ratings.index), 400), ['userId', 'movieId', 'rating']], reader)\n",
    "# trainset, testset = train_test_split(data, test_size=.25)"
   ]
  },
  {
   "cell_type": "markdown",
   "id": "03c082c3-c0a8-4223-bb6a-6004bd6a9338",
   "metadata": {},
   "source": [
    "Define the parameter grids"
   ]
  },
  {
   "cell_type": "code",
   "execution_count": 10,
   "id": "de50aa17-2be3-412d-816c-4dd9a8353088",
   "metadata": {},
   "outputs": [],
   "source": [
    "sim_options = {'name': ['cosine', 'msd', 'pearson', 'pearson_baseline'],\n",
    "               'user_based':[False], \n",
    "               'min_support': [2, 8]} # Number of common items for similarity to be different from 0\n",
    "\n",
    "knn_params = {'k':np.arange(30,51,5),\n",
    "            'min_k':[1, 2, 4],\n",
    "            'sim_options': sim_options}\n",
    "\n",
    "svd_params = {'n_factors':[50,100,150],\n",
    "              'n_epochs':[20,30],\n",
    "              'lr_all':[0.005,0.01],\n",
    "              'reg_all':[0.02,0.1]}"
   ]
  },
  {
   "cell_type": "code",
   "execution_count": 11,
   "id": "da91e5f8-68d5-4ece-ba62-6cb64ffa41ff",
   "metadata": {},
   "outputs": [],
   "source": [
    "sim_options = {'name': ['cosine',],\n",
    "               'user_based':[False], \n",
    "               'min_support': [2, 8]} # Number of common items for similarity to be different from 0\n",
    "\n",
    "knn_params = {'k':np.arange(30,51,5),\n",
    "            'min_k':[1, 2, 4],\n",
    "            'sim_options': sim_options}\n",
    "\n",
    "svd_params = {'n_factors':[50,100,150],\n",
    "              'n_epochs':[20,30],\n",
    "              'lr_all':[0.005,0.01],\n",
    "              'reg_all':[0.02,0.1]}"
   ]
  },
  {
   "cell_type": "markdown",
   "id": "147afbe5-aa4d-4e6f-be62-e598b947644f",
   "metadata": {},
   "source": [
    "Loop through models, optimizing the parameters to find the best one"
   ]
  },
  {
   "cell_type": "code",
   "execution_count": null,
   "id": "824bcf75-3d18-43b8-9c49-31ca98363e1a",
   "metadata": {},
   "outputs": [
    {
     "name": "stdout",
     "output_type": "stream",
     "text": [
      "Training NormalPredictor...\n",
      "Training KNNWithZScore...\n"
     ]
    }
   ],
   "source": [
    "# Define Algorithms and Vaidation Scheme\n",
    "models = (NormalPredictor, BaselineOnly, SlopeOne, CoClustering, # No Tuning\n",
    "          KNNBasic, KNNWithMeans, KNNWithZScore, KNNBaseline, \n",
    "          SVD, SVDpp)\n",
    "\n",
    "models = (NormalPredictor, KNNWithZScore)\n",
    "kf = KFold(random_state=random_state)\n",
    "\n",
    "# DataFrame to put results in\n",
    "results = pd.DataFrame({\"RMSE\":None, \n",
    "                        \"MAE\":None, \n",
    "                        \"Fit Time\": None, \n",
    "                        \"Test Time\": None, \n",
    "                        \"Parameters\":None}, index=[model.__name__ for model in models])\n",
    "\n",
    "# Optimize and train all models\n",
    "for model in models:\n",
    "    print(f'Training {model.__name__}...')\n",
    "    if model.__name__ in ('NormalPredictor', 'BaselineOnly', 'SlopeOne', 'CoClustering'): \n",
    "        out = cross_validate(model(), data, ['rmse', 'mae'], kf)\n",
    "        results.loc[model.__name__] = [round(np.mean(out['test_rmse']), 2), \n",
    "                                       round(np.mean(out['test_mae']), 2),\n",
    "                                       round(np.mean(out['fit_time']), 2),\n",
    "                                       round(np.mean(out['test_time']), 2), \n",
    "                                       None]\n",
    "        continue\n",
    "    elif model.__name__ [:3]== 'KNN':\n",
    "        tuned = GridSearchCV(model, knn_params, ['rmse', 'mae'], 5, n_jobs=-1)\n",
    "    else: \n",
    "        tuned = GridSearchCV(model, svd_params, ['rmse', 'mae'], 5, n_jobs=-1)\n",
    "    tuned.fit(data)\n",
    "    best_index = tuned.best_index['rmse']\n",
    "    cv_results = tuned.cv_results\n",
    "    results.loc[model.__name__] = [round(cv_results['mean_test_rmse'][best_index], 2), \n",
    "                                   round(cv_results['mean_test_rmse'][best_index], 2), \n",
    "                                   round(cv_results['mean_fit_time'][best_index], 2),\n",
    "                                   round(cv_results['mean_test_time'][best_index], 2),\n",
    "                                   cv_results['params'][best_index]]"
   ]
  },
  {
   "cell_type": "code",
   "execution_count": 308,
   "id": "12f9efd6-f526-4056-ab98-9bb5f838f34a",
   "metadata": {},
   "outputs": [],
   "source": [
    "# results.to_csv('./Data/results_collab_filtering_1.csv')"
   ]
  }
 ],
 "metadata": {
  "kernelspec": {
   "display_name": "Python 3 (ipykernel)",
   "language": "python",
   "name": "python3"
  },
  "language_info": {
   "codemirror_mode": {
    "name": "ipython",
    "version": 3
   },
   "file_extension": ".py",
   "mimetype": "text/x-python",
   "name": "python",
   "nbconvert_exporter": "python",
   "pygments_lexer": "ipython3",
   "version": "3.9.5"
  }
 },
 "nbformat": 4,
 "nbformat_minor": 5
}
